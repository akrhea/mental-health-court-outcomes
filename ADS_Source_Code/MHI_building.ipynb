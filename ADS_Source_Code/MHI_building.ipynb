{
 "cells": [
  {
   "cell_type": "markdown",
   "metadata": {},
   "source": [
    "### MHI_building: this notebook should be run first when starting from the beginning (or with new data).\n",
    "This notebook reads in the \"Dispositions\" and \"Sentencing\" files and checks to see which rows should be marked as having a mental health indicator (MHI). For example, if a row (case_participant_id) in the Sentencing dataset has a value of \"Inpatient Mental Health Services\" in the column \"Commitment Type\", this row would be marked as MHI = True."
   ]
  },
  {
   "cell_type": "code",
   "execution_count": 1,
   "metadata": {
    "colab": {},
    "colab_type": "code",
    "id": "1pdOijKbZ6vA"
   },
   "outputs": [],
   "source": [
    "import pandas as pd\n",
    "import numpy as np\n",
    "import copy\n",
    "import time\n",
    "\n",
    "disposition = pd.read_pickle('dispositions.pckl.gz', compression = 'gzip')\n",
    "sentencing = pd.read_pickle('sentencing.pckl.gz', compression = 'gzip')"
   ]
  },
  {
   "cell_type": "code",
   "execution_count": 2,
   "metadata": {},
   "outputs": [],
   "source": [
    "# Just getting the columns that contain MHI indicators\n",
    "sent_small = sentencing[['case_participant_id','charge_disposition', 'commitment_type', \n",
    "                         'charge_disposition_reason', 'sentence_type']]\n",
    "disp_small = disposition[['case_participant_id', 'charge_disposition_reason', 'charge_disposition']]\n",
    "disp_small = disp_small.rename(columns = {'charge_disposition_reason':'charge_disposition_reason_disp', \n",
    "                                          'charge_disposition': 'charge_disposition_disp'}) \n",
    "sent_disp = sent_small.append(disp_small,sort=True)"
   ]
  },
  {
   "cell_type": "code",
   "execution_count": 3,
   "metadata": {
    "colab": {
     "base_uri": "https://localhost:8080/",
     "height": 34
    },
    "colab_type": "code",
    "id": "Bg9Y0-UUZugh",
    "outputId": "03fbe032-d3e0-4f3d-aa61-5ecc63ae4399"
   },
   "outputs": [
    {
     "name": "stdout",
     "output_type": "stream",
     "text": [
      "total time: 1002.0644447803497\n"
     ]
    }
   ],
   "source": [
    "# Checking which rows should be marked as MHI true, this will take 5-10 minutes. \n",
    "\n",
    "df = copy.deepcopy(sent_disp)\n",
    "#df.columns = map(str.lower, df.columns)\n",
    "\n",
    "def reason_disp(series):\n",
    "    return (series == 'Mental Health Graduate').any()\n",
    "\n",
    "def disp(series):\n",
    "    return series.isin(['FNG Reason Insanity',\n",
    "                        'Finding Guilty But Mentally Ill',\n",
    "                        'Plea of Guilty But Mentally Ill',\n",
    "                        'Verdict Guilty But Mentally Ill',\n",
    "                        'Sexually Dangerous Person',\n",
    "                        ]).any()\n",
    "\n",
    "def commitment_type(series):\n",
    "    return series.isin(['Mental Health Probation',\n",
    "                        'Inpatient Mental Health Services',\n",
    "                        ]).any()\n",
    "\n",
    "def charge_disp(series):\n",
    "    return series.isin(['FNG Reason Insanity',\n",
    "                        'Finding Guilty But Mentally Ill',\n",
    "                        'Plea of Guilty But Mentally Ill',\n",
    "                        'Verdict Guilty But Mentally Ill',\n",
    "                        'Sexually Dangerous Person',\n",
    "                        ]).any()\n",
    "\n",
    "def charge_disp_reason(series):\n",
    "    return (series == 'Mental Health Graduate').any()\n",
    "\n",
    "def sentence_type(series):\n",
    "    return (series == 'Inpatient Mental Health Services').any()\n",
    "\n",
    "start_time = time.time()\n",
    "\n",
    "grouped = df.groupby('case_participant_id').agg({'sentence_type': sentence_type, \n",
    "                                                 'charge_disposition_reason_disp': reason_disp,\n",
    "                                                 'charge_disposition_disp': disp,\n",
    "                                                 'commitment_type': commitment_type,\n",
    "                                                 'charge_disposition': charge_disp,\n",
    "                                                 'charge_disposition_reason': charge_disp_reason,\n",
    "                                                 })\n",
    "\n",
    "grouped['MHI'] = grouped.any(axis=1)\n",
    "\n",
    "df = pd.merge(df, grouped['MHI'], left_on='case_participant_id', right_index=True)\n",
    "\n",
    "print('total time: {}'.format(time.time() - start_time))"
   ]
  },
  {
   "cell_type": "code",
   "execution_count": 4,
   "metadata": {
    "colab": {
     "base_uri": "https://localhost:8080/",
     "height": 419
    },
    "colab_type": "code",
    "id": "-CkjOH0gZyDG",
    "outputId": "8fcc87b6-06ba-47da-fd66-9f28dda273f1"
   },
   "outputs": [
    {
     "data": {
      "text/html": [
       "<div>\n",
       "<style scoped>\n",
       "    .dataframe tbody tr th:only-of-type {\n",
       "        vertical-align: middle;\n",
       "    }\n",
       "\n",
       "    .dataframe tbody tr th {\n",
       "        vertical-align: top;\n",
       "    }\n",
       "\n",
       "    .dataframe thead th {\n",
       "        text-align: right;\n",
       "    }\n",
       "</style>\n",
       "<table border=\"1\" class=\"dataframe\">\n",
       "  <thead>\n",
       "    <tr style=\"text-align: right;\">\n",
       "      <th></th>\n",
       "      <th>case_participant_id</th>\n",
       "      <th>MHI</th>\n",
       "    </tr>\n",
       "  </thead>\n",
       "  <tbody>\n",
       "    <tr>\n",
       "      <th>186</th>\n",
       "      <td>221334022779</td>\n",
       "      <td>True</td>\n",
       "    </tr>\n",
       "    <tr>\n",
       "      <th>1356</th>\n",
       "      <td>252358604006</td>\n",
       "      <td>True</td>\n",
       "    </tr>\n",
       "    <tr>\n",
       "      <th>1601</th>\n",
       "      <td>239071986813</td>\n",
       "      <td>True</td>\n",
       "    </tr>\n",
       "    <tr>\n",
       "      <th>1918</th>\n",
       "      <td>248157954693</td>\n",
       "      <td>True</td>\n",
       "    </tr>\n",
       "    <tr>\n",
       "      <th>2027</th>\n",
       "      <td>249897124820</td>\n",
       "      <td>True</td>\n",
       "    </tr>\n",
       "    <tr>\n",
       "      <th>...</th>\n",
       "      <td>...</td>\n",
       "      <td>...</td>\n",
       "    </tr>\n",
       "    <tr>\n",
       "      <th>783820</th>\n",
       "      <td>1072550274183</td>\n",
       "      <td>True</td>\n",
       "    </tr>\n",
       "    <tr>\n",
       "      <th>784049</th>\n",
       "      <td>1072643142491</td>\n",
       "      <td>True</td>\n",
       "    </tr>\n",
       "    <tr>\n",
       "      <th>810783</th>\n",
       "      <td>1085421680925</td>\n",
       "      <td>True</td>\n",
       "    </tr>\n",
       "    <tr>\n",
       "      <th>812943</th>\n",
       "      <td>1087004311669</td>\n",
       "      <td>True</td>\n",
       "    </tr>\n",
       "    <tr>\n",
       "      <th>820459</th>\n",
       "      <td>1096325733542</td>\n",
       "      <td>True</td>\n",
       "    </tr>\n",
       "  </tbody>\n",
       "</table>\n",
       "<p>2439 rows × 2 columns</p>\n",
       "</div>"
      ],
      "text/plain": [
       "        case_participant_id   MHI\n",
       "186            221334022779  True\n",
       "1356           252358604006  True\n",
       "1601           239071986813  True\n",
       "1918           248157954693  True\n",
       "2027           249897124820  True\n",
       "...                     ...   ...\n",
       "783820        1072550274183  True\n",
       "784049        1072643142491  True\n",
       "810783        1085421680925  True\n",
       "812943        1087004311669  True\n",
       "820459        1096325733542  True\n",
       "\n",
       "[2439 rows x 2 columns]"
      ]
     },
     "execution_count": 4,
     "metadata": {},
     "output_type": "execute_result"
    }
   ],
   "source": [
    "# Exporting file with just case_participant_ids where MHI = True\n",
    "MHI_true = df[df['MHI']]\n",
    "MHI_true_small = MHI_true[['case_participant_id', 'MHI']]\n",
    "MHI_dropdup = MHI_true_small.drop_duplicates()\n",
    "MHI_dropdup.to_csv('MHI_true.csv') \n",
    "\n",
    "MHI_dropdup"
   ]
  }
 ],
 "metadata": {
  "colab": {
   "name": "MHI_building.ipynb",
   "provenance": []
  },
  "kernelspec": {
   "display_name": "Python 3",
   "language": "python",
   "name": "python3"
  },
  "language_info": {
   "codemirror_mode": {
    "name": "ipython",
    "version": 3
   },
   "file_extension": ".py",
   "mimetype": "text/x-python",
   "name": "python",
   "nbconvert_exporter": "python",
   "pygments_lexer": "ipython3",
   "version": "3.7.6"
  }
 },
 "nbformat": 4,
 "nbformat_minor": 1
}
