{
 "cells": [
  {
   "cell_type": "code",
   "execution_count": 12,
   "metadata": {},
   "outputs": [],
   "source": [
    "import pandas as pd\n",
    "import numpy as np\n",
    "import matplotlib.pyplot as plt\n",
    "import seaborn as sns\n",
    "import datetime\n",
    "import pickle\n",
    "%matplotlib inline\n",
    "\n",
    "total_df = pd.read_pickle('total_df.pckl.gz', compression = 'gzip')"
   ]
  },
  {
   "cell_type": "code",
   "execution_count": 14,
   "metadata": {},
   "outputs": [
    {
     "name": "stdout",
     "output_type": "stream",
     "text": [
      "Number of numeric columns:  2840 \n",
      "\n",
      "AxesSubplot(0.125,0.125;0.775x0.755)\n"
     ]
    },
    {
     "data": {
      "image/png": "[encoded data removed]",
      "text/plain": [
       "<Figure size 432x288 with 1 Axes>"
      ]
     },
     "metadata": {
      "needs_background": "light"
     },
     "output_type": "display_data"
    }
   ],
   "source": [
    "'''\n",
    "Identifying numeric (non-boolean) columns \n",
    "and visualizing distribution/outliers with boxplot of charge_count\n",
    "'''\n",
    "\n",
    "bool_cols = [col for col in total_df if np.isin(total_df[col].dropna().unique(), [0, 1]).all()]\n",
    "non_bool = total_df.columns.difference(bool_cols)\n",
    "print('Number of numeric columns: ', len(non_bool), '\\n')\n",
    "print(sns.boxplot(x=total_df['charge_count']))"
   ]
  },
  {
   "cell_type": "code",
   "execution_count": null,
   "metadata": {},
   "outputs": [],
   "source": [
    "'''\n",
    "Function to return the fraction of positive instances in inputted subset\n",
    "'''\n",
    "\n",
    "def get_portion_true (subset):\n",
    "    num_true = len(subset[subset['MHI']==1])\n",
    "    return (num_true/len(subset))"
   ]
  },
  {
   "cell_type": "code",
   "execution_count": null,
   "metadata": {},
   "outputs": [],
   "source": [
    "''' \n",
    "FEATURE ENGINEERING FOR DATA ANAYLSIS:\n",
    "create days_since_received feature\n",
    "\n",
    "chose received because it's the only \"start\" date without missing values\n",
    "\n",
    "number of days calculated by subtracting \n",
    "from data upload date of December 02, 2019\n",
    "\n",
    "Useful for censoring analysis\n",
    "'''\n",
    "\n",
    "upload_date = pd.to_datetime(pd.datetime.strptime('12/2/2019', '%m/%d/%Y'))\n",
    "received_date_dt = pd.to_datetime(total_df.received_date)\n",
    "total_df['days_since_received'] = (upload_date - received_date_dt).astype(str)\n",
    "total_df['days_since_received'] = total_df['days_since_received'].map(lambda x: x.partition(' ')[0])\n",
    "total_df['days_since_received'] = total_df['days_since_received'].astype(int)"
   ]
  },
  {
   "cell_type": "code",
   "execution_count": null,
   "metadata": {},
   "outputs": [],
   "source": [
    "'''\n",
    "Data Analysis:\n",
    "Distribution of MHI over Time\n",
    "'''\n",
    "\n",
    "def plot_deciles(df, col):\n",
    "\n",
    "    #get the total number of rows in the df\n",
    "    n = len(df)\n",
    "\n",
    "    #sort df by column of interest\n",
    "    sorted_df = df.sort_values(by=[col])\n",
    "\n",
    "    #create deciles, ie bins of the column of interest\n",
    "    decile_1 = sorted_df.iloc[0:round(n/10)]\n",
    "    decile_2 = sorted_df.iloc[round(n/10):round(2*n/10)]\n",
    "    decile_3 = sorted_df.iloc[round(2*n/10):round(3*n/10)]\n",
    "    decile_4 = sorted_df.iloc[round(3*n/10):round(4*n/10)]\n",
    "    decile_5 = sorted_df.iloc[round(4*n/10):round(5*n/10)]\n",
    "    decile_6 = sorted_df.iloc[round(5*n/10):round(6*n/10)]\n",
    "    decile_7 = sorted_df.iloc[round(6*n/10):round(7*n/10)]\n",
    "    decile_8 = sorted_df.iloc[round(7*n/10):round(8*n/10)]\n",
    "    decile_9 = sorted_df.iloc[round(8*n/10):round(9*n/10)]\n",
    "    decile_10 = sorted_df.iloc[round(9*n/10):n]\n",
    "\n",
    "    #list of deciles\n",
    "    deciles = [decile_1, decile_2, decile_3, decile_4, decile_5, \n",
    "           decile_6, decile_7, decile_8, decile_9, decile_10]\n",
    "\n",
    "    #create list of portions\n",
    "    portions = [get_portion_true(x) for x in deciles]\n",
    "\n",
    "    #create string labels of earliest date in decile\n",
    "    labels = [str(x.iloc[0][col]) for x in deciles]\n",
    "\n",
    "    #plot\n",
    "    fig, ax = plt.subplots()\n",
    "    ax.bar(labels, portions, width=.55)\n",
    "    ax.set_xticklabels(labels, rotation = 90)\n",
    "    ax.set_ylabel('Portion of records with MHI==1')\n",
    "    plt.title('MHI by {}'.format(col))\n",
    "    plt.show()\n",
    "    return\n",
    "\n",
    "time_features_to_plot = ['received_date', 'days_since_received']\n",
    "\n",
    "for column in time_features_to_plot:\n",
    "      plot_deciles(total_df, column)"
   ]
  },
  {
   "cell_type": "code",
   "execution_count": null,
   "metadata": {},
   "outputs": [],
   "source": [
    "''' \n",
    "Data Analysis:\n",
    "Looking at MHI Base Rates\n",
    "Across Age\n",
    "'''\n",
    "\n",
    "plt.figure(figsize=(14,5))\n",
    "plt.subplot(1,2,1)\n",
    "plt.hist(total_df['age_at_incident'][total_df['MHI'] == 0], bins=15, alpha = 0.7, label = 'MHI False')\n",
    "plt.ylabel('Total Number of Incidences')\n",
    "plt.xlabel('Age at Incident')\n",
    "plt.title('Distribution of Age for Negative Cases')\n",
    "plt.show()\n",
    "\n",
    "plt.figure(figsize=(14,5))\n",
    "plt.subplot(1,2,1)\n",
    "plt.hist(total_df['age_at_incident'][total_df['MHI'] == 1], bins=15, alpha = 0.7, label = 'MHI True')\n",
    "plt.xlabel('Age at Incident')\n",
    "plt.ylabel('Total Number of Incidences')\n",
    "plt.title('Distribution of Age for Positive Cases')\n",
    "plt.show()"
   ]
  },
  {
   "cell_type": "code",
   "execution_count": null,
   "metadata": {},
   "outputs": [],
   "source": [
    "''' \n",
    "Data Analysis:\n",
    "Looking at MHI Base Rates\n",
    "Across Race\n",
    "'''\n",
    "\n",
    "races = ['black', 'hispanic', 'white [hispanic or latino]', \n",
    "         'white/black [hispanic or latino]', 'white', 'unknown', 'asian', \n",
    "         'biracial', 'american indian', 'albino']\n",
    "\n",
    "dummy_encoded_races = ['race_' + x for x in races]\n",
    "\n",
    "race_portions=[]\n",
    "for i in dummy_encoded_races:\n",
    "    race_portions.append(get_portion_true(total_df[total_df[i] == 1]))\n",
    "\n",
    "plt.bar(races, race_portions)\n",
    "plt.ylabel('MHI Rate')\n",
    "plt.xlabel('Race')\n",
    "plt.xticks(races, rotation='vertical')\n",
    "plt.show()"
   ]
  },
  {
   "cell_type": "code",
   "execution_count": null,
   "metadata": {},
   "outputs": [],
   "source": [
    "''' \n",
    "Data Analysis:\n",
    "Looking at MHI Base Rates\n",
    "Across Gender\n",
    "'''\n",
    "\n",
    "female = get_portion_true(total_df[total_df['gender_female'] == 1])\n",
    "male = get_portion_true(total_df[total_df['gender_male'] == 1])\n",
    "unknown = get_portion_true(total_df[total_df['gender_unknown'] == 1])\n",
    "\n",
    "gender_portions=[female, male, unknown]\n",
    "         \n",
    "plt.bar(['female','male', 'unknown'], gender_portions )\n",
    "plt.ylabel('MHI Rate')\n",
    "plt.xlabel('Gender')\n",
    "plt.show()"
   ]
  },
  {
   "cell_type": "code",
   "execution_count": null,
   "metadata": {},
   "outputs": [],
   "source": [
    "''' \n",
    "Data Analysis:\n",
    "Looking at MHI Base Rates\n",
    "For narcotics vs. non-narcotics cases\n",
    "\n",
    "using updated_offense_category_narcotics feature\n",
    "'''\n",
    "\n",
    "narcotics0 = get_portion_true(total_df[total_df['updated_offense_category_narcotics'] == 0])\n",
    "narcotics1 = get_portion_true(total_df[total_df['updated_offense_category_narcotics'] == 1])\n",
    "\n",
    "portions=[narcotics0, narcotics1]\n",
    "         \n",
    "plt.bar(['Non-narcotics','Narcotics'], portions )\n",
    "plt.ylabel('MHI Rate')\n",
    "plt.xlabel('Updated Offense Category')\n",
    "plt.show()"
   ]
  },
  {
   "cell_type": "code",
   "execution_count": null,
   "metadata": {},
   "outputs": [],
   "source": [
    "''' \n",
    "Data Analysis:\n",
    "Looking at MHI Base Rates\n",
    "Across Train/Validation/Test\n",
    "\n",
    "Calls get_train_val_test from Final_Data_Prep notebook\n",
    "Train/val/test split will be identical to split used for modelling\n",
    "Because splitting function strictly time-based, no randomness\n",
    "'''\n",
    "\n",
    "from Final_Data_Prep import get_train_val_test\n",
    "X_train, X_val, X_test, y_train, y_val, y_test = get_train_val_test (total_df, 0.7, 0.15, 0.15)\n",
    "  \n",
    "training_df = X_train.join(y_train)\n",
    "val_df = X_val.join(y_val)\n",
    "train_and_val_df = pd.concat([training_df, val_df], verify_integrity=True)\n",
    "test_df = X_test.join(y_test)\n",
    "\n",
    "print (\"Training base rate: \", get_portion_true(training_df))\n",
    "print (\"Validation base rate: \", get_portion_true(val_df))\n",
    "print (\"Training+Validation base rate: \", get_portion_true(train_and_val_df))\n",
    "print (\"Test base rate: \", get_portion_true(test_df))"
   ]
  }
 ],
 "metadata": {
  "kernelspec": {
   "display_name": "Python 3",
   "language": "python",
   "name": "python3"
  },
  "language_info": {
   "codemirror_mode": {
    "name": "ipython",
    "version": 3
   },
   "file_extension": ".py",
   "mimetype": "text/x-python",
   "name": "python",
   "nbconvert_exporter": "python",
   "pygments_lexer": "ipython3",
   "version": "3.7.4"
  }
 },
 "nbformat": 4,
 "nbformat_minor": 2
}
