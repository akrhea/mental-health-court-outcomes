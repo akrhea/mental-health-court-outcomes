{
 "cells": [
  {
   "cell_type": "code",
   "execution_count": 1,
   "metadata": {},
   "outputs": [],
   "source": [
    "from sklearn.ensemble import RandomForestClassifier, GradientBoostingClassifier\n",
    "from sklearn import metrics\n",
    "from sklearn.metrics import roc_curve, auc, roc_auc_score, recall_score\n",
    "import pandas as pd\n",
    "import numpy as np\n",
    "from sklearn.decomposition import PCA \n",
    "import pickle as pkl\n",
    "from random import sample \n",
    "from Final_Data_Prep import remove_final_dummy, get_train_test, downsample"
   ]
  },
  {
   "cell_type": "markdown",
   "metadata": {},
   "source": [
    "The notebook is adapted from Training the final model.ipynb, which was used in the original project. \n",
    "\n",
    "Below are the changes we have made to the original notebook:\n",
    "\n",
    "1) Reading the data in from a pickle rather than csv. This pickle was first created by Data_Prep.ipynb Jan 28, 2020 during an effort by Kelsey Markey and Alene Rhea to host this project on GitHub. The pickle was re-run April 2, 2020 to account for shifting remove_final_dummy to to Final_Data_Prep.py [note that this change is immaterial in this context.] It's possible that there are inconsistencies between the data read in from csv in the original notebook, and from the data read in via pickle. This question could be investigated, because the original csv still exists in the project Google Drive.\n",
    "\n",
    "2) Not dropping date and location columns, as this step was moved to Data_Prep.ipynb in January 2020.\n",
    "\n",
    "2) Using Final_Data_Prep.py for splitting and downsampling. This script was created in January 2020. All functionality is identical, although some print statements have been removed and dead/unreachable code has been deleted. Final_Data_Prep further updated April 2, 2020 to include function to remove final dummy column from each categorical function. (This functionality had been added in Jan 2020 to Data_Prep.ipynb.)\n",
    "\n",
    "3) Updating comments."
   ]
  },
  {
   "cell_type": "code",
   "execution_count": 2,
   "metadata": {},
   "outputs": [],
   "source": [
    "#read in data\n",
    "final_df = pd.read_pickle('total_df.pckl.gz', compression = 'gzip')\n",
    "\n",
    "#remove final dummy column from each categorical column\n",
    "#remove_final_dummy(final_df)\n",
    "\n",
    "#put earliest 85% of cases into training df, latest 15% of cases into test df\n",
    "training_df, test_df = get_train_test(final_df, train_size=0.85, test_size=0.15)\n",
    "\n",
    "# passing 50 to downsample function means training set will have 50% positive cases\n",
    "training_df = downsample(training_df, 50)\n",
    "\n",
    "X_train = training_df.drop('MHI', axis=1)\n",
    "y_train = training_df['MHI']\n",
    "\n",
    "X_test = test_df.drop('MHI', axis=1)\n",
    "y_test = test_df['MHI']"
   ]
  },
  {
   "cell_type": "code",
   "execution_count": null,
   "metadata": {},
   "outputs": [],
   "source": [
    "clf = GradientBoostingClassifier(random_state=42, max_depth = 3, \n",
    "                                 min_samples_leaf = 10, learning_rate=.01, \n",
    "                                 n_estimators=1000)\n",
    "clf.fit(X_train, y_train)\n",
    "y_pred = clf.predict(X_test)\n",
    "y_pred_proba = clf.predict_proba(X_test)\n",
    "fpr, tpr, thresholds = roc_curve(y_test, y_pred_proba[:,1])\n",
    "AUC = auc(fpr, tpr)\n",
    "recall = metrics.recall_score(y_test, y_pred)"
   ]
  },
  {
   "cell_type": "code",
   "execution_count": null,
   "metadata": {},
   "outputs": [],
   "source": [
    "import matplotlib\n",
    "import matplotlib.pyplot as plt\n",
    "%matplotlib inline\n",
    "\n",
    "plt.figure(figsize=(12,8))\n",
    "plt.plot(fpr, tpr, color='red')\n",
    "plt.plot([0, 1], [0, 1], color='darkblue', linestyle='--', \n",
    "         label='Gradient Boosted, AUC: {}, Sensitivity: {}'.format(AUC, recall))\n",
    "plt.xlabel('False Positive Rate')\n",
    "plt.ylabel('True Positive Rate')\n",
    "plt.title('Receiver Operating Characteristic (ROC) Curve')\n",
    "plt.legend()\n",
    "plt.show()"
   ]
  },
  {
   "cell_type": "code",
   "execution_count": null,
   "metadata": {},
   "outputs": [],
   "source": [
    "print('Recall: ', recall)\n",
    "print('AUC: ', AUC)\n",
    "print('Accuracy: ', metrics.accuracy_score(y_test, y_pred))\n",
    "print('Number of positive cases predicted: ', np.sum(y_pred))\n",
    "print('Actual number of positive cases in test set: ', np.sum(y_test))\n",
    "print('Predicted prevalence: ', np.sum(y_pred)/len(y_pred))\n",
    "print('Actual prevalence in test set: ', np.sum(y_test)/len(y_test))"
   ]
  },
  {
   "cell_type": "markdown",
   "metadata": {},
   "source": [
    "Jan 2020 results<br>\n",
    "\n",
    "Recall:  0.7846153846153846<br>\n",
    "AUC:  0.8410073633996564<br>\n",
    "Accuracy:  0.7656296842930609<br>\n",
    "Number of positive cases predicted:  10311<br>\n",
    "Actual number of positive cases in test set:  260<br>\n",
    "Predicted prevalence:  0.2377833636971612<br>\n",
    "Actual prevalence in test set:  0.0059958951179577055"
   ]
  },
  {
   "cell_type": "markdown",
   "metadata": {},
   "source": [
    "We still see some differences in these measures as compared to the original measures. In particular, the original recall was 0.761538461538, the original AUC was 0.83586007756, the original accuracy was 0.766321518345, the original number of positive cases predicted was 10269, and the original predicted prevalence was 0.23681479602426031. The measures on the actual test set are identical. This indicates that the January 2020 and April 2020 changes made to the data preparation process have had some effect on the model."
   ]
  },
  {
   "cell_type": "code",
   "execution_count": null,
   "metadata": {},
   "outputs": [],
   "source": []
  }
 ],
 "metadata": {
  "kernelspec": {
   "display_name": "Python 3",
   "language": "python",
   "name": "python3"
  },
  "language_info": {
   "codemirror_mode": {
    "name": "ipython",
    "version": 3
   },
   "file_extension": ".py",
   "mimetype": "text/x-python",
   "name": "python",
   "nbconvert_exporter": "python",
   "pygments_lexer": "ipython3",
   "version": "3.7.4"
  }
 },
 "nbformat": 4,
 "nbformat_minor": 4
}
