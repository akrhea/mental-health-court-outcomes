{
 "cells": [
  {
   "cell_type": "code",
   "execution_count": 1,
   "metadata": {},
   "outputs": [
    {
     "data": {
      "application/javascript": [
       "IPython.OutputArea.prototype._should_scroll = function(lines) {\n",
       "    return false;\n",
       "}\n"
      ],
      "text/plain": [
       "<IPython.core.display.Javascript object>"
      ]
     },
     "metadata": {},
     "output_type": "display_data"
    }
   ],
   "source": [
    "%%javascript\n",
    "IPython.OutputArea.prototype._should_scroll = function(lines) {\n",
    "    return false;\n",
    "}"
   ]
  },
  {
   "cell_type": "code",
   "execution_count": 2,
   "metadata": {},
   "outputs": [],
   "source": [
    "import pandas as pd\n",
    "import numpy as np\n",
    "import matplotlib.pyplot as plt\n",
    "import seaborn as sns\n",
    "import os\n",
    "\n",
    "os.chdir(\"..\")\n",
    "\n",
    "from IPython.display import display\n",
    "\n",
    "import sklearn.model_selection\n",
    "import sklearn.metrics\n",
    "import sklearn.datasets\n",
    "from sklearn.ensemble import GradientBoostingClassifier\n",
    "\n",
    "from Final_Data_Prep import remove_final_dummy, get_train_test, downsample\n",
    "\n",
    "%matplotlib inline\n",
    "\n",
    "import sys\n",
    "sys.path.append(\"../\")"
   ]
  },
  {
   "cell_type": "code",
   "execution_count": 3,
   "metadata": {},
   "outputs": [],
   "source": [
    "import warnings\n",
    "warnings.filterwarnings('ignore')"
   ]
  },
  {
   "cell_type": "code",
   "execution_count": 4,
   "metadata": {},
   "outputs": [],
   "source": [
    "# read in fresh copy of df\n",
    "df = pd.read_pickle('total_df.pckl.gz', compression = 'gzip')"
   ]
  },
  {
   "cell_type": "code",
   "execution_count": 5,
   "metadata": {},
   "outputs": [],
   "source": [
    "'''\n",
    "Data Prep (consistent with ADS as seen in Final_Gradient_Boosting_Model.ipynb)\n",
    "\n",
    "Performing prep on total_df (here called df), not decoded_df as above in LIME\n",
    "'''\n",
    "\n",
    "#put earliest 85% of cases into training df, latest 15% of cases into test df\n",
    "training, test = get_train_test(df, train_size=0.85, test_size=0.15)\n",
    "\n",
    "# passing 50 to downsample function means training set will have 50% positive cases\n",
    "training = downsample(training, 50)\n",
    "\n",
    "X_train = training.drop('MHI', axis=1)\n",
    "y_train = training['MHI']\n",
    "\n",
    "X_test = test.drop('MHI', axis=1)\n",
    "y_test = test['MHI']"
   ]
  },
  {
   "cell_type": "code",
   "execution_count": 6,
   "metadata": {},
   "outputs": [
    {
     "data": {
      "text/plain": [
       "GradientBoostingClassifier(ccp_alpha=0.0, criterion='friedman_mse', init=None,\n",
       "                           learning_rate=0.01, loss='deviance', max_depth=3,\n",
       "                           max_features=None, max_leaf_nodes=None,\n",
       "                           min_impurity_decrease=0.0, min_impurity_split=None,\n",
       "                           min_samples_leaf=10, min_samples_split=2,\n",
       "                           min_weight_fraction_leaf=0.0, n_estimators=1000,\n",
       "                           n_iter_no_change=None, presort='deprecated',\n",
       "                           random_state=42, subsample=1.0, tol=0.0001,\n",
       "                           validation_fraction=0.1, verbose=0,\n",
       "                           warm_start=False)"
      ]
     },
     "execution_count": 6,
     "metadata": {},
     "output_type": "execute_result"
    }
   ],
   "source": [
    "clf_total = GradientBoostingClassifier(random_state=42, max_depth = 3, \n",
    "                                       min_samples_leaf = 10, learning_rate=.01, \n",
    "                                       n_estimators=1000)\n",
    "clf_total.fit(X_train, y_train)"
   ]
  },
  {
   "cell_type": "code",
   "execution_count": 69,
   "metadata": {},
   "outputs": [],
   "source": [
    "def get_stats(X_sub, col):\n",
    "    ind = X_sub.index\n",
    "    y_sub = y_test[ind]\n",
    "    pred_sub = clf_total.predict(X_sub)\n",
    "    pred_proba_sub = clf_total.predict_proba(X_sub)\n",
    "    fpr, tpr, thresholds = sklearn.metrics.roc_curve(y_sub, pred_proba_sub[:,1])\n",
    "    confmat_sub = sklearn.metrics.confusion_matrix(y_sub, pred_sub, labels=[1,0])\n",
    "    tp = confmat_sub[0,0]\n",
    "    fp = confmat_sub[1,0]\n",
    "    fn = confmat_sub[0,1]\n",
    "    tn = confmat_sub[1,1]\n",
    "    stats = pd.DataFrame(data={col:[len(pred_sub), \n",
    "                                    round(sum(pred_sub)/len(pred_sub), 4),\n",
    "                                    round((tp+tn)/len(pred_sub), 4),\n",
    "                                    round(fn/(fn+tp), 4),\n",
    "                                    round(fp/(fp+tn), 4),\n",
    "                                    round(tp/(tp+fn), 4),\n",
    "                                    round(sklearn.metrics.auc(fpr, tpr), 4)]}, \n",
    "                 index=['Test Set Group Size (N)', 'Predicted Prevalence', \n",
    "                        'Accuracy', 'FNR', 'FPR', 'Recall', 'AUC'])\n",
    "    \n",
    "    stats = stats.T\n",
    "    stats['Test Set Group Size (N)'] = stats['Test Set Group Size (N)'].astype(int)\n",
    "    display(stats)\n",
    "    sklearn.metrics.plot_confusion_matrix(clf_total, X_sub, y_sub, labels=[1,0])\n",
    "    plt.show()\n",
    "    print('\\n')\n",
    "    return stats\n",
    "    \n",
    "    \n",
    "def subgroup_stats(category1, category2=None):\n",
    "    '''\n",
    "    Takes in 1 or 2 pre-OHE column names (e.g., 'race' and 'gender').\n",
    "    If 2 categories given, produces intersectional statistics.\n",
    "    '''\n",
    "    cols_1 = [x for x in X_test.columns if x.startswith(category1+'_')]\n",
    "    total_stats = get_stats(X_test, 'Overall')\n",
    "    if category2 !=None:\n",
    "        cols_2 = [x for x in X_test.columns if x.startswith(category2+'_')]\n",
    "        for y in cols_2:\n",
    "            X_sub = X_test[X_test[y]==1]\n",
    "            if len(X_sub)==0:\n",
    "                print(y,'\\n\\t No members of this subgroup present in the test set. \\n')\n",
    "            else:\n",
    "                sub_stats = get_stats(X_sub, y+', all '+category1+'s')\n",
    "                total_stats = pd.concat([total_stats, sub_stats])\n",
    "        for x in cols_1:\n",
    "            X_sub = X_test[X_test[x]==1]\n",
    "            if len(X_sub)==0:\n",
    "                print(x,'\\n\\t No members of this subgroup present in the test set. \\n')\n",
    "                continue\n",
    "            else:\n",
    "                sub_stats = get_stats(X_sub, x+', all '+category2+'s')\n",
    "                total_stats = pd.concat([total_stats, sub_stats])\n",
    "                for y in cols_2:\n",
    "                    X_sub = X_test[X_test[x]==1]\n",
    "                    X_sub = X_sub[X_sub[y]==1]\n",
    "                    if len(X_sub)==0:\n",
    "                        print(x+' and '+y,'\\n\\t No members of this subgroup present in the test set. \\n')\n",
    "                    else:\n",
    "                        sub_stats = get_stats(X_sub, x+' and '+y)\n",
    "                        total_stats = pd.concat([total_stats, sub_stats])\n",
    "    else:\n",
    "        for x in cols_1:\n",
    "            X_sub = X_test[X_test[x]==1]\n",
    "            if len(X_sub)==0:\n",
    "                print(x,'\\n\\t No members of this subgroup present in the test set. \\n')\n",
    "            else:\n",
    "                sub_stats = get_stats(X_sub, x)\n",
    "                total_stats = pd.concat([total_stats, sub_stats])\n",
    "    display(total_stats)\n",
    "    print('\\n')\n",
    "    return"
   ]
  },
  {
   "cell_type": "code",
   "execution_count": 70,
   "metadata": {},
   "outputs": [
    {
     "data": {
      "text/html": [
       "<div>\n",
       "<style scoped>\n",
       "    .dataframe tbody tr th:only-of-type {\n",
       "        vertical-align: middle;\n",
       "    }\n",
       "\n",
       "    .dataframe tbody tr th {\n",
       "        vertical-align: top;\n",
       "    }\n",
       "\n",
       "    .dataframe thead th {\n",
       "        text-align: right;\n",
       "    }\n",
       "</style>\n",
       "<table border=\"1\" class=\"dataframe\">\n",
       "  <thead>\n",
       "    <tr style=\"text-align: right;\">\n",
       "      <th></th>\n",
       "      <th>Test Set Group Size (N)</th>\n",
       "      <th>Predicted Prevalence</th>\n",
       "      <th>Accuracy</th>\n",
       "      <th>FNR</th>\n",
       "      <th>FPR</th>\n",
       "      <th>Recall</th>\n",
       "      <th>AUC</th>\n",
       "    </tr>\n",
       "  </thead>\n",
       "  <tbody>\n",
       "    <tr>\n",
       "      <th>Overall</th>\n",
       "      <td>43363</td>\n",
       "      <td>0.2384</td>\n",
       "      <td>0.7651</td>\n",
       "      <td>0.2077</td>\n",
       "      <td>0.235</td>\n",
       "      <td>0.7923</td>\n",
       "      <td>0.8411</td>\n",
       "    </tr>\n",
       "  </tbody>\n",
       "</table>\n",
       "</div>"
      ],
      "text/plain": [
       "         Test Set Group Size (N)  Predicted Prevalence  Accuracy     FNR  \\\n",
       "Overall                    43363                0.2384    0.7651  0.2077   \n",
       "\n",
       "           FPR  Recall     AUC  \n",
       "Overall  0.235  0.7923  0.8411  "
      ]
     },
     "metadata": {},
     "output_type": "display_data"
    },
    {
     "data": {
      "image/png": "[encoded data removed]",
      "text/plain": [
       "<Figure size 432x288 with 2 Axes>"
      ]
     },
     "metadata": {
      "needs_background": "light"
     },
     "output_type": "display_data"
    },
    {
     "name": "stdout",
     "output_type": "stream",
     "text": [
      "\n",
      "\n"
     ]
    },
    {
     "data": {
      "text/html": [
       "<div>\n",
       "<style scoped>\n",
       "    .dataframe tbody tr th:only-of-type {\n",
       "        vertical-align: middle;\n",
       "    }\n",
       "\n",
       "    .dataframe tbody tr th {\n",
       "        vertical-align: top;\n",
       "    }\n",
       "\n",
       "    .dataframe thead th {\n",
       "        text-align: right;\n",
       "    }\n",
       "</style>\n",
       "<table border=\"1\" class=\"dataframe\">\n",
       "  <thead>\n",
       "    <tr style=\"text-align: right;\">\n",
       "      <th></th>\n",
       "      <th>Test Set Group Size (N)</th>\n",
       "      <th>Predicted Prevalence</th>\n",
       "      <th>Accuracy</th>\n",
       "      <th>FNR</th>\n",
       "      <th>FPR</th>\n",
       "      <th>Recall</th>\n",
       "      <th>AUC</th>\n",
       "    </tr>\n",
       "  </thead>\n",
       "  <tbody>\n",
       "    <tr>\n",
       "      <th>gender_female</th>\n",
       "      <td>5582</td>\n",
       "      <td>0.6141</td>\n",
       "      <td>0.3968</td>\n",
       "      <td>0.0704</td>\n",
       "      <td>0.6101</td>\n",
       "      <td>0.9296</td>\n",
       "      <td>0.8228</td>\n",
       "    </tr>\n",
       "  </tbody>\n",
       "</table>\n",
       "</div>"
      ],
      "text/plain": [
       "               Test Set Group Size (N)  Predicted Prevalence  Accuracy  \\\n",
       "gender_female                     5582                0.6141    0.3968   \n",
       "\n",
       "                  FNR     FPR  Recall     AUC  \n",
       "gender_female  0.0704  0.6101  0.9296  0.8228  "
      ]
     },
     "metadata": {},
     "output_type": "display_data"
    },
    {
     "data": {
      "image/png": "[encoded data removed]",
      "text/plain": [
       "<Figure size 432x288 with 2 Axes>"
      ]
     },
     "metadata": {
      "needs_background": "light"
     },
     "output_type": "display_data"
    },
    {
     "name": "stdout",
     "output_type": "stream",
     "text": [
      "\n",
      "\n"
     ]
    },
    {
     "data": {
      "text/html": [
       "<div>\n",
       "<style scoped>\n",
       "    .dataframe tbody tr th:only-of-type {\n",
       "        vertical-align: middle;\n",
       "    }\n",
       "\n",
       "    .dataframe tbody tr th {\n",
       "        vertical-align: top;\n",
       "    }\n",
       "\n",
       "    .dataframe thead th {\n",
       "        text-align: right;\n",
       "    }\n",
       "</style>\n",
       "<table border=\"1\" class=\"dataframe\">\n",
       "  <thead>\n",
       "    <tr style=\"text-align: right;\">\n",
       "      <th></th>\n",
       "      <th>Test Set Group Size (N)</th>\n",
       "      <th>Predicted Prevalence</th>\n",
       "      <th>Accuracy</th>\n",
       "      <th>FNR</th>\n",
       "      <th>FPR</th>\n",
       "      <th>Recall</th>\n",
       "      <th>AUC</th>\n",
       "    </tr>\n",
       "  </thead>\n",
       "  <tbody>\n",
       "    <tr>\n",
       "      <th>gender_male</th>\n",
       "      <td>37546</td>\n",
       "      <td>0.1831</td>\n",
       "      <td>0.8194</td>\n",
       "      <td>0.2593</td>\n",
       "      <td>0.1802</td>\n",
       "      <td>0.7407</td>\n",
       "      <td>0.8395</td>\n",
       "    </tr>\n",
       "  </tbody>\n",
       "</table>\n",
       "</div>"
      ],
      "text/plain": [
       "             Test Set Group Size (N)  Predicted Prevalence  Accuracy     FNR  \\\n",
       "gender_male                    37546                0.1831    0.8194  0.2593   \n",
       "\n",
       "                FPR  Recall     AUC  \n",
       "gender_male  0.1802  0.7407  0.8395  "
      ]
     },
     "metadata": {},
     "output_type": "display_data"
    },
    {
     "data": {
      "image/png": "[encoded data removed]",
      "text/plain": [
       "<Figure size 432x288 with 2 Axes>"
      ]
     },
     "metadata": {
      "needs_background": "light"
     },
     "output_type": "display_data"
    },
    {
     "name": "stdout",
     "output_type": "stream",
     "text": [
      "\n",
      "\n"
     ]
    },
    {
     "data": {
      "text/html": [
       "<div>\n",
       "<style scoped>\n",
       "    .dataframe tbody tr th:only-of-type {\n",
       "        vertical-align: middle;\n",
       "    }\n",
       "\n",
       "    .dataframe tbody tr th {\n",
       "        vertical-align: top;\n",
       "    }\n",
       "\n",
       "    .dataframe thead th {\n",
       "        text-align: right;\n",
       "    }\n",
       "</style>\n",
       "<table border=\"1\" class=\"dataframe\">\n",
       "  <thead>\n",
       "    <tr style=\"text-align: right;\">\n",
       "      <th></th>\n",
       "      <th>Test Set Group Size (N)</th>\n",
       "      <th>Predicted Prevalence</th>\n",
       "      <th>Accuracy</th>\n",
       "      <th>FNR</th>\n",
       "      <th>FPR</th>\n",
       "      <th>Recall</th>\n",
       "      <th>AUC</th>\n",
       "    </tr>\n",
       "  </thead>\n",
       "  <tbody>\n",
       "    <tr>\n",
       "      <th>gender_unknown</th>\n",
       "      <td>235</td>\n",
       "      <td>0.1532</td>\n",
       "      <td>0.8468</td>\n",
       "      <td>NaN</td>\n",
       "      <td>0.1532</td>\n",
       "      <td>NaN</td>\n",
       "      <td>NaN</td>\n",
       "    </tr>\n",
       "  </tbody>\n",
       "</table>\n",
       "</div>"
      ],
      "text/plain": [
       "                Test Set Group Size (N)  Predicted Prevalence  Accuracy  FNR  \\\n",
       "gender_unknown                      235                0.1532    0.8468  NaN   \n",
       "\n",
       "                   FPR  Recall  AUC  \n",
       "gender_unknown  0.1532     NaN  NaN  "
      ]
     },
     "metadata": {},
     "output_type": "display_data"
    },
    {
     "data": {
      "image/png": "[encoded data removed]",
      "text/plain": [
       "<Figure size 432x288 with 2 Axes>"
      ]
     },
     "metadata": {
      "needs_background": "light"
     },
     "output_type": "display_data"
    },
    {
     "name": "stdout",
     "output_type": "stream",
     "text": [
      "\n",
      "\n"
     ]
    },
    {
     "data": {
      "text/html": [
       "<div>\n",
       "<style scoped>\n",
       "    .dataframe tbody tr th:only-of-type {\n",
       "        vertical-align: middle;\n",
       "    }\n",
       "\n",
       "    .dataframe tbody tr th {\n",
       "        vertical-align: top;\n",
       "    }\n",
       "\n",
       "    .dataframe thead th {\n",
       "        text-align: right;\n",
       "    }\n",
       "</style>\n",
       "<table border=\"1\" class=\"dataframe\">\n",
       "  <thead>\n",
       "    <tr style=\"text-align: right;\">\n",
       "      <th></th>\n",
       "      <th>Test Set Group Size (N)</th>\n",
       "      <th>Predicted Prevalence</th>\n",
       "      <th>Accuracy</th>\n",
       "      <th>FNR</th>\n",
       "      <th>FPR</th>\n",
       "      <th>Recall</th>\n",
       "      <th>AUC</th>\n",
       "    </tr>\n",
       "  </thead>\n",
       "  <tbody>\n",
       "    <tr>\n",
       "      <th>Overall</th>\n",
       "      <td>43363</td>\n",
       "      <td>0.2384</td>\n",
       "      <td>0.7651</td>\n",
       "      <td>0.2077</td>\n",
       "      <td>0.2350</td>\n",
       "      <td>0.7923</td>\n",
       "      <td>0.8411</td>\n",
       "    </tr>\n",
       "    <tr>\n",
       "      <th>gender_female</th>\n",
       "      <td>5582</td>\n",
       "      <td>0.6141</td>\n",
       "      <td>0.3968</td>\n",
       "      <td>0.0704</td>\n",
       "      <td>0.6101</td>\n",
       "      <td>0.9296</td>\n",
       "      <td>0.8228</td>\n",
       "    </tr>\n",
       "    <tr>\n",
       "      <th>gender_male</th>\n",
       "      <td>37546</td>\n",
       "      <td>0.1831</td>\n",
       "      <td>0.8194</td>\n",
       "      <td>0.2593</td>\n",
       "      <td>0.1802</td>\n",
       "      <td>0.7407</td>\n",
       "      <td>0.8395</td>\n",
       "    </tr>\n",
       "    <tr>\n",
       "      <th>gender_unknown</th>\n",
       "      <td>235</td>\n",
       "      <td>0.1532</td>\n",
       "      <td>0.8468</td>\n",
       "      <td>NaN</td>\n",
       "      <td>0.1532</td>\n",
       "      <td>NaN</td>\n",
       "      <td>NaN</td>\n",
       "    </tr>\n",
       "  </tbody>\n",
       "</table>\n",
       "</div>"
      ],
      "text/plain": [
       "                Test Set Group Size (N)  Predicted Prevalence  Accuracy  \\\n",
       "Overall                           43363                0.2384    0.7651   \n",
       "gender_female                      5582                0.6141    0.3968   \n",
       "gender_male                       37546                0.1831    0.8194   \n",
       "gender_unknown                      235                0.1532    0.8468   \n",
       "\n",
       "                   FNR     FPR  Recall     AUC  \n",
       "Overall         0.2077  0.2350  0.7923  0.8411  \n",
       "gender_female   0.0704  0.6101  0.9296  0.8228  \n",
       "gender_male     0.2593  0.1802  0.7407  0.8395  \n",
       "gender_unknown     NaN  0.1532     NaN     NaN  "
      ]
     },
     "metadata": {},
     "output_type": "display_data"
    },
    {
     "name": "stdout",
     "output_type": "stream",
     "text": [
      "\n",
      "\n"
     ]
    }
   ],
   "source": [
    "subgroup_stats('gender')"
   ]
  },
  {
   "cell_type": "code",
   "execution_count": 71,
   "metadata": {},
   "outputs": [
    {
     "data": {
      "text/html": [
       "<div>\n",
       "<style scoped>\n",
       "    .dataframe tbody tr th:only-of-type {\n",
       "        vertical-align: middle;\n",
       "    }\n",
       "\n",
       "    .dataframe tbody tr th {\n",
       "        vertical-align: top;\n",
       "    }\n",
       "\n",
       "    .dataframe thead th {\n",
       "        text-align: right;\n",
       "    }\n",
       "</style>\n",
       "<table border=\"1\" class=\"dataframe\">\n",
       "  <thead>\n",
       "    <tr style=\"text-align: right;\">\n",
       "      <th></th>\n",
       "      <th>Test Set Group Size (N)</th>\n",
       "      <th>Predicted Prevalence</th>\n",
       "      <th>Accuracy</th>\n",
       "      <th>FNR</th>\n",
       "      <th>FPR</th>\n",
       "      <th>Recall</th>\n",
       "      <th>AUC</th>\n",
       "    </tr>\n",
       "  </thead>\n",
       "  <tbody>\n",
       "    <tr>\n",
       "      <th>Overall</th>\n",
       "      <td>43363</td>\n",
       "      <td>0.2384</td>\n",
       "      <td>0.7651</td>\n",
       "      <td>0.2077</td>\n",
       "      <td>0.235</td>\n",
       "      <td>0.7923</td>\n",
       "      <td>0.8411</td>\n",
       "    </tr>\n",
       "  </tbody>\n",
       "</table>\n",
       "</div>"
      ],
      "text/plain": [
       "         Test Set Group Size (N)  Predicted Prevalence  Accuracy     FNR  \\\n",
       "Overall                    43363                0.2384    0.7651  0.2077   \n",
       "\n",
       "           FPR  Recall     AUC  \n",
       "Overall  0.235  0.7923  0.8411  "
      ]
     },
     "metadata": {},
     "output_type": "display_data"
    },
    {
     "data": {
      "image/png": "[encoded data removed]",
      "text/plain": [
       "<Figure size 432x288 with 2 Axes>"
      ]
     },
     "metadata": {
      "needs_background": "light"
     },
     "output_type": "display_data"
    },
    {
     "name": "stdout",
     "output_type": "stream",
     "text": [
      "\n",
      "\n",
      "race_albino \n",
      "\t No members of this subgroup present in the test set. \n",
      "\n"
     ]
    },
    {
     "data": {
      "text/html": [
       "<div>\n",
       "<style scoped>\n",
       "    .dataframe tbody tr th:only-of-type {\n",
       "        vertical-align: middle;\n",
       "    }\n",
       "\n",
       "    .dataframe tbody tr th {\n",
       "        vertical-align: top;\n",
       "    }\n",
       "\n",
       "    .dataframe thead th {\n",
       "        text-align: right;\n",
       "    }\n",
       "</style>\n",
       "<table border=\"1\" class=\"dataframe\">\n",
       "  <thead>\n",
       "    <tr style=\"text-align: right;\">\n",
       "      <th></th>\n",
       "      <th>Test Set Group Size (N)</th>\n",
       "      <th>Predicted Prevalence</th>\n",
       "      <th>Accuracy</th>\n",
       "      <th>FNR</th>\n",
       "      <th>FPR</th>\n",
       "      <th>Recall</th>\n",
       "      <th>AUC</th>\n",
       "    </tr>\n",
       "  </thead>\n",
       "  <tbody>\n",
       "    <tr>\n",
       "      <th>race_american indian</th>\n",
       "      <td>7</td>\n",
       "      <td>0.7143</td>\n",
       "      <td>0.2857</td>\n",
       "      <td>NaN</td>\n",
       "      <td>0.7143</td>\n",
       "      <td>NaN</td>\n",
       "      <td>NaN</td>\n",
       "    </tr>\n",
       "  </tbody>\n",
       "</table>\n",
       "</div>"
      ],
      "text/plain": [
       "                      Test Set Group Size (N)  Predicted Prevalence  Accuracy  \\\n",
       "race_american indian                        7                0.7143    0.2857   \n",
       "\n",
       "                      FNR     FPR  Recall  AUC  \n",
       "race_american indian  NaN  0.7143     NaN  NaN  "
      ]
     },
     "metadata": {},
     "output_type": "display_data"
    },
    {
     "data": {
      "image/png": "[encoded data removed]",
      "text/plain": [
       "<Figure size 432x288 with 2 Axes>"
      ]
     },
     "metadata": {
      "needs_background": "light"
     },
     "output_type": "display_data"
    },
    {
     "name": "stdout",
     "output_type": "stream",
     "text": [
      "\n",
      "\n"
     ]
    },
    {
     "data": {
      "text/html": [
       "<div>\n",
       "<style scoped>\n",
       "    .dataframe tbody tr th:only-of-type {\n",
       "        vertical-align: middle;\n",
       "    }\n",
       "\n",
       "    .dataframe tbody tr th {\n",
       "        vertical-align: top;\n",
       "    }\n",
       "\n",
       "    .dataframe thead th {\n",
       "        text-align: right;\n",
       "    }\n",
       "</style>\n",
       "<table border=\"1\" class=\"dataframe\">\n",
       "  <thead>\n",
       "    <tr style=\"text-align: right;\">\n",
       "      <th></th>\n",
       "      <th>Test Set Group Size (N)</th>\n",
       "      <th>Predicted Prevalence</th>\n",
       "      <th>Accuracy</th>\n",
       "      <th>FNR</th>\n",
       "      <th>FPR</th>\n",
       "      <th>Recall</th>\n",
       "      <th>AUC</th>\n",
       "    </tr>\n",
       "  </thead>\n",
       "  <tbody>\n",
       "    <tr>\n",
       "      <th>race_asian</th>\n",
       "      <td>224</td>\n",
       "      <td>0.3214</td>\n",
       "      <td>0.692</td>\n",
       "      <td>0.0</td>\n",
       "      <td>0.3122</td>\n",
       "      <td>1.0</td>\n",
       "      <td>0.8612</td>\n",
       "    </tr>\n",
       "  </tbody>\n",
       "</table>\n",
       "</div>"
      ],
      "text/plain": [
       "            Test Set Group Size (N)  Predicted Prevalence  Accuracy  FNR  \\\n",
       "race_asian                      224                0.3214     0.692  0.0   \n",
       "\n",
       "               FPR  Recall     AUC  \n",
       "race_asian  0.3122     1.0  0.8612  "
      ]
     },
     "metadata": {},
     "output_type": "display_data"
    },
    {
     "data": {
      "image/png": "[encoded data removed]",
      "text/plain": [
       "<Figure size 432x288 with 2 Axes>"
      ]
     },
     "metadata": {
      "needs_background": "light"
     },
     "output_type": "display_data"
    },
    {
     "name": "stdout",
     "output_type": "stream",
     "text": [
      "\n",
      "\n"
     ]
    },
    {
     "data": {
      "text/html": [
       "<div>\n",
       "<style scoped>\n",
       "    .dataframe tbody tr th:only-of-type {\n",
       "        vertical-align: middle;\n",
       "    }\n",
       "\n",
       "    .dataframe tbody tr th {\n",
       "        vertical-align: top;\n",
       "    }\n",
       "\n",
       "    .dataframe thead th {\n",
       "        text-align: right;\n",
       "    }\n",
       "</style>\n",
       "<table border=\"1\" class=\"dataframe\">\n",
       "  <thead>\n",
       "    <tr style=\"text-align: right;\">\n",
       "      <th></th>\n",
       "      <th>Test Set Group Size (N)</th>\n",
       "      <th>Predicted Prevalence</th>\n",
       "      <th>Accuracy</th>\n",
       "      <th>FNR</th>\n",
       "      <th>FPR</th>\n",
       "      <th>Recall</th>\n",
       "      <th>AUC</th>\n",
       "    </tr>\n",
       "  </thead>\n",
       "  <tbody>\n",
       "    <tr>\n",
       "      <th>race_biracial</th>\n",
       "      <td>5</td>\n",
       "      <td>0.2</td>\n",
       "      <td>0.8</td>\n",
       "      <td>NaN</td>\n",
       "      <td>0.2</td>\n",
       "      <td>NaN</td>\n",
       "      <td>NaN</td>\n",
       "    </tr>\n",
       "  </tbody>\n",
       "</table>\n",
       "</div>"
      ],
      "text/plain": [
       "               Test Set Group Size (N)  Predicted Prevalence  Accuracy  FNR  \\\n",
       "race_biracial                        5                   0.2       0.8  NaN   \n",
       "\n",
       "               FPR  Recall  AUC  \n",
       "race_biracial  0.2     NaN  NaN  "
      ]
     },
     "metadata": {},
     "output_type": "display_data"
    },
    {
     "data": {
      "image/png": "[encoded data removed]",
      "text/plain": [
       "<Figure size 432x288 with 2 Axes>"
      ]
     },
     "metadata": {
      "needs_background": "light"
     },
     "output_type": "display_data"
    },
    {
     "name": "stdout",
     "output_type": "stream",
     "text": [
      "\n",
      "\n"
     ]
    },
    {
     "data": {
      "text/html": [
       "<div>\n",
       "<style scoped>\n",
       "    .dataframe tbody tr th:only-of-type {\n",
       "        vertical-align: middle;\n",
       "    }\n",
       "\n",
       "    .dataframe tbody tr th {\n",
       "        vertical-align: top;\n",
       "    }\n",
       "\n",
       "    .dataframe thead th {\n",
       "        text-align: right;\n",
       "    }\n",
       "</style>\n",
       "<table border=\"1\" class=\"dataframe\">\n",
       "  <thead>\n",
       "    <tr style=\"text-align: right;\">\n",
       "      <th></th>\n",
       "      <th>Test Set Group Size (N)</th>\n",
       "      <th>Predicted Prevalence</th>\n",
       "      <th>Accuracy</th>\n",
       "      <th>FNR</th>\n",
       "      <th>FPR</th>\n",
       "      <th>Recall</th>\n",
       "      <th>AUC</th>\n",
       "    </tr>\n",
       "  </thead>\n",
       "  <tbody>\n",
       "    <tr>\n",
       "      <th>race_black</th>\n",
       "      <td>29269</td>\n",
       "      <td>0.2143</td>\n",
       "      <td>0.7889</td>\n",
       "      <td>0.2262</td>\n",
       "      <td>0.2111</td>\n",
       "      <td>0.7738</td>\n",
       "      <td>0.8407</td>\n",
       "    </tr>\n",
       "  </tbody>\n",
       "</table>\n",
       "</div>"
      ],
      "text/plain": [
       "            Test Set Group Size (N)  Predicted Prevalence  Accuracy     FNR  \\\n",
       "race_black                    29269                0.2143    0.7889  0.2262   \n",
       "\n",
       "               FPR  Recall     AUC  \n",
       "race_black  0.2111  0.7738  0.8407  "
      ]
     },
     "metadata": {},
     "output_type": "display_data"
    },
    {
     "data": {
      "image/png": "[encoded data removed]",
      "text/plain": [
       "<Figure size 432x288 with 2 Axes>"
      ]
     },
     "metadata": {
      "needs_background": "light"
     },
     "output_type": "display_data"
    },
    {
     "name": "stdout",
     "output_type": "stream",
     "text": [
      "\n",
      "\n"
     ]
    },
    {
     "data": {
      "text/html": [
       "<div>\n",
       "<style scoped>\n",
       "    .dataframe tbody tr th:only-of-type {\n",
       "        vertical-align: middle;\n",
       "    }\n",
       "\n",
       "    .dataframe tbody tr th {\n",
       "        vertical-align: top;\n",
       "    }\n",
       "\n",
       "    .dataframe thead th {\n",
       "        text-align: right;\n",
       "    }\n",
       "</style>\n",
       "<table border=\"1\" class=\"dataframe\">\n",
       "  <thead>\n",
       "    <tr style=\"text-align: right;\">\n",
       "      <th></th>\n",
       "      <th>Test Set Group Size (N)</th>\n",
       "      <th>Predicted Prevalence</th>\n",
       "      <th>Accuracy</th>\n",
       "      <th>FNR</th>\n",
       "      <th>FPR</th>\n",
       "      <th>Recall</th>\n",
       "      <th>AUC</th>\n",
       "    </tr>\n",
       "  </thead>\n",
       "  <tbody>\n",
       "    <tr>\n",
       "      <th>race_hispanic</th>\n",
       "      <td>446</td>\n",
       "      <td>0.1076</td>\n",
       "      <td>0.8946</td>\n",
       "      <td>0.0</td>\n",
       "      <td>0.1056</td>\n",
       "      <td>1.0</td>\n",
       "      <td>0.9933</td>\n",
       "    </tr>\n",
       "  </tbody>\n",
       "</table>\n",
       "</div>"
      ],
      "text/plain": [
       "               Test Set Group Size (N)  Predicted Prevalence  Accuracy  FNR  \\\n",
       "race_hispanic                      446                0.1076    0.8946  0.0   \n",
       "\n",
       "                  FPR  Recall     AUC  \n",
       "race_hispanic  0.1056     1.0  0.9933  "
      ]
     },
     "metadata": {},
     "output_type": "display_data"
    },
    {
     "data": {
      "image/png": "[encoded data removed]",
      "text/plain": [
       "<Figure size 432x288 with 2 Axes>"
      ]
     },
     "metadata": {
      "needs_background": "light"
     },
     "output_type": "display_data"
    },
    {
     "name": "stdout",
     "output_type": "stream",
     "text": [
      "\n",
      "\n"
     ]
    },
    {
     "data": {
      "text/html": [
       "<div>\n",
       "<style scoped>\n",
       "    .dataframe tbody tr th:only-of-type {\n",
       "        vertical-align: middle;\n",
       "    }\n",
       "\n",
       "    .dataframe tbody tr th {\n",
       "        vertical-align: top;\n",
       "    }\n",
       "\n",
       "    .dataframe thead th {\n",
       "        text-align: right;\n",
       "    }\n",
       "</style>\n",
       "<table border=\"1\" class=\"dataframe\">\n",
       "  <thead>\n",
       "    <tr style=\"text-align: right;\">\n",
       "      <th></th>\n",
       "      <th>Test Set Group Size (N)</th>\n",
       "      <th>Predicted Prevalence</th>\n",
       "      <th>Accuracy</th>\n",
       "      <th>FNR</th>\n",
       "      <th>FPR</th>\n",
       "      <th>Recall</th>\n",
       "      <th>AUC</th>\n",
       "    </tr>\n",
       "  </thead>\n",
       "  <tbody>\n",
       "    <tr>\n",
       "      <th>race_unknown</th>\n",
       "      <td>420</td>\n",
       "      <td>0.181</td>\n",
       "      <td>0.819</td>\n",
       "      <td>NaN</td>\n",
       "      <td>0.181</td>\n",
       "      <td>NaN</td>\n",
       "      <td>NaN</td>\n",
       "    </tr>\n",
       "  </tbody>\n",
       "</table>\n",
       "</div>"
      ],
      "text/plain": [
       "              Test Set Group Size (N)  Predicted Prevalence  Accuracy  FNR  \\\n",
       "race_unknown                      420                 0.181     0.819  NaN   \n",
       "\n",
       "                FPR  Recall  AUC  \n",
       "race_unknown  0.181     NaN  NaN  "
      ]
     },
     "metadata": {},
     "output_type": "display_data"
    },
    {
     "data": {
      "image/png": "[encoded data removed]",
      "text/plain": [
       "<Figure size 432x288 with 2 Axes>"
      ]
     },
     "metadata": {
      "needs_background": "light"
     },
     "output_type": "display_data"
    },
    {
     "name": "stdout",
     "output_type": "stream",
     "text": [
      "\n",
      "\n"
     ]
    },
    {
     "data": {
      "text/html": [
       "<div>\n",
       "<style scoped>\n",
       "    .dataframe tbody tr th:only-of-type {\n",
       "        vertical-align: middle;\n",
       "    }\n",
       "\n",
       "    .dataframe tbody tr th {\n",
       "        vertical-align: top;\n",
       "    }\n",
       "\n",
       "    .dataframe thead th {\n",
       "        text-align: right;\n",
       "    }\n",
       "</style>\n",
       "<table border=\"1\" class=\"dataframe\">\n",
       "  <thead>\n",
       "    <tr style=\"text-align: right;\">\n",
       "      <th></th>\n",
       "      <th>Test Set Group Size (N)</th>\n",
       "      <th>Predicted Prevalence</th>\n",
       "      <th>Accuracy</th>\n",
       "      <th>FNR</th>\n",
       "      <th>FPR</th>\n",
       "      <th>Recall</th>\n",
       "      <th>AUC</th>\n",
       "    </tr>\n",
       "  </thead>\n",
       "  <tbody>\n",
       "    <tr>\n",
       "      <th>race_white</th>\n",
       "      <td>6000</td>\n",
       "      <td>0.407</td>\n",
       "      <td>0.6005</td>\n",
       "      <td>0.1053</td>\n",
       "      <td>0.4023</td>\n",
       "      <td>0.8947</td>\n",
       "      <td>0.8423</td>\n",
       "    </tr>\n",
       "  </tbody>\n",
       "</table>\n",
       "</div>"
      ],
      "text/plain": [
       "            Test Set Group Size (N)  Predicted Prevalence  Accuracy     FNR  \\\n",
       "race_white                     6000                 0.407    0.6005  0.1053   \n",
       "\n",
       "               FPR  Recall     AUC  \n",
       "race_white  0.4023  0.8947  0.8423  "
      ]
     },
     "metadata": {},
     "output_type": "display_data"
    },
    {
     "data": {
      "image/png": "[encoded data removed]",
      "text/plain": [
       "<Figure size 432x288 with 2 Axes>"
      ]
     },
     "metadata": {
      "needs_background": "light"
     },
     "output_type": "display_data"
    },
    {
     "name": "stdout",
     "output_type": "stream",
     "text": [
      "\n",
      "\n"
     ]
    },
    {
     "data": {
      "text/html": [
       "<div>\n",
       "<style scoped>\n",
       "    .dataframe tbody tr th:only-of-type {\n",
       "        vertical-align: middle;\n",
       "    }\n",
       "\n",
       "    .dataframe tbody tr th {\n",
       "        vertical-align: top;\n",
       "    }\n",
       "\n",
       "    .dataframe thead th {\n",
       "        text-align: right;\n",
       "    }\n",
       "</style>\n",
       "<table border=\"1\" class=\"dataframe\">\n",
       "  <thead>\n",
       "    <tr style=\"text-align: right;\">\n",
       "      <th></th>\n",
       "      <th>Test Set Group Size (N)</th>\n",
       "      <th>Predicted Prevalence</th>\n",
       "      <th>Accuracy</th>\n",
       "      <th>FNR</th>\n",
       "      <th>FPR</th>\n",
       "      <th>Recall</th>\n",
       "      <th>AUC</th>\n",
       "    </tr>\n",
       "  </thead>\n",
       "  <tbody>\n",
       "    <tr>\n",
       "      <th>race_white [hispanic or latino]</th>\n",
       "      <td>6751</td>\n",
       "      <td>0.2023</td>\n",
       "      <td>0.799</td>\n",
       "      <td>0.3448</td>\n",
       "      <td>0.2004</td>\n",
       "      <td>0.6552</td>\n",
       "      <td>0.7919</td>\n",
       "    </tr>\n",
       "  </tbody>\n",
       "</table>\n",
       "</div>"
      ],
      "text/plain": [
       "                                 Test Set Group Size (N)  \\\n",
       "race_white [hispanic or latino]                     6751   \n",
       "\n",
       "                                 Predicted Prevalence  Accuracy     FNR  \\\n",
       "race_white [hispanic or latino]                0.2023     0.799  0.3448   \n",
       "\n",
       "                                    FPR  Recall     AUC  \n",
       "race_white [hispanic or latino]  0.2004  0.6552  0.7919  "
      ]
     },
     "metadata": {},
     "output_type": "display_data"
    },
    {
     "data": {
      "image/png": "[encoded data removed]",
      "text/plain": [
       "<Figure size 432x288 with 2 Axes>"
      ]
     },
     "metadata": {
      "needs_background": "light"
     },
     "output_type": "display_data"
    },
    {
     "name": "stdout",
     "output_type": "stream",
     "text": [
      "\n",
      "\n"
     ]
    },
    {
     "data": {
      "text/html": [
       "<div>\n",
       "<style scoped>\n",
       "    .dataframe tbody tr th:only-of-type {\n",
       "        vertical-align: middle;\n",
       "    }\n",
       "\n",
       "    .dataframe tbody tr th {\n",
       "        vertical-align: top;\n",
       "    }\n",
       "\n",
       "    .dataframe thead th {\n",
       "        text-align: right;\n",
       "    }\n",
       "</style>\n",
       "<table border=\"1\" class=\"dataframe\">\n",
       "  <thead>\n",
       "    <tr style=\"text-align: right;\">\n",
       "      <th></th>\n",
       "      <th>Test Set Group Size (N)</th>\n",
       "      <th>Predicted Prevalence</th>\n",
       "      <th>Accuracy</th>\n",
       "      <th>FNR</th>\n",
       "      <th>FPR</th>\n",
       "      <th>Recall</th>\n",
       "      <th>AUC</th>\n",
       "    </tr>\n",
       "  </thead>\n",
       "  <tbody>\n",
       "    <tr>\n",
       "      <th>race_white/black [hispanic or latino]</th>\n",
       "      <td>241</td>\n",
       "      <td>0.2282</td>\n",
       "      <td>0.7801</td>\n",
       "      <td>0.0</td>\n",
       "      <td>0.2218</td>\n",
       "      <td>1.0</td>\n",
       "      <td>1.0</td>\n",
       "    </tr>\n",
       "  </tbody>\n",
       "</table>\n",
       "</div>"
      ],
      "text/plain": [
       "                                       Test Set Group Size (N)  \\\n",
       "race_white/black [hispanic or latino]                      241   \n",
       "\n",
       "                                       Predicted Prevalence  Accuracy  FNR  \\\n",
       "race_white/black [hispanic or latino]                0.2282    0.7801  0.0   \n",
       "\n",
       "                                          FPR  Recall  AUC  \n",
       "race_white/black [hispanic or latino]  0.2218     1.0  1.0  "
      ]
     },
     "metadata": {},
     "output_type": "display_data"
    },
    {
     "data": {
      "image/png": "[encoded data removed]",
      "text/plain": [
       "<Figure size 432x288 with 2 Axes>"
      ]
     },
     "metadata": {
      "needs_background": "light"
     },
     "output_type": "display_data"
    },
    {
     "name": "stdout",
     "output_type": "stream",
     "text": [
      "\n",
      "\n"
     ]
    },
    {
     "data": {
      "text/html": [
       "<div>\n",
       "<style scoped>\n",
       "    .dataframe tbody tr th:only-of-type {\n",
       "        vertical-align: middle;\n",
       "    }\n",
       "\n",
       "    .dataframe tbody tr th {\n",
       "        vertical-align: top;\n",
       "    }\n",
       "\n",
       "    .dataframe thead th {\n",
       "        text-align: right;\n",
       "    }\n",
       "</style>\n",
       "<table border=\"1\" class=\"dataframe\">\n",
       "  <thead>\n",
       "    <tr style=\"text-align: right;\">\n",
       "      <th></th>\n",
       "      <th>Test Set Group Size (N)</th>\n",
       "      <th>Predicted Prevalence</th>\n",
       "      <th>Accuracy</th>\n",
       "      <th>FNR</th>\n",
       "      <th>FPR</th>\n",
       "      <th>Recall</th>\n",
       "      <th>AUC</th>\n",
       "    </tr>\n",
       "  </thead>\n",
       "  <tbody>\n",
       "    <tr>\n",
       "      <th>Overall</th>\n",
       "      <td>43363</td>\n",
       "      <td>0.2384</td>\n",
       "      <td>0.7651</td>\n",
       "      <td>0.2077</td>\n",
       "      <td>0.2350</td>\n",
       "      <td>0.7923</td>\n",
       "      <td>0.8411</td>\n",
       "    </tr>\n",
       "    <tr>\n",
       "      <th>race_american indian</th>\n",
       "      <td>7</td>\n",
       "      <td>0.7143</td>\n",
       "      <td>0.2857</td>\n",
       "      <td>NaN</td>\n",
       "      <td>0.7143</td>\n",
       "      <td>NaN</td>\n",
       "      <td>NaN</td>\n",
       "    </tr>\n",
       "    <tr>\n",
       "      <th>race_asian</th>\n",
       "      <td>224</td>\n",
       "      <td>0.3214</td>\n",
       "      <td>0.6920</td>\n",
       "      <td>0.0000</td>\n",
       "      <td>0.3122</td>\n",
       "      <td>1.0000</td>\n",
       "      <td>0.8612</td>\n",
       "    </tr>\n",
       "    <tr>\n",
       "      <th>race_biracial</th>\n",
       "      <td>5</td>\n",
       "      <td>0.2000</td>\n",
       "      <td>0.8000</td>\n",
       "      <td>NaN</td>\n",
       "      <td>0.2000</td>\n",
       "      <td>NaN</td>\n",
       "      <td>NaN</td>\n",
       "    </tr>\n",
       "    <tr>\n",
       "      <th>race_black</th>\n",
       "      <td>29269</td>\n",
       "      <td>0.2143</td>\n",
       "      <td>0.7889</td>\n",
       "      <td>0.2262</td>\n",
       "      <td>0.2111</td>\n",
       "      <td>0.7738</td>\n",
       "      <td>0.8407</td>\n",
       "    </tr>\n",
       "    <tr>\n",
       "      <th>race_hispanic</th>\n",
       "      <td>446</td>\n",
       "      <td>0.1076</td>\n",
       "      <td>0.8946</td>\n",
       "      <td>0.0000</td>\n",
       "      <td>0.1056</td>\n",
       "      <td>1.0000</td>\n",
       "      <td>0.9933</td>\n",
       "    </tr>\n",
       "    <tr>\n",
       "      <th>race_unknown</th>\n",
       "      <td>420</td>\n",
       "      <td>0.1810</td>\n",
       "      <td>0.8190</td>\n",
       "      <td>NaN</td>\n",
       "      <td>0.1810</td>\n",
       "      <td>NaN</td>\n",
       "      <td>NaN</td>\n",
       "    </tr>\n",
       "    <tr>\n",
       "      <th>race_white</th>\n",
       "      <td>6000</td>\n",
       "      <td>0.4070</td>\n",
       "      <td>0.6005</td>\n",
       "      <td>0.1053</td>\n",
       "      <td>0.4023</td>\n",
       "      <td>0.8947</td>\n",
       "      <td>0.8423</td>\n",
       "    </tr>\n",
       "    <tr>\n",
       "      <th>race_white [hispanic or latino]</th>\n",
       "      <td>6751</td>\n",
       "      <td>0.2023</td>\n",
       "      <td>0.7990</td>\n",
       "      <td>0.3448</td>\n",
       "      <td>0.2004</td>\n",
       "      <td>0.6552</td>\n",
       "      <td>0.7919</td>\n",
       "    </tr>\n",
       "    <tr>\n",
       "      <th>race_white/black [hispanic or latino]</th>\n",
       "      <td>241</td>\n",
       "      <td>0.2282</td>\n",
       "      <td>0.7801</td>\n",
       "      <td>0.0000</td>\n",
       "      <td>0.2218</td>\n",
       "      <td>1.0000</td>\n",
       "      <td>1.0000</td>\n",
       "    </tr>\n",
       "  </tbody>\n",
       "</table>\n",
       "</div>"
      ],
      "text/plain": [
       "                                       Test Set Group Size (N)  \\\n",
       "Overall                                                  43363   \n",
       "race_american indian                                         7   \n",
       "race_asian                                                 224   \n",
       "race_biracial                                                5   \n",
       "race_black                                               29269   \n",
       "race_hispanic                                              446   \n",
       "race_unknown                                               420   \n",
       "race_white                                                6000   \n",
       "race_white [hispanic or latino]                           6751   \n",
       "race_white/black [hispanic or latino]                      241   \n",
       "\n",
       "                                       Predicted Prevalence  Accuracy     FNR  \\\n",
       "Overall                                              0.2384    0.7651  0.2077   \n",
       "race_american indian                                 0.7143    0.2857     NaN   \n",
       "race_asian                                           0.3214    0.6920  0.0000   \n",
       "race_biracial                                        0.2000    0.8000     NaN   \n",
       "race_black                                           0.2143    0.7889  0.2262   \n",
       "race_hispanic                                        0.1076    0.8946  0.0000   \n",
       "race_unknown                                         0.1810    0.8190     NaN   \n",
       "race_white                                           0.4070    0.6005  0.1053   \n",
       "race_white [hispanic or latino]                      0.2023    0.7990  0.3448   \n",
       "race_white/black [hispanic or latino]                0.2282    0.7801  0.0000   \n",
       "\n",
       "                                          FPR  Recall     AUC  \n",
       "Overall                                0.2350  0.7923  0.8411  \n",
       "race_american indian                   0.7143     NaN     NaN  \n",
       "race_asian                             0.3122  1.0000  0.8612  \n",
       "race_biracial                          0.2000     NaN     NaN  \n",
       "race_black                             0.2111  0.7738  0.8407  \n",
       "race_hispanic                          0.1056  1.0000  0.9933  \n",
       "race_unknown                           0.1810     NaN     NaN  \n",
       "race_white                             0.4023  0.8947  0.8423  \n",
       "race_white [hispanic or latino]        0.2004  0.6552  0.7919  \n",
       "race_white/black [hispanic or latino]  0.2218  1.0000  1.0000  "
      ]
     },
     "metadata": {},
     "output_type": "display_data"
    },
    {
     "name": "stdout",
     "output_type": "stream",
     "text": [
      "\n",
      "\n"
     ]
    }
   ],
   "source": [
    "subgroup_stats('race')"
   ]
  },
  {
   "cell_type": "code",
   "execution_count": 72,
   "metadata": {},
   "outputs": [
    {
     "data": {
      "text/html": [
       "<div>\n",
       "<style scoped>\n",
       "    .dataframe tbody tr th:only-of-type {\n",
       "        vertical-align: middle;\n",
       "    }\n",
       "\n",
       "    .dataframe tbody tr th {\n",
       "        vertical-align: top;\n",
       "    }\n",
       "\n",
       "    .dataframe thead th {\n",
       "        text-align: right;\n",
       "    }\n",
       "</style>\n",
       "<table border=\"1\" class=\"dataframe\">\n",
       "  <thead>\n",
       "    <tr style=\"text-align: right;\">\n",
       "      <th></th>\n",
       "      <th>Test Set Group Size (N)</th>\n",
       "      <th>Predicted Prevalence</th>\n",
       "      <th>Accuracy</th>\n",
       "      <th>FNR</th>\n",
       "      <th>FPR</th>\n",
       "      <th>Recall</th>\n",
       "      <th>AUC</th>\n",
       "    </tr>\n",
       "  </thead>\n",
       "  <tbody>\n",
       "    <tr>\n",
       "      <th>Overall</th>\n",
       "      <td>43363</td>\n",
       "      <td>0.2384</td>\n",
       "      <td>0.7651</td>\n",
       "      <td>0.2077</td>\n",
       "      <td>0.235</td>\n",
       "      <td>0.7923</td>\n",
       "      <td>0.8411</td>\n",
       "    </tr>\n",
       "  </tbody>\n",
       "</table>\n",
       "</div>"
      ],
      "text/plain": [
       "         Test Set Group Size (N)  Predicted Prevalence  Accuracy     FNR  \\\n",
       "Overall                    43363                0.2384    0.7651  0.2077   \n",
       "\n",
       "           FPR  Recall     AUC  \n",
       "Overall  0.235  0.7923  0.8411  "
      ]
     },
     "metadata": {},
     "output_type": "display_data"
    },
    {
     "data": {
      "image/png": "[encoded data removed]",
      "text/plain": [
       "<Figure size 432x288 with 2 Axes>"
      ]
     },
     "metadata": {
      "needs_background": "light"
     },
     "output_type": "display_data"
    },
    {
     "name": "stdout",
     "output_type": "stream",
     "text": [
      "\n",
      "\n"
     ]
    },
    {
     "data": {
      "text/html": [
       "<div>\n",
       "<style scoped>\n",
       "    .dataframe tbody tr th:only-of-type {\n",
       "        vertical-align: middle;\n",
       "    }\n",
       "\n",
       "    .dataframe tbody tr th {\n",
       "        vertical-align: top;\n",
       "    }\n",
       "\n",
       "    .dataframe thead th {\n",
       "        text-align: right;\n",
       "    }\n",
       "</style>\n",
       "<table border=\"1\" class=\"dataframe\">\n",
       "  <thead>\n",
       "    <tr style=\"text-align: right;\">\n",
       "      <th></th>\n",
       "      <th>Test Set Group Size (N)</th>\n",
       "      <th>Predicted Prevalence</th>\n",
       "      <th>Accuracy</th>\n",
       "      <th>FNR</th>\n",
       "      <th>FPR</th>\n",
       "      <th>Recall</th>\n",
       "      <th>AUC</th>\n",
       "    </tr>\n",
       "  </thead>\n",
       "  <tbody>\n",
       "    <tr>\n",
       "      <th>gender_female, all races</th>\n",
       "      <td>5582</td>\n",
       "      <td>0.6141</td>\n",
       "      <td>0.3968</td>\n",
       "      <td>0.0704</td>\n",
       "      <td>0.6101</td>\n",
       "      <td>0.9296</td>\n",
       "      <td>0.8228</td>\n",
       "    </tr>\n",
       "  </tbody>\n",
       "</table>\n",
       "</div>"
      ],
      "text/plain": [
       "                          Test Set Group Size (N)  Predicted Prevalence  \\\n",
       "gender_female, all races                     5582                0.6141   \n",
       "\n",
       "                          Accuracy     FNR     FPR  Recall     AUC  \n",
       "gender_female, all races    0.3968  0.0704  0.6101  0.9296  0.8228  "
      ]
     },
     "metadata": {},
     "output_type": "display_data"
    },
    {
     "data": {
      "image/png": "[encoded data removed]",
      "text/plain": [
       "<Figure size 432x288 with 2 Axes>"
      ]
     },
     "metadata": {
      "needs_background": "light"
     },
     "output_type": "display_data"
    },
    {
     "name": "stdout",
     "output_type": "stream",
     "text": [
      "\n",
      "\n"
     ]
    },
    {
     "data": {
      "text/html": [
       "<div>\n",
       "<style scoped>\n",
       "    .dataframe tbody tr th:only-of-type {\n",
       "        vertical-align: middle;\n",
       "    }\n",
       "\n",
       "    .dataframe tbody tr th {\n",
       "        vertical-align: top;\n",
       "    }\n",
       "\n",
       "    .dataframe thead th {\n",
       "        text-align: right;\n",
       "    }\n",
       "</style>\n",
       "<table border=\"1\" class=\"dataframe\">\n",
       "  <thead>\n",
       "    <tr style=\"text-align: right;\">\n",
       "      <th></th>\n",
       "      <th>Test Set Group Size (N)</th>\n",
       "      <th>Predicted Prevalence</th>\n",
       "      <th>Accuracy</th>\n",
       "      <th>FNR</th>\n",
       "      <th>FPR</th>\n",
       "      <th>Recall</th>\n",
       "      <th>AUC</th>\n",
       "    </tr>\n",
       "  </thead>\n",
       "  <tbody>\n",
       "    <tr>\n",
       "      <th>gender_male, all races</th>\n",
       "      <td>37546</td>\n",
       "      <td>0.1831</td>\n",
       "      <td>0.8194</td>\n",
       "      <td>0.2593</td>\n",
       "      <td>0.1802</td>\n",
       "      <td>0.7407</td>\n",
       "      <td>0.8395</td>\n",
       "    </tr>\n",
       "  </tbody>\n",
       "</table>\n",
       "</div>"
      ],
      "text/plain": [
       "                        Test Set Group Size (N)  Predicted Prevalence  \\\n",
       "gender_male, all races                    37546                0.1831   \n",
       "\n",
       "                        Accuracy     FNR     FPR  Recall     AUC  \n",
       "gender_male, all races    0.8194  0.2593  0.1802  0.7407  0.8395  "
      ]
     },
     "metadata": {},
     "output_type": "display_data"
    },
    {
     "data": {
      "image/png": "[encoded data removed]",
      "text/plain": [
       "<Figure size 432x288 with 2 Axes>"
      ]
     },
     "metadata": {
      "needs_background": "light"
     },
     "output_type": "display_data"
    },
    {
     "name": "stdout",
     "output_type": "stream",
     "text": [
      "\n",
      "\n"
     ]
    },
    {
     "data": {
      "text/html": [
       "<div>\n",
       "<style scoped>\n",
       "    .dataframe tbody tr th:only-of-type {\n",
       "        vertical-align: middle;\n",
       "    }\n",
       "\n",
       "    .dataframe tbody tr th {\n",
       "        vertical-align: top;\n",
       "    }\n",
       "\n",
       "    .dataframe thead th {\n",
       "        text-align: right;\n",
       "    }\n",
       "</style>\n",
       "<table border=\"1\" class=\"dataframe\">\n",
       "  <thead>\n",
       "    <tr style=\"text-align: right;\">\n",
       "      <th></th>\n",
       "      <th>Test Set Group Size (N)</th>\n",
       "      <th>Predicted Prevalence</th>\n",
       "      <th>Accuracy</th>\n",
       "      <th>FNR</th>\n",
       "      <th>FPR</th>\n",
       "      <th>Recall</th>\n",
       "      <th>AUC</th>\n",
       "    </tr>\n",
       "  </thead>\n",
       "  <tbody>\n",
       "    <tr>\n",
       "      <th>gender_unknown, all races</th>\n",
       "      <td>235</td>\n",
       "      <td>0.1532</td>\n",
       "      <td>0.8468</td>\n",
       "      <td>NaN</td>\n",
       "      <td>0.1532</td>\n",
       "      <td>NaN</td>\n",
       "      <td>NaN</td>\n",
       "    </tr>\n",
       "  </tbody>\n",
       "</table>\n",
       "</div>"
      ],
      "text/plain": [
       "                           Test Set Group Size (N)  Predicted Prevalence  \\\n",
       "gender_unknown, all races                      235                0.1532   \n",
       "\n",
       "                           Accuracy  FNR     FPR  Recall  AUC  \n",
       "gender_unknown, all races    0.8468  NaN  0.1532     NaN  NaN  "
      ]
     },
     "metadata": {},
     "output_type": "display_data"
    },
    {
     "data": {
      "image/png": "[encoded data removed]",
      "text/plain": [
       "<Figure size 432x288 with 2 Axes>"
      ]
     },
     "metadata": {
      "needs_background": "light"
     },
     "output_type": "display_data"
    },
    {
     "name": "stdout",
     "output_type": "stream",
     "text": [
      "\n",
      "\n",
      "race_albino \n",
      "\t No members of this subgroup present in the test set. \n",
      "\n"
     ]
    },
    {
     "data": {
      "text/html": [
       "<div>\n",
       "<style scoped>\n",
       "    .dataframe tbody tr th:only-of-type {\n",
       "        vertical-align: middle;\n",
       "    }\n",
       "\n",
       "    .dataframe tbody tr th {\n",
       "        vertical-align: top;\n",
       "    }\n",
       "\n",
       "    .dataframe thead th {\n",
       "        text-align: right;\n",
       "    }\n",
       "</style>\n",
       "<table border=\"1\" class=\"dataframe\">\n",
       "  <thead>\n",
       "    <tr style=\"text-align: right;\">\n",
       "      <th></th>\n",
       "      <th>Test Set Group Size (N)</th>\n",
       "      <th>Predicted Prevalence</th>\n",
       "      <th>Accuracy</th>\n",
       "      <th>FNR</th>\n",
       "      <th>FPR</th>\n",
       "      <th>Recall</th>\n",
       "      <th>AUC</th>\n",
       "    </tr>\n",
       "  </thead>\n",
       "  <tbody>\n",
       "    <tr>\n",
       "      <th>race_american indian, all genders</th>\n",
       "      <td>7</td>\n",
       "      <td>0.7143</td>\n",
       "      <td>0.2857</td>\n",
       "      <td>NaN</td>\n",
       "      <td>0.7143</td>\n",
       "      <td>NaN</td>\n",
       "      <td>NaN</td>\n",
       "    </tr>\n",
       "  </tbody>\n",
       "</table>\n",
       "</div>"
      ],
      "text/plain": [
       "                                   Test Set Group Size (N)  \\\n",
       "race_american indian, all genders                        7   \n",
       "\n",
       "                                   Predicted Prevalence  Accuracy  FNR  \\\n",
       "race_american indian, all genders                0.7143    0.2857  NaN   \n",
       "\n",
       "                                      FPR  Recall  AUC  \n",
       "race_american indian, all genders  0.7143     NaN  NaN  "
      ]
     },
     "metadata": {},
     "output_type": "display_data"
    },
    {
     "data": {
      "image/png": "[encoded data removed]",
      "text/plain": [
       "<Figure size 432x288 with 2 Axes>"
      ]
     },
     "metadata": {
      "needs_background": "light"
     },
     "output_type": "display_data"
    },
    {
     "name": "stdout",
     "output_type": "stream",
     "text": [
      "\n",
      "\n"
     ]
    },
    {
     "data": {
      "text/html": [
       "<div>\n",
       "<style scoped>\n",
       "    .dataframe tbody tr th:only-of-type {\n",
       "        vertical-align: middle;\n",
       "    }\n",
       "\n",
       "    .dataframe tbody tr th {\n",
       "        vertical-align: top;\n",
       "    }\n",
       "\n",
       "    .dataframe thead th {\n",
       "        text-align: right;\n",
       "    }\n",
       "</style>\n",
       "<table border=\"1\" class=\"dataframe\">\n",
       "  <thead>\n",
       "    <tr style=\"text-align: right;\">\n",
       "      <th></th>\n",
       "      <th>Test Set Group Size (N)</th>\n",
       "      <th>Predicted Prevalence</th>\n",
       "      <th>Accuracy</th>\n",
       "      <th>FNR</th>\n",
       "      <th>FPR</th>\n",
       "      <th>Recall</th>\n",
       "      <th>AUC</th>\n",
       "    </tr>\n",
       "  </thead>\n",
       "  <tbody>\n",
       "    <tr>\n",
       "      <th>race_american indian and gender_female</th>\n",
       "      <td>3</td>\n",
       "      <td>1.0</td>\n",
       "      <td>0.0</td>\n",
       "      <td>NaN</td>\n",
       "      <td>1.0</td>\n",
       "      <td>NaN</td>\n",
       "      <td>NaN</td>\n",
       "    </tr>\n",
       "  </tbody>\n",
       "</table>\n",
       "</div>"
      ],
      "text/plain": [
       "                                        Test Set Group Size (N)  \\\n",
       "race_american indian and gender_female                        3   \n",
       "\n",
       "                                        Predicted Prevalence  Accuracy  FNR  \\\n",
       "race_american indian and gender_female                   1.0       0.0  NaN   \n",
       "\n",
       "                                        FPR  Recall  AUC  \n",
       "race_american indian and gender_female  1.0     NaN  NaN  "
      ]
     },
     "metadata": {},
     "output_type": "display_data"
    },
    {
     "data": {
      "image/png": "[encoded data removed]",
      "text/plain": [
       "<Figure size 432x288 with 2 Axes>"
      ]
     },
     "metadata": {
      "needs_background": "light"
     },
     "output_type": "display_data"
    },
    {
     "name": "stdout",
     "output_type": "stream",
     "text": [
      "\n",
      "\n"
     ]
    },
    {
     "data": {
      "text/html": [
       "<div>\n",
       "<style scoped>\n",
       "    .dataframe tbody tr th:only-of-type {\n",
       "        vertical-align: middle;\n",
       "    }\n",
       "\n",
       "    .dataframe tbody tr th {\n",
       "        vertical-align: top;\n",
       "    }\n",
       "\n",
       "    .dataframe thead th {\n",
       "        text-align: right;\n",
       "    }\n",
       "</style>\n",
       "<table border=\"1\" class=\"dataframe\">\n",
       "  <thead>\n",
       "    <tr style=\"text-align: right;\">\n",
       "      <th></th>\n",
       "      <th>Test Set Group Size (N)</th>\n",
       "      <th>Predicted Prevalence</th>\n",
       "      <th>Accuracy</th>\n",
       "      <th>FNR</th>\n",
       "      <th>FPR</th>\n",
       "      <th>Recall</th>\n",
       "      <th>AUC</th>\n",
       "    </tr>\n",
       "  </thead>\n",
       "  <tbody>\n",
       "    <tr>\n",
       "      <th>race_american indian and gender_male</th>\n",
       "      <td>4</td>\n",
       "      <td>0.5</td>\n",
       "      <td>0.5</td>\n",
       "      <td>NaN</td>\n",
       "      <td>0.5</td>\n",
       "      <td>NaN</td>\n",
       "      <td>NaN</td>\n",
       "    </tr>\n",
       "  </tbody>\n",
       "</table>\n",
       "</div>"
      ],
      "text/plain": [
       "                                      Test Set Group Size (N)  \\\n",
       "race_american indian and gender_male                        4   \n",
       "\n",
       "                                      Predicted Prevalence  Accuracy  FNR  \\\n",
       "race_american indian and gender_male                   0.5       0.5  NaN   \n",
       "\n",
       "                                      FPR  Recall  AUC  \n",
       "race_american indian and gender_male  0.5     NaN  NaN  "
      ]
     },
     "metadata": {},
     "output_type": "display_data"
    },
    {
     "data": {
      "image/png": "[encoded data removed]",
      "text/plain": [
       "<Figure size 432x288 with 2 Axes>"
      ]
     },
     "metadata": {
      "needs_background": "light"
     },
     "output_type": "display_data"
    },
    {
     "name": "stdout",
     "output_type": "stream",
     "text": [
      "\n",
      "\n",
      "race_american indian and gender_unknown \n",
      "\t No members of this subgroup present in the test set. \n",
      "\n"
     ]
    },
    {
     "data": {
      "text/html": [
       "<div>\n",
       "<style scoped>\n",
       "    .dataframe tbody tr th:only-of-type {\n",
       "        vertical-align: middle;\n",
       "    }\n",
       "\n",
       "    .dataframe tbody tr th {\n",
       "        vertical-align: top;\n",
       "    }\n",
       "\n",
       "    .dataframe thead th {\n",
       "        text-align: right;\n",
       "    }\n",
       "</style>\n",
       "<table border=\"1\" class=\"dataframe\">\n",
       "  <thead>\n",
       "    <tr style=\"text-align: right;\">\n",
       "      <th></th>\n",
       "      <th>Test Set Group Size (N)</th>\n",
       "      <th>Predicted Prevalence</th>\n",
       "      <th>Accuracy</th>\n",
       "      <th>FNR</th>\n",
       "      <th>FPR</th>\n",
       "      <th>Recall</th>\n",
       "      <th>AUC</th>\n",
       "    </tr>\n",
       "  </thead>\n",
       "  <tbody>\n",
       "    <tr>\n",
       "      <th>race_asian, all genders</th>\n",
       "      <td>224</td>\n",
       "      <td>0.3214</td>\n",
       "      <td>0.692</td>\n",
       "      <td>0.0</td>\n",
       "      <td>0.3122</td>\n",
       "      <td>1.0</td>\n",
       "      <td>0.8612</td>\n",
       "    </tr>\n",
       "  </tbody>\n",
       "</table>\n",
       "</div>"
      ],
      "text/plain": [
       "                         Test Set Group Size (N)  Predicted Prevalence  \\\n",
       "race_asian, all genders                      224                0.3214   \n",
       "\n",
       "                         Accuracy  FNR     FPR  Recall     AUC  \n",
       "race_asian, all genders     0.692  0.0  0.3122     1.0  0.8612  "
      ]
     },
     "metadata": {},
     "output_type": "display_data"
    },
    {
     "data": {
      "image/png": "[encoded data removed]",
      "text/plain": [
       "<Figure size 432x288 with 2 Axes>"
      ]
     },
     "metadata": {
      "needs_background": "light"
     },
     "output_type": "display_data"
    },
    {
     "name": "stdout",
     "output_type": "stream",
     "text": [
      "\n",
      "\n"
     ]
    },
    {
     "data": {
      "text/html": [
       "<div>\n",
       "<style scoped>\n",
       "    .dataframe tbody tr th:only-of-type {\n",
       "        vertical-align: middle;\n",
       "    }\n",
       "\n",
       "    .dataframe tbody tr th {\n",
       "        vertical-align: top;\n",
       "    }\n",
       "\n",
       "    .dataframe thead th {\n",
       "        text-align: right;\n",
       "    }\n",
       "</style>\n",
       "<table border=\"1\" class=\"dataframe\">\n",
       "  <thead>\n",
       "    <tr style=\"text-align: right;\">\n",
       "      <th></th>\n",
       "      <th>Test Set Group Size (N)</th>\n",
       "      <th>Predicted Prevalence</th>\n",
       "      <th>Accuracy</th>\n",
       "      <th>FNR</th>\n",
       "      <th>FPR</th>\n",
       "      <th>Recall</th>\n",
       "      <th>AUC</th>\n",
       "    </tr>\n",
       "  </thead>\n",
       "  <tbody>\n",
       "    <tr>\n",
       "      <th>race_asian and gender_female</th>\n",
       "      <td>39</td>\n",
       "      <td>0.6923</td>\n",
       "      <td>0.3333</td>\n",
       "      <td>0.0</td>\n",
       "      <td>0.6842</td>\n",
       "      <td>1.0</td>\n",
       "      <td>0.9474</td>\n",
       "    </tr>\n",
       "  </tbody>\n",
       "</table>\n",
       "</div>"
      ],
      "text/plain": [
       "                              Test Set Group Size (N)  Predicted Prevalence  \\\n",
       "race_asian and gender_female                       39                0.6923   \n",
       "\n",
       "                              Accuracy  FNR     FPR  Recall     AUC  \n",
       "race_asian and gender_female    0.3333  0.0  0.6842     1.0  0.9474  "
      ]
     },
     "metadata": {},
     "output_type": "display_data"
    },
    {
     "data": {
      "image/png": "[encoded data removed]",
      "text/plain": [
       "<Figure size 432x288 with 2 Axes>"
      ]
     },
     "metadata": {
      "needs_background": "light"
     },
     "output_type": "display_data"
    },
    {
     "name": "stdout",
     "output_type": "stream",
     "text": [
      "\n",
      "\n"
     ]
    },
    {
     "data": {
      "text/html": [
       "<div>\n",
       "<style scoped>\n",
       "    .dataframe tbody tr th:only-of-type {\n",
       "        vertical-align: middle;\n",
       "    }\n",
       "\n",
       "    .dataframe tbody tr th {\n",
       "        vertical-align: top;\n",
       "    }\n",
       "\n",
       "    .dataframe thead th {\n",
       "        text-align: right;\n",
       "    }\n",
       "</style>\n",
       "<table border=\"1\" class=\"dataframe\">\n",
       "  <thead>\n",
       "    <tr style=\"text-align: right;\">\n",
       "      <th></th>\n",
       "      <th>Test Set Group Size (N)</th>\n",
       "      <th>Predicted Prevalence</th>\n",
       "      <th>Accuracy</th>\n",
       "      <th>FNR</th>\n",
       "      <th>FPR</th>\n",
       "      <th>Recall</th>\n",
       "      <th>AUC</th>\n",
       "    </tr>\n",
       "  </thead>\n",
       "  <tbody>\n",
       "    <tr>\n",
       "      <th>race_asian and gender_male</th>\n",
       "      <td>185</td>\n",
       "      <td>0.2432</td>\n",
       "      <td>0.7676</td>\n",
       "      <td>0.0</td>\n",
       "      <td>0.235</td>\n",
       "      <td>1.0</td>\n",
       "      <td>0.8634</td>\n",
       "    </tr>\n",
       "  </tbody>\n",
       "</table>\n",
       "</div>"
      ],
      "text/plain": [
       "                            Test Set Group Size (N)  Predicted Prevalence  \\\n",
       "race_asian and gender_male                      185                0.2432   \n",
       "\n",
       "                            Accuracy  FNR    FPR  Recall     AUC  \n",
       "race_asian and gender_male    0.7676  0.0  0.235     1.0  0.8634  "
      ]
     },
     "metadata": {},
     "output_type": "display_data"
    },
    {
     "data": {
      "image/png": "[encoded data removed]",
      "text/plain": [
       "<Figure size 432x288 with 2 Axes>"
      ]
     },
     "metadata": {
      "needs_background": "light"
     },
     "output_type": "display_data"
    },
    {
     "name": "stdout",
     "output_type": "stream",
     "text": [
      "\n",
      "\n",
      "race_asian and gender_unknown \n",
      "\t No members of this subgroup present in the test set. \n",
      "\n"
     ]
    },
    {
     "data": {
      "text/html": [
       "<div>\n",
       "<style scoped>\n",
       "    .dataframe tbody tr th:only-of-type {\n",
       "        vertical-align: middle;\n",
       "    }\n",
       "\n",
       "    .dataframe tbody tr th {\n",
       "        vertical-align: top;\n",
       "    }\n",
       "\n",
       "    .dataframe thead th {\n",
       "        text-align: right;\n",
       "    }\n",
       "</style>\n",
       "<table border=\"1\" class=\"dataframe\">\n",
       "  <thead>\n",
       "    <tr style=\"text-align: right;\">\n",
       "      <th></th>\n",
       "      <th>Test Set Group Size (N)</th>\n",
       "      <th>Predicted Prevalence</th>\n",
       "      <th>Accuracy</th>\n",
       "      <th>FNR</th>\n",
       "      <th>FPR</th>\n",
       "      <th>Recall</th>\n",
       "      <th>AUC</th>\n",
       "    </tr>\n",
       "  </thead>\n",
       "  <tbody>\n",
       "    <tr>\n",
       "      <th>race_biracial, all genders</th>\n",
       "      <td>5</td>\n",
       "      <td>0.2</td>\n",
       "      <td>0.8</td>\n",
       "      <td>NaN</td>\n",
       "      <td>0.2</td>\n",
       "      <td>NaN</td>\n",
       "      <td>NaN</td>\n",
       "    </tr>\n",
       "  </tbody>\n",
       "</table>\n",
       "</div>"
      ],
      "text/plain": [
       "                            Test Set Group Size (N)  Predicted Prevalence  \\\n",
       "race_biracial, all genders                        5                   0.2   \n",
       "\n",
       "                            Accuracy  FNR  FPR  Recall  AUC  \n",
       "race_biracial, all genders       0.8  NaN  0.2     NaN  NaN  "
      ]
     },
     "metadata": {},
     "output_type": "display_data"
    },
    {
     "data": {
      "image/png": "[encoded data removed]",
      "text/plain": [
       "<Figure size 432x288 with 2 Axes>"
      ]
     },
     "metadata": {
      "needs_background": "light"
     },
     "output_type": "display_data"
    },
    {
     "name": "stdout",
     "output_type": "stream",
     "text": [
      "\n",
      "\n",
      "race_biracial and gender_female \n",
      "\t No members of this subgroup present in the test set. \n",
      "\n"
     ]
    },
    {
     "data": {
      "text/html": [
       "<div>\n",
       "<style scoped>\n",
       "    .dataframe tbody tr th:only-of-type {\n",
       "        vertical-align: middle;\n",
       "    }\n",
       "\n",
       "    .dataframe tbody tr th {\n",
       "        vertical-align: top;\n",
       "    }\n",
       "\n",
       "    .dataframe thead th {\n",
       "        text-align: right;\n",
       "    }\n",
       "</style>\n",
       "<table border=\"1\" class=\"dataframe\">\n",
       "  <thead>\n",
       "    <tr style=\"text-align: right;\">\n",
       "      <th></th>\n",
       "      <th>Test Set Group Size (N)</th>\n",
       "      <th>Predicted Prevalence</th>\n",
       "      <th>Accuracy</th>\n",
       "      <th>FNR</th>\n",
       "      <th>FPR</th>\n",
       "      <th>Recall</th>\n",
       "      <th>AUC</th>\n",
       "    </tr>\n",
       "  </thead>\n",
       "  <tbody>\n",
       "    <tr>\n",
       "      <th>race_biracial and gender_male</th>\n",
       "      <td>5</td>\n",
       "      <td>0.2</td>\n",
       "      <td>0.8</td>\n",
       "      <td>NaN</td>\n",
       "      <td>0.2</td>\n",
       "      <td>NaN</td>\n",
       "      <td>NaN</td>\n",
       "    </tr>\n",
       "  </tbody>\n",
       "</table>\n",
       "</div>"
      ],
      "text/plain": [
       "                               Test Set Group Size (N)  Predicted Prevalence  \\\n",
       "race_biracial and gender_male                        5                   0.2   \n",
       "\n",
       "                               Accuracy  FNR  FPR  Recall  AUC  \n",
       "race_biracial and gender_male       0.8  NaN  0.2     NaN  NaN  "
      ]
     },
     "metadata": {},
     "output_type": "display_data"
    },
    {
     "data": {
      "image/png": "[encoded data removed]",
      "text/plain": [
       "<Figure size 432x288 with 2 Axes>"
      ]
     },
     "metadata": {
      "needs_background": "light"
     },
     "output_type": "display_data"
    },
    {
     "name": "stdout",
     "output_type": "stream",
     "text": [
      "\n",
      "\n",
      "race_biracial and gender_unknown \n",
      "\t No members of this subgroup present in the test set. \n",
      "\n"
     ]
    },
    {
     "data": {
      "text/html": [
       "<div>\n",
       "<style scoped>\n",
       "    .dataframe tbody tr th:only-of-type {\n",
       "        vertical-align: middle;\n",
       "    }\n",
       "\n",
       "    .dataframe tbody tr th {\n",
       "        vertical-align: top;\n",
       "    }\n",
       "\n",
       "    .dataframe thead th {\n",
       "        text-align: right;\n",
       "    }\n",
       "</style>\n",
       "<table border=\"1\" class=\"dataframe\">\n",
       "  <thead>\n",
       "    <tr style=\"text-align: right;\">\n",
       "      <th></th>\n",
       "      <th>Test Set Group Size (N)</th>\n",
       "      <th>Predicted Prevalence</th>\n",
       "      <th>Accuracy</th>\n",
       "      <th>FNR</th>\n",
       "      <th>FPR</th>\n",
       "      <th>Recall</th>\n",
       "      <th>AUC</th>\n",
       "    </tr>\n",
       "  </thead>\n",
       "  <tbody>\n",
       "    <tr>\n",
       "      <th>race_black, all genders</th>\n",
       "      <td>29269</td>\n",
       "      <td>0.2143</td>\n",
       "      <td>0.7889</td>\n",
       "      <td>0.2262</td>\n",
       "      <td>0.2111</td>\n",
       "      <td>0.7738</td>\n",
       "      <td>0.8407</td>\n",
       "    </tr>\n",
       "  </tbody>\n",
       "</table>\n",
       "</div>"
      ],
      "text/plain": [
       "                         Test Set Group Size (N)  Predicted Prevalence  \\\n",
       "race_black, all genders                    29269                0.2143   \n",
       "\n",
       "                         Accuracy     FNR     FPR  Recall     AUC  \n",
       "race_black, all genders    0.7889  0.2262  0.2111  0.7738  0.8407  "
      ]
     },
     "metadata": {},
     "output_type": "display_data"
    },
    {
     "data": {
      "image/png": "[encoded data removed]",
      "text/plain": [
       "<Figure size 432x288 with 2 Axes>"
      ]
     },
     "metadata": {
      "needs_background": "light"
     },
     "output_type": "display_data"
    },
    {
     "name": "stdout",
     "output_type": "stream",
     "text": [
      "\n",
      "\n"
     ]
    },
    {
     "data": {
      "text/html": [
       "<div>\n",
       "<style scoped>\n",
       "    .dataframe tbody tr th:only-of-type {\n",
       "        vertical-align: middle;\n",
       "    }\n",
       "\n",
       "    .dataframe tbody tr th {\n",
       "        vertical-align: top;\n",
       "    }\n",
       "\n",
       "    .dataframe thead th {\n",
       "        text-align: right;\n",
       "    }\n",
       "</style>\n",
       "<table border=\"1\" class=\"dataframe\">\n",
       "  <thead>\n",
       "    <tr style=\"text-align: right;\">\n",
       "      <th></th>\n",
       "      <th>Test Set Group Size (N)</th>\n",
       "      <th>Predicted Prevalence</th>\n",
       "      <th>Accuracy</th>\n",
       "      <th>FNR</th>\n",
       "      <th>FPR</th>\n",
       "      <th>Recall</th>\n",
       "      <th>AUC</th>\n",
       "    </tr>\n",
       "  </thead>\n",
       "  <tbody>\n",
       "    <tr>\n",
       "      <th>race_black and gender_female</th>\n",
       "      <td>3424</td>\n",
       "      <td>0.6133</td>\n",
       "      <td>0.3992</td>\n",
       "      <td>0.0426</td>\n",
       "      <td>0.6085</td>\n",
       "      <td>0.9574</td>\n",
       "      <td>0.8187</td>\n",
       "    </tr>\n",
       "  </tbody>\n",
       "</table>\n",
       "</div>"
      ],
      "text/plain": [
       "                              Test Set Group Size (N)  Predicted Prevalence  \\\n",
       "race_black and gender_female                     3424                0.6133   \n",
       "\n",
       "                              Accuracy     FNR     FPR  Recall     AUC  \n",
       "race_black and gender_female    0.3992  0.0426  0.6085  0.9574  0.8187  "
      ]
     },
     "metadata": {},
     "output_type": "display_data"
    },
    {
     "data": {
      "image/png": "[encoded data removed]",
      "text/plain": [
       "<Figure size 432x288 with 2 Axes>"
      ]
     },
     "metadata": {
      "needs_background": "light"
     },
     "output_type": "display_data"
    },
    {
     "name": "stdout",
     "output_type": "stream",
     "text": [
      "\n",
      "\n"
     ]
    },
    {
     "data": {
      "text/html": [
       "<div>\n",
       "<style scoped>\n",
       "    .dataframe tbody tr th:only-of-type {\n",
       "        vertical-align: middle;\n",
       "    }\n",
       "\n",
       "    .dataframe tbody tr th {\n",
       "        vertical-align: top;\n",
       "    }\n",
       "\n",
       "    .dataframe thead th {\n",
       "        text-align: right;\n",
       "    }\n",
       "</style>\n",
       "<table border=\"1\" class=\"dataframe\">\n",
       "  <thead>\n",
       "    <tr style=\"text-align: right;\">\n",
       "      <th></th>\n",
       "      <th>Test Set Group Size (N)</th>\n",
       "      <th>Predicted Prevalence</th>\n",
       "      <th>Accuracy</th>\n",
       "      <th>FNR</th>\n",
       "      <th>FPR</th>\n",
       "      <th>Recall</th>\n",
       "      <th>AUC</th>\n",
       "    </tr>\n",
       "  </thead>\n",
       "  <tbody>\n",
       "    <tr>\n",
       "      <th>race_black and gender_male</th>\n",
       "      <td>25824</td>\n",
       "      <td>0.1616</td>\n",
       "      <td>0.8403</td>\n",
       "      <td>0.2975</td>\n",
       "      <td>0.159</td>\n",
       "      <td>0.7025</td>\n",
       "      <td>0.8359</td>\n",
       "    </tr>\n",
       "  </tbody>\n",
       "</table>\n",
       "</div>"
      ],
      "text/plain": [
       "                            Test Set Group Size (N)  Predicted Prevalence  \\\n",
       "race_black and gender_male                    25824                0.1616   \n",
       "\n",
       "                            Accuracy     FNR    FPR  Recall     AUC  \n",
       "race_black and gender_male    0.8403  0.2975  0.159  0.7025  0.8359  "
      ]
     },
     "metadata": {},
     "output_type": "display_data"
    },
    {
     "data": {
      "image/png": "[encoded data removed]",
      "text/plain": [
       "<Figure size 432x288 with 2 Axes>"
      ]
     },
     "metadata": {
      "needs_background": "light"
     },
     "output_type": "display_data"
    },
    {
     "name": "stdout",
     "output_type": "stream",
     "text": [
      "\n",
      "\n"
     ]
    },
    {
     "data": {
      "text/html": [
       "<div>\n",
       "<style scoped>\n",
       "    .dataframe tbody tr th:only-of-type {\n",
       "        vertical-align: middle;\n",
       "    }\n",
       "\n",
       "    .dataframe tbody tr th {\n",
       "        vertical-align: top;\n",
       "    }\n",
       "\n",
       "    .dataframe thead th {\n",
       "        text-align: right;\n",
       "    }\n",
       "</style>\n",
       "<table border=\"1\" class=\"dataframe\">\n",
       "  <thead>\n",
       "    <tr style=\"text-align: right;\">\n",
       "      <th></th>\n",
       "      <th>Test Set Group Size (N)</th>\n",
       "      <th>Predicted Prevalence</th>\n",
       "      <th>Accuracy</th>\n",
       "      <th>FNR</th>\n",
       "      <th>FPR</th>\n",
       "      <th>Recall</th>\n",
       "      <th>AUC</th>\n",
       "    </tr>\n",
       "  </thead>\n",
       "  <tbody>\n",
       "    <tr>\n",
       "      <th>race_black and gender_unknown</th>\n",
       "      <td>21</td>\n",
       "      <td>0.0</td>\n",
       "      <td>1.0</td>\n",
       "      <td>NaN</td>\n",
       "      <td>0.0</td>\n",
       "      <td>NaN</td>\n",
       "      <td>NaN</td>\n",
       "    </tr>\n",
       "  </tbody>\n",
       "</table>\n",
       "</div>"
      ],
      "text/plain": [
       "                               Test Set Group Size (N)  Predicted Prevalence  \\\n",
       "race_black and gender_unknown                       21                   0.0   \n",
       "\n",
       "                               Accuracy  FNR  FPR  Recall  AUC  \n",
       "race_black and gender_unknown       1.0  NaN  0.0     NaN  NaN  "
      ]
     },
     "metadata": {},
     "output_type": "display_data"
    },
    {
     "data": {
      "image/png": "[encoded data removed]",
      "text/plain": [
       "<Figure size 432x288 with 2 Axes>"
      ]
     },
     "metadata": {
      "needs_background": "light"
     },
     "output_type": "display_data"
    },
    {
     "name": "stdout",
     "output_type": "stream",
     "text": [
      "\n",
      "\n"
     ]
    },
    {
     "data": {
      "text/html": [
       "<div>\n",
       "<style scoped>\n",
       "    .dataframe tbody tr th:only-of-type {\n",
       "        vertical-align: middle;\n",
       "    }\n",
       "\n",
       "    .dataframe tbody tr th {\n",
       "        vertical-align: top;\n",
       "    }\n",
       "\n",
       "    .dataframe thead th {\n",
       "        text-align: right;\n",
       "    }\n",
       "</style>\n",
       "<table border=\"1\" class=\"dataframe\">\n",
       "  <thead>\n",
       "    <tr style=\"text-align: right;\">\n",
       "      <th></th>\n",
       "      <th>Test Set Group Size (N)</th>\n",
       "      <th>Predicted Prevalence</th>\n",
       "      <th>Accuracy</th>\n",
       "      <th>FNR</th>\n",
       "      <th>FPR</th>\n",
       "      <th>Recall</th>\n",
       "      <th>AUC</th>\n",
       "    </tr>\n",
       "  </thead>\n",
       "  <tbody>\n",
       "    <tr>\n",
       "      <th>race_hispanic, all genders</th>\n",
       "      <td>446</td>\n",
       "      <td>0.1076</td>\n",
       "      <td>0.8946</td>\n",
       "      <td>0.0</td>\n",
       "      <td>0.1056</td>\n",
       "      <td>1.0</td>\n",
       "      <td>0.9933</td>\n",
       "    </tr>\n",
       "  </tbody>\n",
       "</table>\n",
       "</div>"
      ],
      "text/plain": [
       "                            Test Set Group Size (N)  Predicted Prevalence  \\\n",
       "race_hispanic, all genders                      446                0.1076   \n",
       "\n",
       "                            Accuracy  FNR     FPR  Recall     AUC  \n",
       "race_hispanic, all genders    0.8946  0.0  0.1056     1.0  0.9933  "
      ]
     },
     "metadata": {},
     "output_type": "display_data"
    },
    {
     "data": {
      "image/png": "[encoded data removed]",
      "text/plain": [
       "<Figure size 432x288 with 2 Axes>"
      ]
     },
     "metadata": {
      "needs_background": "light"
     },
     "output_type": "display_data"
    },
    {
     "name": "stdout",
     "output_type": "stream",
     "text": [
      "\n",
      "\n"
     ]
    },
    {
     "data": {
      "text/html": [
       "<div>\n",
       "<style scoped>\n",
       "    .dataframe tbody tr th:only-of-type {\n",
       "        vertical-align: middle;\n",
       "    }\n",
       "\n",
       "    .dataframe tbody tr th {\n",
       "        vertical-align: top;\n",
       "    }\n",
       "\n",
       "    .dataframe thead th {\n",
       "        text-align: right;\n",
       "    }\n",
       "</style>\n",
       "<table border=\"1\" class=\"dataframe\">\n",
       "  <thead>\n",
       "    <tr style=\"text-align: right;\">\n",
       "      <th></th>\n",
       "      <th>Test Set Group Size (N)</th>\n",
       "      <th>Predicted Prevalence</th>\n",
       "      <th>Accuracy</th>\n",
       "      <th>FNR</th>\n",
       "      <th>FPR</th>\n",
       "      <th>Recall</th>\n",
       "      <th>AUC</th>\n",
       "    </tr>\n",
       "  </thead>\n",
       "  <tbody>\n",
       "    <tr>\n",
       "      <th>race_hispanic and gender_female</th>\n",
       "      <td>45</td>\n",
       "      <td>0.4889</td>\n",
       "      <td>0.5333</td>\n",
       "      <td>0.0</td>\n",
       "      <td>0.4773</td>\n",
       "      <td>1.0</td>\n",
       "      <td>0.9318</td>\n",
       "    </tr>\n",
       "  </tbody>\n",
       "</table>\n",
       "</div>"
      ],
      "text/plain": [
       "                                 Test Set Group Size (N)  \\\n",
       "race_hispanic and gender_female                       45   \n",
       "\n",
       "                                 Predicted Prevalence  Accuracy  FNR     FPR  \\\n",
       "race_hispanic and gender_female                0.4889    0.5333  0.0  0.4773   \n",
       "\n",
       "                                 Recall     AUC  \n",
       "race_hispanic and gender_female     1.0  0.9318  "
      ]
     },
     "metadata": {},
     "output_type": "display_data"
    },
    {
     "data": {
      "image/png": "[encoded data removed]",
      "text/plain": [
       "<Figure size 432x288 with 2 Axes>"
      ]
     },
     "metadata": {
      "needs_background": "light"
     },
     "output_type": "display_data"
    },
    {
     "name": "stdout",
     "output_type": "stream",
     "text": [
      "\n",
      "\n"
     ]
    },
    {
     "data": {
      "text/html": [
       "<div>\n",
       "<style scoped>\n",
       "    .dataframe tbody tr th:only-of-type {\n",
       "        vertical-align: middle;\n",
       "    }\n",
       "\n",
       "    .dataframe tbody tr th {\n",
       "        vertical-align: top;\n",
       "    }\n",
       "\n",
       "    .dataframe thead th {\n",
       "        text-align: right;\n",
       "    }\n",
       "</style>\n",
       "<table border=\"1\" class=\"dataframe\">\n",
       "  <thead>\n",
       "    <tr style=\"text-align: right;\">\n",
       "      <th></th>\n",
       "      <th>Test Set Group Size (N)</th>\n",
       "      <th>Predicted Prevalence</th>\n",
       "      <th>Accuracy</th>\n",
       "      <th>FNR</th>\n",
       "      <th>FPR</th>\n",
       "      <th>Recall</th>\n",
       "      <th>AUC</th>\n",
       "    </tr>\n",
       "  </thead>\n",
       "  <tbody>\n",
       "    <tr>\n",
       "      <th>race_hispanic and gender_male</th>\n",
       "      <td>401</td>\n",
       "      <td>0.0648</td>\n",
       "      <td>0.9352</td>\n",
       "      <td>NaN</td>\n",
       "      <td>0.0648</td>\n",
       "      <td>NaN</td>\n",
       "      <td>NaN</td>\n",
       "    </tr>\n",
       "  </tbody>\n",
       "</table>\n",
       "</div>"
      ],
      "text/plain": [
       "                               Test Set Group Size (N)  Predicted Prevalence  \\\n",
       "race_hispanic and gender_male                      401                0.0648   \n",
       "\n",
       "                               Accuracy  FNR     FPR  Recall  AUC  \n",
       "race_hispanic and gender_male    0.9352  NaN  0.0648     NaN  NaN  "
      ]
     },
     "metadata": {},
     "output_type": "display_data"
    },
    {
     "data": {
      "image/png": "[encoded data removed]",
      "text/plain": [
       "<Figure size 432x288 with 2 Axes>"
      ]
     },
     "metadata": {
      "needs_background": "light"
     },
     "output_type": "display_data"
    },
    {
     "name": "stdout",
     "output_type": "stream",
     "text": [
      "\n",
      "\n",
      "race_hispanic and gender_unknown \n",
      "\t No members of this subgroup present in the test set. \n",
      "\n"
     ]
    },
    {
     "data": {
      "text/html": [
       "<div>\n",
       "<style scoped>\n",
       "    .dataframe tbody tr th:only-of-type {\n",
       "        vertical-align: middle;\n",
       "    }\n",
       "\n",
       "    .dataframe tbody tr th {\n",
       "        vertical-align: top;\n",
       "    }\n",
       "\n",
       "    .dataframe thead th {\n",
       "        text-align: right;\n",
       "    }\n",
       "</style>\n",
       "<table border=\"1\" class=\"dataframe\">\n",
       "  <thead>\n",
       "    <tr style=\"text-align: right;\">\n",
       "      <th></th>\n",
       "      <th>Test Set Group Size (N)</th>\n",
       "      <th>Predicted Prevalence</th>\n",
       "      <th>Accuracy</th>\n",
       "      <th>FNR</th>\n",
       "      <th>FPR</th>\n",
       "      <th>Recall</th>\n",
       "      <th>AUC</th>\n",
       "    </tr>\n",
       "  </thead>\n",
       "  <tbody>\n",
       "    <tr>\n",
       "      <th>race_unknown, all genders</th>\n",
       "      <td>420</td>\n",
       "      <td>0.181</td>\n",
       "      <td>0.819</td>\n",
       "      <td>NaN</td>\n",
       "      <td>0.181</td>\n",
       "      <td>NaN</td>\n",
       "      <td>NaN</td>\n",
       "    </tr>\n",
       "  </tbody>\n",
       "</table>\n",
       "</div>"
      ],
      "text/plain": [
       "                           Test Set Group Size (N)  Predicted Prevalence  \\\n",
       "race_unknown, all genders                      420                 0.181   \n",
       "\n",
       "                           Accuracy  FNR    FPR  Recall  AUC  \n",
       "race_unknown, all genders     0.819  NaN  0.181     NaN  NaN  "
      ]
     },
     "metadata": {},
     "output_type": "display_data"
    },
    {
     "data": {
      "image/png": "[encoded data removed]",
      "text/plain": [
       "<Figure size 432x288 with 2 Axes>"
      ]
     },
     "metadata": {
      "needs_background": "light"
     },
     "output_type": "display_data"
    },
    {
     "name": "stdout",
     "output_type": "stream",
     "text": [
      "\n",
      "\n"
     ]
    },
    {
     "data": {
      "text/html": [
       "<div>\n",
       "<style scoped>\n",
       "    .dataframe tbody tr th:only-of-type {\n",
       "        vertical-align: middle;\n",
       "    }\n",
       "\n",
       "    .dataframe tbody tr th {\n",
       "        vertical-align: top;\n",
       "    }\n",
       "\n",
       "    .dataframe thead th {\n",
       "        text-align: right;\n",
       "    }\n",
       "</style>\n",
       "<table border=\"1\" class=\"dataframe\">\n",
       "  <thead>\n",
       "    <tr style=\"text-align: right;\">\n",
       "      <th></th>\n",
       "      <th>Test Set Group Size (N)</th>\n",
       "      <th>Predicted Prevalence</th>\n",
       "      <th>Accuracy</th>\n",
       "      <th>FNR</th>\n",
       "      <th>FPR</th>\n",
       "      <th>Recall</th>\n",
       "      <th>AUC</th>\n",
       "    </tr>\n",
       "  </thead>\n",
       "  <tbody>\n",
       "    <tr>\n",
       "      <th>race_unknown and gender_female</th>\n",
       "      <td>34</td>\n",
       "      <td>0.5294</td>\n",
       "      <td>0.4706</td>\n",
       "      <td>NaN</td>\n",
       "      <td>0.5294</td>\n",
       "      <td>NaN</td>\n",
       "      <td>NaN</td>\n",
       "    </tr>\n",
       "  </tbody>\n",
       "</table>\n",
       "</div>"
      ],
      "text/plain": [
       "                                Test Set Group Size (N)  Predicted Prevalence  \\\n",
       "race_unknown and gender_female                       34                0.5294   \n",
       "\n",
       "                                Accuracy  FNR     FPR  Recall  AUC  \n",
       "race_unknown and gender_female    0.4706  NaN  0.5294     NaN  NaN  "
      ]
     },
     "metadata": {},
     "output_type": "display_data"
    },
    {
     "data": {
      "image/png": "[encoded data removed]",
      "text/plain": [
       "<Figure size 432x288 with 2 Axes>"
      ]
     },
     "metadata": {
      "needs_background": "light"
     },
     "output_type": "display_data"
    },
    {
     "name": "stdout",
     "output_type": "stream",
     "text": [
      "\n",
      "\n"
     ]
    },
    {
     "data": {
      "text/html": [
       "<div>\n",
       "<style scoped>\n",
       "    .dataframe tbody tr th:only-of-type {\n",
       "        vertical-align: middle;\n",
       "    }\n",
       "\n",
       "    .dataframe tbody tr th {\n",
       "        vertical-align: top;\n",
       "    }\n",
       "\n",
       "    .dataframe thead th {\n",
       "        text-align: right;\n",
       "    }\n",
       "</style>\n",
       "<table border=\"1\" class=\"dataframe\">\n",
       "  <thead>\n",
       "    <tr style=\"text-align: right;\">\n",
       "      <th></th>\n",
       "      <th>Test Set Group Size (N)</th>\n",
       "      <th>Predicted Prevalence</th>\n",
       "      <th>Accuracy</th>\n",
       "      <th>FNR</th>\n",
       "      <th>FPR</th>\n",
       "      <th>Recall</th>\n",
       "      <th>AUC</th>\n",
       "    </tr>\n",
       "  </thead>\n",
       "  <tbody>\n",
       "    <tr>\n",
       "      <th>race_unknown and gender_male</th>\n",
       "      <td>178</td>\n",
       "      <td>0.1236</td>\n",
       "      <td>0.8764</td>\n",
       "      <td>NaN</td>\n",
       "      <td>0.1236</td>\n",
       "      <td>NaN</td>\n",
       "      <td>NaN</td>\n",
       "    </tr>\n",
       "  </tbody>\n",
       "</table>\n",
       "</div>"
      ],
      "text/plain": [
       "                              Test Set Group Size (N)  Predicted Prevalence  \\\n",
       "race_unknown and gender_male                      178                0.1236   \n",
       "\n",
       "                              Accuracy  FNR     FPR  Recall  AUC  \n",
       "race_unknown and gender_male    0.8764  NaN  0.1236     NaN  NaN  "
      ]
     },
     "metadata": {},
     "output_type": "display_data"
    },
    {
     "data": {
      "image/png": "[encoded data removed]",
      "text/plain": [
       "<Figure size 432x288 with 2 Axes>"
      ]
     },
     "metadata": {
      "needs_background": "light"
     },
     "output_type": "display_data"
    },
    {
     "name": "stdout",
     "output_type": "stream",
     "text": [
      "\n",
      "\n"
     ]
    },
    {
     "data": {
      "text/html": [
       "<div>\n",
       "<style scoped>\n",
       "    .dataframe tbody tr th:only-of-type {\n",
       "        vertical-align: middle;\n",
       "    }\n",
       "\n",
       "    .dataframe tbody tr th {\n",
       "        vertical-align: top;\n",
       "    }\n",
       "\n",
       "    .dataframe thead th {\n",
       "        text-align: right;\n",
       "    }\n",
       "</style>\n",
       "<table border=\"1\" class=\"dataframe\">\n",
       "  <thead>\n",
       "    <tr style=\"text-align: right;\">\n",
       "      <th></th>\n",
       "      <th>Test Set Group Size (N)</th>\n",
       "      <th>Predicted Prevalence</th>\n",
       "      <th>Accuracy</th>\n",
       "      <th>FNR</th>\n",
       "      <th>FPR</th>\n",
       "      <th>Recall</th>\n",
       "      <th>AUC</th>\n",
       "    </tr>\n",
       "  </thead>\n",
       "  <tbody>\n",
       "    <tr>\n",
       "      <th>race_unknown and gender_unknown</th>\n",
       "      <td>208</td>\n",
       "      <td>0.1731</td>\n",
       "      <td>0.8269</td>\n",
       "      <td>NaN</td>\n",
       "      <td>0.1731</td>\n",
       "      <td>NaN</td>\n",
       "      <td>NaN</td>\n",
       "    </tr>\n",
       "  </tbody>\n",
       "</table>\n",
       "</div>"
      ],
      "text/plain": [
       "                                 Test Set Group Size (N)  \\\n",
       "race_unknown and gender_unknown                      208   \n",
       "\n",
       "                                 Predicted Prevalence  Accuracy  FNR     FPR  \\\n",
       "race_unknown and gender_unknown                0.1731    0.8269  NaN  0.1731   \n",
       "\n",
       "                                 Recall  AUC  \n",
       "race_unknown and gender_unknown     NaN  NaN  "
      ]
     },
     "metadata": {},
     "output_type": "display_data"
    },
    {
     "data": {
      "image/png": "[encoded data removed]",
      "text/plain": [
       "<Figure size 432x288 with 2 Axes>"
      ]
     },
     "metadata": {
      "needs_background": "light"
     },
     "output_type": "display_data"
    },
    {
     "name": "stdout",
     "output_type": "stream",
     "text": [
      "\n",
      "\n"
     ]
    },
    {
     "data": {
      "text/html": [
       "<div>\n",
       "<style scoped>\n",
       "    .dataframe tbody tr th:only-of-type {\n",
       "        vertical-align: middle;\n",
       "    }\n",
       "\n",
       "    .dataframe tbody tr th {\n",
       "        vertical-align: top;\n",
       "    }\n",
       "\n",
       "    .dataframe thead th {\n",
       "        text-align: right;\n",
       "    }\n",
       "</style>\n",
       "<table border=\"1\" class=\"dataframe\">\n",
       "  <thead>\n",
       "    <tr style=\"text-align: right;\">\n",
       "      <th></th>\n",
       "      <th>Test Set Group Size (N)</th>\n",
       "      <th>Predicted Prevalence</th>\n",
       "      <th>Accuracy</th>\n",
       "      <th>FNR</th>\n",
       "      <th>FPR</th>\n",
       "      <th>Recall</th>\n",
       "      <th>AUC</th>\n",
       "    </tr>\n",
       "  </thead>\n",
       "  <tbody>\n",
       "    <tr>\n",
       "      <th>race_white, all genders</th>\n",
       "      <td>6000</td>\n",
       "      <td>0.407</td>\n",
       "      <td>0.6005</td>\n",
       "      <td>0.1053</td>\n",
       "      <td>0.4023</td>\n",
       "      <td>0.8947</td>\n",
       "      <td>0.8423</td>\n",
       "    </tr>\n",
       "  </tbody>\n",
       "</table>\n",
       "</div>"
      ],
      "text/plain": [
       "                         Test Set Group Size (N)  Predicted Prevalence  \\\n",
       "race_white, all genders                     6000                 0.407   \n",
       "\n",
       "                         Accuracy     FNR     FPR  Recall     AUC  \n",
       "race_white, all genders    0.6005  0.1053  0.4023  0.8947  0.8423  "
      ]
     },
     "metadata": {},
     "output_type": "display_data"
    },
    {
     "data": {
      "image/png": "[encoded data removed]",
      "text/plain": [
       "<Figure size 432x288 with 2 Axes>"
      ]
     },
     "metadata": {
      "needs_background": "light"
     },
     "output_type": "display_data"
    },
    {
     "name": "stdout",
     "output_type": "stream",
     "text": [
      "\n",
      "\n"
     ]
    },
    {
     "data": {
      "text/html": [
       "<div>\n",
       "<style scoped>\n",
       "    .dataframe tbody tr th:only-of-type {\n",
       "        vertical-align: middle;\n",
       "    }\n",
       "\n",
       "    .dataframe tbody tr th {\n",
       "        vertical-align: top;\n",
       "    }\n",
       "\n",
       "    .dataframe thead th {\n",
       "        text-align: right;\n",
       "    }\n",
       "</style>\n",
       "<table border=\"1\" class=\"dataframe\">\n",
       "  <thead>\n",
       "    <tr style=\"text-align: right;\">\n",
       "      <th></th>\n",
       "      <th>Test Set Group Size (N)</th>\n",
       "      <th>Predicted Prevalence</th>\n",
       "      <th>Accuracy</th>\n",
       "      <th>FNR</th>\n",
       "      <th>FPR</th>\n",
       "      <th>Recall</th>\n",
       "      <th>AUC</th>\n",
       "    </tr>\n",
       "  </thead>\n",
       "  <tbody>\n",
       "    <tr>\n",
       "      <th>race_white and gender_female</th>\n",
       "      <td>1345</td>\n",
       "      <td>0.6431</td>\n",
       "      <td>0.3651</td>\n",
       "      <td>0.0769</td>\n",
       "      <td>0.6404</td>\n",
       "      <td>0.9231</td>\n",
       "      <td>0.8544</td>\n",
       "    </tr>\n",
       "  </tbody>\n",
       "</table>\n",
       "</div>"
      ],
      "text/plain": [
       "                              Test Set Group Size (N)  Predicted Prevalence  \\\n",
       "race_white and gender_female                     1345                0.6431   \n",
       "\n",
       "                              Accuracy     FNR     FPR  Recall     AUC  \n",
       "race_white and gender_female    0.3651  0.0769  0.6404  0.9231  0.8544  "
      ]
     },
     "metadata": {},
     "output_type": "display_data"
    },
    {
     "data": {
      "image/png": "[encoded data removed]",
      "text/plain": [
       "<Figure size 432x288 with 2 Axes>"
      ]
     },
     "metadata": {
      "needs_background": "light"
     },
     "output_type": "display_data"
    },
    {
     "name": "stdout",
     "output_type": "stream",
     "text": [
      "\n",
      "\n"
     ]
    },
    {
     "data": {
      "text/html": [
       "<div>\n",
       "<style scoped>\n",
       "    .dataframe tbody tr th:only-of-type {\n",
       "        vertical-align: middle;\n",
       "    }\n",
       "\n",
       "    .dataframe tbody tr th {\n",
       "        vertical-align: top;\n",
       "    }\n",
       "\n",
       "    .dataframe thead th {\n",
       "        text-align: right;\n",
       "    }\n",
       "</style>\n",
       "<table border=\"1\" class=\"dataframe\">\n",
       "  <thead>\n",
       "    <tr style=\"text-align: right;\">\n",
       "      <th></th>\n",
       "      <th>Test Set Group Size (N)</th>\n",
       "      <th>Predicted Prevalence</th>\n",
       "      <th>Accuracy</th>\n",
       "      <th>FNR</th>\n",
       "      <th>FPR</th>\n",
       "      <th>Recall</th>\n",
       "      <th>AUC</th>\n",
       "    </tr>\n",
       "  </thead>\n",
       "  <tbody>\n",
       "    <tr>\n",
       "      <th>race_white and gender_male</th>\n",
       "      <td>4653</td>\n",
       "      <td>0.3389</td>\n",
       "      <td>0.6684</td>\n",
       "      <td>0.1136</td>\n",
       "      <td>0.3337</td>\n",
       "      <td>0.8864</td>\n",
       "      <td>0.855</td>\n",
       "    </tr>\n",
       "  </tbody>\n",
       "</table>\n",
       "</div>"
      ],
      "text/plain": [
       "                            Test Set Group Size (N)  Predicted Prevalence  \\\n",
       "race_white and gender_male                     4653                0.3389   \n",
       "\n",
       "                            Accuracy     FNR     FPR  Recall    AUC  \n",
       "race_white and gender_male    0.6684  0.1136  0.3337  0.8864  0.855  "
      ]
     },
     "metadata": {},
     "output_type": "display_data"
    },
    {
     "data": {
      "image/png": "[encoded data removed]",
      "text/plain": [
       "<Figure size 432x288 with 2 Axes>"
      ]
     },
     "metadata": {
      "needs_background": "light"
     },
     "output_type": "display_data"
    },
    {
     "name": "stdout",
     "output_type": "stream",
     "text": [
      "\n",
      "\n"
     ]
    },
    {
     "data": {
      "text/html": [
       "<div>\n",
       "<style scoped>\n",
       "    .dataframe tbody tr th:only-of-type {\n",
       "        vertical-align: middle;\n",
       "    }\n",
       "\n",
       "    .dataframe tbody tr th {\n",
       "        vertical-align: top;\n",
       "    }\n",
       "\n",
       "    .dataframe thead th {\n",
       "        text-align: right;\n",
       "    }\n",
       "</style>\n",
       "<table border=\"1\" class=\"dataframe\">\n",
       "  <thead>\n",
       "    <tr style=\"text-align: right;\">\n",
       "      <th></th>\n",
       "      <th>Test Set Group Size (N)</th>\n",
       "      <th>Predicted Prevalence</th>\n",
       "      <th>Accuracy</th>\n",
       "      <th>FNR</th>\n",
       "      <th>FPR</th>\n",
       "      <th>Recall</th>\n",
       "      <th>AUC</th>\n",
       "    </tr>\n",
       "  </thead>\n",
       "  <tbody>\n",
       "    <tr>\n",
       "      <th>race_white and gender_unknown</th>\n",
       "      <td>2</td>\n",
       "      <td>0.0</td>\n",
       "      <td>1.0</td>\n",
       "      <td>NaN</td>\n",
       "      <td>0.0</td>\n",
       "      <td>NaN</td>\n",
       "      <td>NaN</td>\n",
       "    </tr>\n",
       "  </tbody>\n",
       "</table>\n",
       "</div>"
      ],
      "text/plain": [
       "                               Test Set Group Size (N)  Predicted Prevalence  \\\n",
       "race_white and gender_unknown                        2                   0.0   \n",
       "\n",
       "                               Accuracy  FNR  FPR  Recall  AUC  \n",
       "race_white and gender_unknown       1.0  NaN  0.0     NaN  NaN  "
      ]
     },
     "metadata": {},
     "output_type": "display_data"
    },
    {
     "data": {
      "image/png": "[encoded data removed]",
      "text/plain": [
       "<Figure size 432x288 with 2 Axes>"
      ]
     },
     "metadata": {
      "needs_background": "light"
     },
     "output_type": "display_data"
    },
    {
     "name": "stdout",
     "output_type": "stream",
     "text": [
      "\n",
      "\n"
     ]
    },
    {
     "data": {
      "text/html": [
       "<div>\n",
       "<style scoped>\n",
       "    .dataframe tbody tr th:only-of-type {\n",
       "        vertical-align: middle;\n",
       "    }\n",
       "\n",
       "    .dataframe tbody tr th {\n",
       "        vertical-align: top;\n",
       "    }\n",
       "\n",
       "    .dataframe thead th {\n",
       "        text-align: right;\n",
       "    }\n",
       "</style>\n",
       "<table border=\"1\" class=\"dataframe\">\n",
       "  <thead>\n",
       "    <tr style=\"text-align: right;\">\n",
       "      <th></th>\n",
       "      <th>Test Set Group Size (N)</th>\n",
       "      <th>Predicted Prevalence</th>\n",
       "      <th>Accuracy</th>\n",
       "      <th>FNR</th>\n",
       "      <th>FPR</th>\n",
       "      <th>Recall</th>\n",
       "      <th>AUC</th>\n",
       "    </tr>\n",
       "  </thead>\n",
       "  <tbody>\n",
       "    <tr>\n",
       "      <th>race_white [hispanic or latino], all genders</th>\n",
       "      <td>6751</td>\n",
       "      <td>0.2023</td>\n",
       "      <td>0.799</td>\n",
       "      <td>0.3448</td>\n",
       "      <td>0.2004</td>\n",
       "      <td>0.6552</td>\n",
       "      <td>0.7919</td>\n",
       "    </tr>\n",
       "  </tbody>\n",
       "</table>\n",
       "</div>"
      ],
      "text/plain": [
       "                                              Test Set Group Size (N)  \\\n",
       "race_white [hispanic or latino], all genders                     6751   \n",
       "\n",
       "                                              Predicted Prevalence  Accuracy  \\\n",
       "race_white [hispanic or latino], all genders                0.2023     0.799   \n",
       "\n",
       "                                                 FNR     FPR  Recall     AUC  \n",
       "race_white [hispanic or latino], all genders  0.3448  0.2004  0.6552  0.7919  "
      ]
     },
     "metadata": {},
     "output_type": "display_data"
    },
    {
     "data": {
      "image/png": "[encoded data removed]",
      "text/plain": [
       "<Figure size 432x288 with 2 Axes>"
      ]
     },
     "metadata": {
      "needs_background": "light"
     },
     "output_type": "display_data"
    },
    {
     "name": "stdout",
     "output_type": "stream",
     "text": [
      "\n",
      "\n"
     ]
    },
    {
     "data": {
      "text/html": [
       "<div>\n",
       "<style scoped>\n",
       "    .dataframe tbody tr th:only-of-type {\n",
       "        vertical-align: middle;\n",
       "    }\n",
       "\n",
       "    .dataframe tbody tr th {\n",
       "        vertical-align: top;\n",
       "    }\n",
       "\n",
       "    .dataframe thead th {\n",
       "        text-align: right;\n",
       "    }\n",
       "</style>\n",
       "<table border=\"1\" class=\"dataframe\">\n",
       "  <thead>\n",
       "    <tr style=\"text-align: right;\">\n",
       "      <th></th>\n",
       "      <th>Test Set Group Size (N)</th>\n",
       "      <th>Predicted Prevalence</th>\n",
       "      <th>Accuracy</th>\n",
       "      <th>FNR</th>\n",
       "      <th>FPR</th>\n",
       "      <th>Recall</th>\n",
       "      <th>AUC</th>\n",
       "    </tr>\n",
       "  </thead>\n",
       "  <tbody>\n",
       "    <tr>\n",
       "      <th>race_white [hispanic or latino] and gender_female</th>\n",
       "      <td>664</td>\n",
       "      <td>0.5633</td>\n",
       "      <td>0.4413</td>\n",
       "      <td>0.2857</td>\n",
       "      <td>0.5616</td>\n",
       "      <td>0.7143</td>\n",
       "      <td>0.7364</td>\n",
       "    </tr>\n",
       "  </tbody>\n",
       "</table>\n",
       "</div>"
      ],
      "text/plain": [
       "                                                   Test Set Group Size (N)  \\\n",
       "race_white [hispanic or latino] and gender_female                      664   \n",
       "\n",
       "                                                   Predicted Prevalence  \\\n",
       "race_white [hispanic or latino] and gender_female                0.5633   \n",
       "\n",
       "                                                   Accuracy     FNR     FPR  \\\n",
       "race_white [hispanic or latino] and gender_female    0.4413  0.2857  0.5616   \n",
       "\n",
       "                                                   Recall     AUC  \n",
       "race_white [hispanic or latino] and gender_female  0.7143  0.7364  "
      ]
     },
     "metadata": {},
     "output_type": "display_data"
    },
    {
     "data": {
      "image/png": "[encoded data removed]",
      "text/plain": [
       "<Figure size 432x288 with 2 Axes>"
      ]
     },
     "metadata": {
      "needs_background": "light"
     },
     "output_type": "display_data"
    },
    {
     "name": "stdout",
     "output_type": "stream",
     "text": [
      "\n",
      "\n"
     ]
    },
    {
     "data": {
      "text/html": [
       "<div>\n",
       "<style scoped>\n",
       "    .dataframe tbody tr th:only-of-type {\n",
       "        vertical-align: middle;\n",
       "    }\n",
       "\n",
       "    .dataframe tbody tr th {\n",
       "        vertical-align: top;\n",
       "    }\n",
       "\n",
       "    .dataframe thead th {\n",
       "        text-align: right;\n",
       "    }\n",
       "</style>\n",
       "<table border=\"1\" class=\"dataframe\">\n",
       "  <thead>\n",
       "    <tr style=\"text-align: right;\">\n",
       "      <th></th>\n",
       "      <th>Test Set Group Size (N)</th>\n",
       "      <th>Predicted Prevalence</th>\n",
       "      <th>Accuracy</th>\n",
       "      <th>FNR</th>\n",
       "      <th>FPR</th>\n",
       "      <th>Recall</th>\n",
       "      <th>AUC</th>\n",
       "    </tr>\n",
       "  </thead>\n",
       "  <tbody>\n",
       "    <tr>\n",
       "      <th>race_white [hispanic or latino] and gender_male</th>\n",
       "      <td>6083</td>\n",
       "      <td>0.1631</td>\n",
       "      <td>0.8379</td>\n",
       "      <td>0.3636</td>\n",
       "      <td>0.1614</td>\n",
       "      <td>0.6364</td>\n",
       "      <td>0.7814</td>\n",
       "    </tr>\n",
       "  </tbody>\n",
       "</table>\n",
       "</div>"
      ],
      "text/plain": [
       "                                                 Test Set Group Size (N)  \\\n",
       "race_white [hispanic or latino] and gender_male                     6083   \n",
       "\n",
       "                                                 Predicted Prevalence  \\\n",
       "race_white [hispanic or latino] and gender_male                0.1631   \n",
       "\n",
       "                                                 Accuracy     FNR     FPR  \\\n",
       "race_white [hispanic or latino] and gender_male    0.8379  0.3636  0.1614   \n",
       "\n",
       "                                                 Recall     AUC  \n",
       "race_white [hispanic or latino] and gender_male  0.6364  0.7814  "
      ]
     },
     "metadata": {},
     "output_type": "display_data"
    },
    {
     "data": {
      "image/png": "[encoded data removed]",
      "text/plain": [
       "<Figure size 432x288 with 2 Axes>"
      ]
     },
     "metadata": {
      "needs_background": "light"
     },
     "output_type": "display_data"
    },
    {
     "name": "stdout",
     "output_type": "stream",
     "text": [
      "\n",
      "\n"
     ]
    },
    {
     "data": {
      "text/html": [
       "<div>\n",
       "<style scoped>\n",
       "    .dataframe tbody tr th:only-of-type {\n",
       "        vertical-align: middle;\n",
       "    }\n",
       "\n",
       "    .dataframe tbody tr th {\n",
       "        vertical-align: top;\n",
       "    }\n",
       "\n",
       "    .dataframe thead th {\n",
       "        text-align: right;\n",
       "    }\n",
       "</style>\n",
       "<table border=\"1\" class=\"dataframe\">\n",
       "  <thead>\n",
       "    <tr style=\"text-align: right;\">\n",
       "      <th></th>\n",
       "      <th>Test Set Group Size (N)</th>\n",
       "      <th>Predicted Prevalence</th>\n",
       "      <th>Accuracy</th>\n",
       "      <th>FNR</th>\n",
       "      <th>FPR</th>\n",
       "      <th>Recall</th>\n",
       "      <th>AUC</th>\n",
       "    </tr>\n",
       "  </thead>\n",
       "  <tbody>\n",
       "    <tr>\n",
       "      <th>race_white [hispanic or latino] and gender_unknown</th>\n",
       "      <td>4</td>\n",
       "      <td>0.0</td>\n",
       "      <td>1.0</td>\n",
       "      <td>NaN</td>\n",
       "      <td>0.0</td>\n",
       "      <td>NaN</td>\n",
       "      <td>NaN</td>\n",
       "    </tr>\n",
       "  </tbody>\n",
       "</table>\n",
       "</div>"
      ],
      "text/plain": [
       "                                                    Test Set Group Size (N)  \\\n",
       "race_white [hispanic or latino] and gender_unknown                        4   \n",
       "\n",
       "                                                    Predicted Prevalence  \\\n",
       "race_white [hispanic or latino] and gender_unknown                   0.0   \n",
       "\n",
       "                                                    Accuracy  FNR  FPR  \\\n",
       "race_white [hispanic or latino] and gender_unknown       1.0  NaN  0.0   \n",
       "\n",
       "                                                    Recall  AUC  \n",
       "race_white [hispanic or latino] and gender_unknown     NaN  NaN  "
      ]
     },
     "metadata": {},
     "output_type": "display_data"
    },
    {
     "data": {
      "image/png": "[encoded data removed]",
      "text/plain": [
       "<Figure size 432x288 with 2 Axes>"
      ]
     },
     "metadata": {
      "needs_background": "light"
     },
     "output_type": "display_data"
    },
    {
     "name": "stdout",
     "output_type": "stream",
     "text": [
      "\n",
      "\n"
     ]
    },
    {
     "data": {
      "text/html": [
       "<div>\n",
       "<style scoped>\n",
       "    .dataframe tbody tr th:only-of-type {\n",
       "        vertical-align: middle;\n",
       "    }\n",
       "\n",
       "    .dataframe tbody tr th {\n",
       "        vertical-align: top;\n",
       "    }\n",
       "\n",
       "    .dataframe thead th {\n",
       "        text-align: right;\n",
       "    }\n",
       "</style>\n",
       "<table border=\"1\" class=\"dataframe\">\n",
       "  <thead>\n",
       "    <tr style=\"text-align: right;\">\n",
       "      <th></th>\n",
       "      <th>Test Set Group Size (N)</th>\n",
       "      <th>Predicted Prevalence</th>\n",
       "      <th>Accuracy</th>\n",
       "      <th>FNR</th>\n",
       "      <th>FPR</th>\n",
       "      <th>Recall</th>\n",
       "      <th>AUC</th>\n",
       "    </tr>\n",
       "  </thead>\n",
       "  <tbody>\n",
       "    <tr>\n",
       "      <th>race_white/black [hispanic or latino], all genders</th>\n",
       "      <td>241</td>\n",
       "      <td>0.2282</td>\n",
       "      <td>0.7801</td>\n",
       "      <td>0.0</td>\n",
       "      <td>0.2218</td>\n",
       "      <td>1.0</td>\n",
       "      <td>1.0</td>\n",
       "    </tr>\n",
       "  </tbody>\n",
       "</table>\n",
       "</div>"
      ],
      "text/plain": [
       "                                                    Test Set Group Size (N)  \\\n",
       "race_white/black [hispanic or latino], all genders                      241   \n",
       "\n",
       "                                                    Predicted Prevalence  \\\n",
       "race_white/black [hispanic or latino], all genders                0.2282   \n",
       "\n",
       "                                                    Accuracy  FNR     FPR  \\\n",
       "race_white/black [hispanic or latino], all genders    0.7801  0.0  0.2218   \n",
       "\n",
       "                                                    Recall  AUC  \n",
       "race_white/black [hispanic or latino], all genders     1.0  1.0  "
      ]
     },
     "metadata": {},
     "output_type": "display_data"
    },
    {
     "data": {
      "image/png": "[encoded data removed]",
      "text/plain": [
       "<Figure size 432x288 with 2 Axes>"
      ]
     },
     "metadata": {
      "needs_background": "light"
     },
     "output_type": "display_data"
    },
    {
     "name": "stdout",
     "output_type": "stream",
     "text": [
      "\n",
      "\n"
     ]
    },
    {
     "data": {
      "text/html": [
       "<div>\n",
       "<style scoped>\n",
       "    .dataframe tbody tr th:only-of-type {\n",
       "        vertical-align: middle;\n",
       "    }\n",
       "\n",
       "    .dataframe tbody tr th {\n",
       "        vertical-align: top;\n",
       "    }\n",
       "\n",
       "    .dataframe thead th {\n",
       "        text-align: right;\n",
       "    }\n",
       "</style>\n",
       "<table border=\"1\" class=\"dataframe\">\n",
       "  <thead>\n",
       "    <tr style=\"text-align: right;\">\n",
       "      <th></th>\n",
       "      <th>Test Set Group Size (N)</th>\n",
       "      <th>Predicted Prevalence</th>\n",
       "      <th>Accuracy</th>\n",
       "      <th>FNR</th>\n",
       "      <th>FPR</th>\n",
       "      <th>Recall</th>\n",
       "      <th>AUC</th>\n",
       "    </tr>\n",
       "  </thead>\n",
       "  <tbody>\n",
       "    <tr>\n",
       "      <th>race_white/black [hispanic or latino] and gender_female</th>\n",
       "      <td>28</td>\n",
       "      <td>0.6786</td>\n",
       "      <td>0.3929</td>\n",
       "      <td>0.0</td>\n",
       "      <td>0.6538</td>\n",
       "      <td>1.0</td>\n",
       "      <td>1.0</td>\n",
       "    </tr>\n",
       "  </tbody>\n",
       "</table>\n",
       "</div>"
      ],
      "text/plain": [
       "                                                    Test Set Group Size (N)  \\\n",
       "race_white/black [hispanic or latino] and gende...                       28   \n",
       "\n",
       "                                                    Predicted Prevalence  \\\n",
       "race_white/black [hispanic or latino] and gende...                0.6786   \n",
       "\n",
       "                                                    Accuracy  FNR     FPR  \\\n",
       "race_white/black [hispanic or latino] and gende...    0.3929  0.0  0.6538   \n",
       "\n",
       "                                                    Recall  AUC  \n",
       "race_white/black [hispanic or latino] and gende...     1.0  1.0  "
      ]
     },
     "metadata": {},
     "output_type": "display_data"
    },
    {
     "data": {
      "image/png": "[encoded data removed]",
      "text/plain": [
       "<Figure size 432x288 with 2 Axes>"
      ]
     },
     "metadata": {
      "needs_background": "light"
     },
     "output_type": "display_data"
    },
    {
     "name": "stdout",
     "output_type": "stream",
     "text": [
      "\n",
      "\n"
     ]
    },
    {
     "data": {
      "text/html": [
       "<div>\n",
       "<style scoped>\n",
       "    .dataframe tbody tr th:only-of-type {\n",
       "        vertical-align: middle;\n",
       "    }\n",
       "\n",
       "    .dataframe tbody tr th {\n",
       "        vertical-align: top;\n",
       "    }\n",
       "\n",
       "    .dataframe thead th {\n",
       "        text-align: right;\n",
       "    }\n",
       "</style>\n",
       "<table border=\"1\" class=\"dataframe\">\n",
       "  <thead>\n",
       "    <tr style=\"text-align: right;\">\n",
       "      <th></th>\n",
       "      <th>Test Set Group Size (N)</th>\n",
       "      <th>Predicted Prevalence</th>\n",
       "      <th>Accuracy</th>\n",
       "      <th>FNR</th>\n",
       "      <th>FPR</th>\n",
       "      <th>Recall</th>\n",
       "      <th>AUC</th>\n",
       "    </tr>\n",
       "  </thead>\n",
       "  <tbody>\n",
       "    <tr>\n",
       "      <th>race_white/black [hispanic or latino] and gender_male</th>\n",
       "      <td>213</td>\n",
       "      <td>0.169</td>\n",
       "      <td>0.831</td>\n",
       "      <td>NaN</td>\n",
       "      <td>0.169</td>\n",
       "      <td>NaN</td>\n",
       "      <td>NaN</td>\n",
       "    </tr>\n",
       "  </tbody>\n",
       "</table>\n",
       "</div>"
      ],
      "text/plain": [
       "                                                    Test Set Group Size (N)  \\\n",
       "race_white/black [hispanic or latino] and gende...                      213   \n",
       "\n",
       "                                                    Predicted Prevalence  \\\n",
       "race_white/black [hispanic or latino] and gende...                 0.169   \n",
       "\n",
       "                                                    Accuracy  FNR    FPR  \\\n",
       "race_white/black [hispanic or latino] and gende...     0.831  NaN  0.169   \n",
       "\n",
       "                                                    Recall  AUC  \n",
       "race_white/black [hispanic or latino] and gende...     NaN  NaN  "
      ]
     },
     "metadata": {},
     "output_type": "display_data"
    },
    {
     "data": {
      "image/png": "[encoded data removed]",
      "text/plain": [
       "<Figure size 432x288 with 2 Axes>"
      ]
     },
     "metadata": {
      "needs_background": "light"
     },
     "output_type": "display_data"
    },
    {
     "name": "stdout",
     "output_type": "stream",
     "text": [
      "\n",
      "\n",
      "race_white/black [hispanic or latino] and gender_unknown \n",
      "\t No members of this subgroup present in the test set. \n",
      "\n"
     ]
    },
    {
     "data": {
      "text/html": [
       "<div>\n",
       "<style scoped>\n",
       "    .dataframe tbody tr th:only-of-type {\n",
       "        vertical-align: middle;\n",
       "    }\n",
       "\n",
       "    .dataframe tbody tr th {\n",
       "        vertical-align: top;\n",
       "    }\n",
       "\n",
       "    .dataframe thead th {\n",
       "        text-align: right;\n",
       "    }\n",
       "</style>\n",
       "<table border=\"1\" class=\"dataframe\">\n",
       "  <thead>\n",
       "    <tr style=\"text-align: right;\">\n",
       "      <th></th>\n",
       "      <th>Test Set Group Size (N)</th>\n",
       "      <th>Predicted Prevalence</th>\n",
       "      <th>Accuracy</th>\n",
       "      <th>FNR</th>\n",
       "      <th>FPR</th>\n",
       "      <th>Recall</th>\n",
       "      <th>AUC</th>\n",
       "    </tr>\n",
       "  </thead>\n",
       "  <tbody>\n",
       "    <tr>\n",
       "      <th>Overall</th>\n",
       "      <td>43363</td>\n",
       "      <td>0.2384</td>\n",
       "      <td>0.7651</td>\n",
       "      <td>0.2077</td>\n",
       "      <td>0.2350</td>\n",
       "      <td>0.7923</td>\n",
       "      <td>0.8411</td>\n",
       "    </tr>\n",
       "    <tr>\n",
       "      <th>gender_female, all races</th>\n",
       "      <td>5582</td>\n",
       "      <td>0.6141</td>\n",
       "      <td>0.3968</td>\n",
       "      <td>0.0704</td>\n",
       "      <td>0.6101</td>\n",
       "      <td>0.9296</td>\n",
       "      <td>0.8228</td>\n",
       "    </tr>\n",
       "    <tr>\n",
       "      <th>gender_male, all races</th>\n",
       "      <td>37546</td>\n",
       "      <td>0.1831</td>\n",
       "      <td>0.8194</td>\n",
       "      <td>0.2593</td>\n",
       "      <td>0.1802</td>\n",
       "      <td>0.7407</td>\n",
       "      <td>0.8395</td>\n",
       "    </tr>\n",
       "    <tr>\n",
       "      <th>gender_unknown, all races</th>\n",
       "      <td>235</td>\n",
       "      <td>0.1532</td>\n",
       "      <td>0.8468</td>\n",
       "      <td>NaN</td>\n",
       "      <td>0.1532</td>\n",
       "      <td>NaN</td>\n",
       "      <td>NaN</td>\n",
       "    </tr>\n",
       "    <tr>\n",
       "      <th>race_american indian, all genders</th>\n",
       "      <td>7</td>\n",
       "      <td>0.7143</td>\n",
       "      <td>0.2857</td>\n",
       "      <td>NaN</td>\n",
       "      <td>0.7143</td>\n",
       "      <td>NaN</td>\n",
       "      <td>NaN</td>\n",
       "    </tr>\n",
       "    <tr>\n",
       "      <th>race_american indian and gender_female</th>\n",
       "      <td>3</td>\n",
       "      <td>1.0000</td>\n",
       "      <td>0.0000</td>\n",
       "      <td>NaN</td>\n",
       "      <td>1.0000</td>\n",
       "      <td>NaN</td>\n",
       "      <td>NaN</td>\n",
       "    </tr>\n",
       "    <tr>\n",
       "      <th>race_american indian and gender_male</th>\n",
       "      <td>4</td>\n",
       "      <td>0.5000</td>\n",
       "      <td>0.5000</td>\n",
       "      <td>NaN</td>\n",
       "      <td>0.5000</td>\n",
       "      <td>NaN</td>\n",
       "      <td>NaN</td>\n",
       "    </tr>\n",
       "    <tr>\n",
       "      <th>race_asian, all genders</th>\n",
       "      <td>224</td>\n",
       "      <td>0.3214</td>\n",
       "      <td>0.6920</td>\n",
       "      <td>0.0000</td>\n",
       "      <td>0.3122</td>\n",
       "      <td>1.0000</td>\n",
       "      <td>0.8612</td>\n",
       "    </tr>\n",
       "    <tr>\n",
       "      <th>race_asian and gender_female</th>\n",
       "      <td>39</td>\n",
       "      <td>0.6923</td>\n",
       "      <td>0.3333</td>\n",
       "      <td>0.0000</td>\n",
       "      <td>0.6842</td>\n",
       "      <td>1.0000</td>\n",
       "      <td>0.9474</td>\n",
       "    </tr>\n",
       "    <tr>\n",
       "      <th>race_asian and gender_male</th>\n",
       "      <td>185</td>\n",
       "      <td>0.2432</td>\n",
       "      <td>0.7676</td>\n",
       "      <td>0.0000</td>\n",
       "      <td>0.2350</td>\n",
       "      <td>1.0000</td>\n",
       "      <td>0.8634</td>\n",
       "    </tr>\n",
       "    <tr>\n",
       "      <th>race_biracial, all genders</th>\n",
       "      <td>5</td>\n",
       "      <td>0.2000</td>\n",
       "      <td>0.8000</td>\n",
       "      <td>NaN</td>\n",
       "      <td>0.2000</td>\n",
       "      <td>NaN</td>\n",
       "      <td>NaN</td>\n",
       "    </tr>\n",
       "    <tr>\n",
       "      <th>race_biracial and gender_male</th>\n",
       "      <td>5</td>\n",
       "      <td>0.2000</td>\n",
       "      <td>0.8000</td>\n",
       "      <td>NaN</td>\n",
       "      <td>0.2000</td>\n",
       "      <td>NaN</td>\n",
       "      <td>NaN</td>\n",
       "    </tr>\n",
       "    <tr>\n",
       "      <th>race_black, all genders</th>\n",
       "      <td>29269</td>\n",
       "      <td>0.2143</td>\n",
       "      <td>0.7889</td>\n",
       "      <td>0.2262</td>\n",
       "      <td>0.2111</td>\n",
       "      <td>0.7738</td>\n",
       "      <td>0.8407</td>\n",
       "    </tr>\n",
       "    <tr>\n",
       "      <th>race_black and gender_female</th>\n",
       "      <td>3424</td>\n",
       "      <td>0.6133</td>\n",
       "      <td>0.3992</td>\n",
       "      <td>0.0426</td>\n",
       "      <td>0.6085</td>\n",
       "      <td>0.9574</td>\n",
       "      <td>0.8187</td>\n",
       "    </tr>\n",
       "    <tr>\n",
       "      <th>race_black and gender_male</th>\n",
       "      <td>25824</td>\n",
       "      <td>0.1616</td>\n",
       "      <td>0.8403</td>\n",
       "      <td>0.2975</td>\n",
       "      <td>0.1590</td>\n",
       "      <td>0.7025</td>\n",
       "      <td>0.8359</td>\n",
       "    </tr>\n",
       "    <tr>\n",
       "      <th>race_black and gender_unknown</th>\n",
       "      <td>21</td>\n",
       "      <td>0.0000</td>\n",
       "      <td>1.0000</td>\n",
       "      <td>NaN</td>\n",
       "      <td>0.0000</td>\n",
       "      <td>NaN</td>\n",
       "      <td>NaN</td>\n",
       "    </tr>\n",
       "    <tr>\n",
       "      <th>race_hispanic, all genders</th>\n",
       "      <td>446</td>\n",
       "      <td>0.1076</td>\n",
       "      <td>0.8946</td>\n",
       "      <td>0.0000</td>\n",
       "      <td>0.1056</td>\n",
       "      <td>1.0000</td>\n",
       "      <td>0.9933</td>\n",
       "    </tr>\n",
       "    <tr>\n",
       "      <th>race_hispanic and gender_female</th>\n",
       "      <td>45</td>\n",
       "      <td>0.4889</td>\n",
       "      <td>0.5333</td>\n",
       "      <td>0.0000</td>\n",
       "      <td>0.4773</td>\n",
       "      <td>1.0000</td>\n",
       "      <td>0.9318</td>\n",
       "    </tr>\n",
       "    <tr>\n",
       "      <th>race_hispanic and gender_male</th>\n",
       "      <td>401</td>\n",
       "      <td>0.0648</td>\n",
       "      <td>0.9352</td>\n",
       "      <td>NaN</td>\n",
       "      <td>0.0648</td>\n",
       "      <td>NaN</td>\n",
       "      <td>NaN</td>\n",
       "    </tr>\n",
       "    <tr>\n",
       "      <th>race_unknown, all genders</th>\n",
       "      <td>420</td>\n",
       "      <td>0.1810</td>\n",
       "      <td>0.8190</td>\n",
       "      <td>NaN</td>\n",
       "      <td>0.1810</td>\n",
       "      <td>NaN</td>\n",
       "      <td>NaN</td>\n",
       "    </tr>\n",
       "    <tr>\n",
       "      <th>race_unknown and gender_female</th>\n",
       "      <td>34</td>\n",
       "      <td>0.5294</td>\n",
       "      <td>0.4706</td>\n",
       "      <td>NaN</td>\n",
       "      <td>0.5294</td>\n",
       "      <td>NaN</td>\n",
       "      <td>NaN</td>\n",
       "    </tr>\n",
       "    <tr>\n",
       "      <th>race_unknown and gender_male</th>\n",
       "      <td>178</td>\n",
       "      <td>0.1236</td>\n",
       "      <td>0.8764</td>\n",
       "      <td>NaN</td>\n",
       "      <td>0.1236</td>\n",
       "      <td>NaN</td>\n",
       "      <td>NaN</td>\n",
       "    </tr>\n",
       "    <tr>\n",
       "      <th>race_unknown and gender_unknown</th>\n",
       "      <td>208</td>\n",
       "      <td>0.1731</td>\n",
       "      <td>0.8269</td>\n",
       "      <td>NaN</td>\n",
       "      <td>0.1731</td>\n",
       "      <td>NaN</td>\n",
       "      <td>NaN</td>\n",
       "    </tr>\n",
       "    <tr>\n",
       "      <th>race_white, all genders</th>\n",
       "      <td>6000</td>\n",
       "      <td>0.4070</td>\n",
       "      <td>0.6005</td>\n",
       "      <td>0.1053</td>\n",
       "      <td>0.4023</td>\n",
       "      <td>0.8947</td>\n",
       "      <td>0.8423</td>\n",
       "    </tr>\n",
       "    <tr>\n",
       "      <th>race_white and gender_female</th>\n",
       "      <td>1345</td>\n",
       "      <td>0.6431</td>\n",
       "      <td>0.3651</td>\n",
       "      <td>0.0769</td>\n",
       "      <td>0.6404</td>\n",
       "      <td>0.9231</td>\n",
       "      <td>0.8544</td>\n",
       "    </tr>\n",
       "    <tr>\n",
       "      <th>race_white and gender_male</th>\n",
       "      <td>4653</td>\n",
       "      <td>0.3389</td>\n",
       "      <td>0.6684</td>\n",
       "      <td>0.1136</td>\n",
       "      <td>0.3337</td>\n",
       "      <td>0.8864</td>\n",
       "      <td>0.8550</td>\n",
       "    </tr>\n",
       "    <tr>\n",
       "      <th>race_white and gender_unknown</th>\n",
       "      <td>2</td>\n",
       "      <td>0.0000</td>\n",
       "      <td>1.0000</td>\n",
       "      <td>NaN</td>\n",
       "      <td>0.0000</td>\n",
       "      <td>NaN</td>\n",
       "      <td>NaN</td>\n",
       "    </tr>\n",
       "    <tr>\n",
       "      <th>race_white [hispanic or latino], all genders</th>\n",
       "      <td>6751</td>\n",
       "      <td>0.2023</td>\n",
       "      <td>0.7990</td>\n",
       "      <td>0.3448</td>\n",
       "      <td>0.2004</td>\n",
       "      <td>0.6552</td>\n",
       "      <td>0.7919</td>\n",
       "    </tr>\n",
       "    <tr>\n",
       "      <th>race_white [hispanic or latino] and gender_female</th>\n",
       "      <td>664</td>\n",
       "      <td>0.5633</td>\n",
       "      <td>0.4413</td>\n",
       "      <td>0.2857</td>\n",
       "      <td>0.5616</td>\n",
       "      <td>0.7143</td>\n",
       "      <td>0.7364</td>\n",
       "    </tr>\n",
       "    <tr>\n",
       "      <th>race_white [hispanic or latino] and gender_male</th>\n",
       "      <td>6083</td>\n",
       "      <td>0.1631</td>\n",
       "      <td>0.8379</td>\n",
       "      <td>0.3636</td>\n",
       "      <td>0.1614</td>\n",
       "      <td>0.6364</td>\n",
       "      <td>0.7814</td>\n",
       "    </tr>\n",
       "    <tr>\n",
       "      <th>race_white [hispanic or latino] and gender_unknown</th>\n",
       "      <td>4</td>\n",
       "      <td>0.0000</td>\n",
       "      <td>1.0000</td>\n",
       "      <td>NaN</td>\n",
       "      <td>0.0000</td>\n",
       "      <td>NaN</td>\n",
       "      <td>NaN</td>\n",
       "    </tr>\n",
       "    <tr>\n",
       "      <th>race_white/black [hispanic or latino], all genders</th>\n",
       "      <td>241</td>\n",
       "      <td>0.2282</td>\n",
       "      <td>0.7801</td>\n",
       "      <td>0.0000</td>\n",
       "      <td>0.2218</td>\n",
       "      <td>1.0000</td>\n",
       "      <td>1.0000</td>\n",
       "    </tr>\n",
       "    <tr>\n",
       "      <th>race_white/black [hispanic or latino] and gender_female</th>\n",
       "      <td>28</td>\n",
       "      <td>0.6786</td>\n",
       "      <td>0.3929</td>\n",
       "      <td>0.0000</td>\n",
       "      <td>0.6538</td>\n",
       "      <td>1.0000</td>\n",
       "      <td>1.0000</td>\n",
       "    </tr>\n",
       "    <tr>\n",
       "      <th>race_white/black [hispanic or latino] and gender_male</th>\n",
       "      <td>213</td>\n",
       "      <td>0.1690</td>\n",
       "      <td>0.8310</td>\n",
       "      <td>NaN</td>\n",
       "      <td>0.1690</td>\n",
       "      <td>NaN</td>\n",
       "      <td>NaN</td>\n",
       "    </tr>\n",
       "  </tbody>\n",
       "</table>\n",
       "</div>"
      ],
      "text/plain": [
       "                                                    Test Set Group Size (N)  \\\n",
       "Overall                                                               43363   \n",
       "gender_female, all races                                               5582   \n",
       "gender_male, all races                                                37546   \n",
       "gender_unknown, all races                                               235   \n",
       "race_american indian, all genders                                         7   \n",
       "race_american indian and gender_female                                    3   \n",
       "race_american indian and gender_male                                      4   \n",
       "race_asian, all genders                                                 224   \n",
       "race_asian and gender_female                                             39   \n",
       "race_asian and gender_male                                              185   \n",
       "race_biracial, all genders                                                5   \n",
       "race_biracial and gender_male                                             5   \n",
       "race_black, all genders                                               29269   \n",
       "race_black and gender_female                                           3424   \n",
       "race_black and gender_male                                            25824   \n",
       "race_black and gender_unknown                                            21   \n",
       "race_hispanic, all genders                                              446   \n",
       "race_hispanic and gender_female                                          45   \n",
       "race_hispanic and gender_male                                           401   \n",
       "race_unknown, all genders                                               420   \n",
       "race_unknown and gender_female                                           34   \n",
       "race_unknown and gender_male                                            178   \n",
       "race_unknown and gender_unknown                                         208   \n",
       "race_white, all genders                                                6000   \n",
       "race_white and gender_female                                           1345   \n",
       "race_white and gender_male                                             4653   \n",
       "race_white and gender_unknown                                             2   \n",
       "race_white [hispanic or latino], all genders                           6751   \n",
       "race_white [hispanic or latino] and gender_female                       664   \n",
       "race_white [hispanic or latino] and gender_male                        6083   \n",
       "race_white [hispanic or latino] and gender_unknown                        4   \n",
       "race_white/black [hispanic or latino], all genders                      241   \n",
       "race_white/black [hispanic or latino] and gende...                       28   \n",
       "race_white/black [hispanic or latino] and gende...                      213   \n",
       "\n",
       "                                                    Predicted Prevalence  \\\n",
       "Overall                                                           0.2384   \n",
       "gender_female, all races                                          0.6141   \n",
       "gender_male, all races                                            0.1831   \n",
       "gender_unknown, all races                                         0.1532   \n",
       "race_american indian, all genders                                 0.7143   \n",
       "race_american indian and gender_female                            1.0000   \n",
       "race_american indian and gender_male                              0.5000   \n",
       "race_asian, all genders                                           0.3214   \n",
       "race_asian and gender_female                                      0.6923   \n",
       "race_asian and gender_male                                        0.2432   \n",
       "race_biracial, all genders                                        0.2000   \n",
       "race_biracial and gender_male                                     0.2000   \n",
       "race_black, all genders                                           0.2143   \n",
       "race_black and gender_female                                      0.6133   \n",
       "race_black and gender_male                                        0.1616   \n",
       "race_black and gender_unknown                                     0.0000   \n",
       "race_hispanic, all genders                                        0.1076   \n",
       "race_hispanic and gender_female                                   0.4889   \n",
       "race_hispanic and gender_male                                     0.0648   \n",
       "race_unknown, all genders                                         0.1810   \n",
       "race_unknown and gender_female                                    0.5294   \n",
       "race_unknown and gender_male                                      0.1236   \n",
       "race_unknown and gender_unknown                                   0.1731   \n",
       "race_white, all genders                                           0.4070   \n",
       "race_white and gender_female                                      0.6431   \n",
       "race_white and gender_male                                        0.3389   \n",
       "race_white and gender_unknown                                     0.0000   \n",
       "race_white [hispanic or latino], all genders                      0.2023   \n",
       "race_white [hispanic or latino] and gender_female                 0.5633   \n",
       "race_white [hispanic or latino] and gender_male                   0.1631   \n",
       "race_white [hispanic or latino] and gender_unknown                0.0000   \n",
       "race_white/black [hispanic or latino], all genders                0.2282   \n",
       "race_white/black [hispanic or latino] and gende...                0.6786   \n",
       "race_white/black [hispanic or latino] and gende...                0.1690   \n",
       "\n",
       "                                                    Accuracy     FNR     FPR  \\\n",
       "Overall                                               0.7651  0.2077  0.2350   \n",
       "gender_female, all races                              0.3968  0.0704  0.6101   \n",
       "gender_male, all races                                0.8194  0.2593  0.1802   \n",
       "gender_unknown, all races                             0.8468     NaN  0.1532   \n",
       "race_american indian, all genders                     0.2857     NaN  0.7143   \n",
       "race_american indian and gender_female                0.0000     NaN  1.0000   \n",
       "race_american indian and gender_male                  0.5000     NaN  0.5000   \n",
       "race_asian, all genders                               0.6920  0.0000  0.3122   \n",
       "race_asian and gender_female                          0.3333  0.0000  0.6842   \n",
       "race_asian and gender_male                            0.7676  0.0000  0.2350   \n",
       "race_biracial, all genders                            0.8000     NaN  0.2000   \n",
       "race_biracial and gender_male                         0.8000     NaN  0.2000   \n",
       "race_black, all genders                               0.7889  0.2262  0.2111   \n",
       "race_black and gender_female                          0.3992  0.0426  0.6085   \n",
       "race_black and gender_male                            0.8403  0.2975  0.1590   \n",
       "race_black and gender_unknown                         1.0000     NaN  0.0000   \n",
       "race_hispanic, all genders                            0.8946  0.0000  0.1056   \n",
       "race_hispanic and gender_female                       0.5333  0.0000  0.4773   \n",
       "race_hispanic and gender_male                         0.9352     NaN  0.0648   \n",
       "race_unknown, all genders                             0.8190     NaN  0.1810   \n",
       "race_unknown and gender_female                        0.4706     NaN  0.5294   \n",
       "race_unknown and gender_male                          0.8764     NaN  0.1236   \n",
       "race_unknown and gender_unknown                       0.8269     NaN  0.1731   \n",
       "race_white, all genders                               0.6005  0.1053  0.4023   \n",
       "race_white and gender_female                          0.3651  0.0769  0.6404   \n",
       "race_white and gender_male                            0.6684  0.1136  0.3337   \n",
       "race_white and gender_unknown                         1.0000     NaN  0.0000   \n",
       "race_white [hispanic or latino], all genders          0.7990  0.3448  0.2004   \n",
       "race_white [hispanic or latino] and gender_female     0.4413  0.2857  0.5616   \n",
       "race_white [hispanic or latino] and gender_male       0.8379  0.3636  0.1614   \n",
       "race_white [hispanic or latino] and gender_unknown    1.0000     NaN  0.0000   \n",
       "race_white/black [hispanic or latino], all genders    0.7801  0.0000  0.2218   \n",
       "race_white/black [hispanic or latino] and gende...    0.3929  0.0000  0.6538   \n",
       "race_white/black [hispanic or latino] and gende...    0.8310     NaN  0.1690   \n",
       "\n",
       "                                                    Recall     AUC  \n",
       "Overall                                             0.7923  0.8411  \n",
       "gender_female, all races                            0.9296  0.8228  \n",
       "gender_male, all races                              0.7407  0.8395  \n",
       "gender_unknown, all races                              NaN     NaN  \n",
       "race_american indian, all genders                      NaN     NaN  \n",
       "race_american indian and gender_female                 NaN     NaN  \n",
       "race_american indian and gender_male                   NaN     NaN  \n",
       "race_asian, all genders                             1.0000  0.8612  \n",
       "race_asian and gender_female                        1.0000  0.9474  \n",
       "race_asian and gender_male                          1.0000  0.8634  \n",
       "race_biracial, all genders                             NaN     NaN  \n",
       "race_biracial and gender_male                          NaN     NaN  \n",
       "race_black, all genders                             0.7738  0.8407  \n",
       "race_black and gender_female                        0.9574  0.8187  \n",
       "race_black and gender_male                          0.7025  0.8359  \n",
       "race_black and gender_unknown                          NaN     NaN  \n",
       "race_hispanic, all genders                          1.0000  0.9933  \n",
       "race_hispanic and gender_female                     1.0000  0.9318  \n",
       "race_hispanic and gender_male                          NaN     NaN  \n",
       "race_unknown, all genders                              NaN     NaN  \n",
       "race_unknown and gender_female                         NaN     NaN  \n",
       "race_unknown and gender_male                           NaN     NaN  \n",
       "race_unknown and gender_unknown                        NaN     NaN  \n",
       "race_white, all genders                             0.8947  0.8423  \n",
       "race_white and gender_female                        0.9231  0.8544  \n",
       "race_white and gender_male                          0.8864  0.8550  \n",
       "race_white and gender_unknown                          NaN     NaN  \n",
       "race_white [hispanic or latino], all genders        0.6552  0.7919  \n",
       "race_white [hispanic or latino] and gender_female   0.7143  0.7364  \n",
       "race_white [hispanic or latino] and gender_male     0.6364  0.7814  \n",
       "race_white [hispanic or latino] and gender_unknown     NaN     NaN  \n",
       "race_white/black [hispanic or latino], all genders  1.0000  1.0000  \n",
       "race_white/black [hispanic or latino] and gende...  1.0000  1.0000  \n",
       "race_white/black [hispanic or latino] and gende...     NaN     NaN  "
      ]
     },
     "metadata": {},
     "output_type": "display_data"
    },
    {
     "name": "stdout",
     "output_type": "stream",
     "text": [
      "\n",
      "\n"
     ]
    }
   ],
   "source": [
    "subgroup_stats('race', 'gender')"
   ]
  },
  {
   "cell_type": "code",
   "execution_count": null,
   "metadata": {},
   "outputs": [],
   "source": []
  }
 ],
 "metadata": {
  "kernelspec": {
   "display_name": "Python 3",
   "language": "python",
   "name": "python3"
  },
  "language_info": {
   "codemirror_mode": {
    "name": "ipython",
    "version": 3
   },
   "file_extension": ".py",
   "mimetype": "text/x-python",
   "name": "python",
   "nbconvert_exporter": "python",
   "pygments_lexer": "ipython3",
   "version": "3.7.4"
  }
 },
 "nbformat": 4,
 "nbformat_minor": 4
}
