{
 "cells": [
  {
   "cell_type": "code",
   "execution_count": 1,
   "metadata": {},
   "outputs": [
    {
     "data": {
      "application/javascript": [
       "IPython.OutputArea.prototype._should_scroll = function(lines) {\n",
       "    return false;\n",
       "}\n"
      ],
      "text/plain": [
       "<IPython.core.display.Javascript object>"
      ]
     },
     "metadata": {},
     "output_type": "display_data"
    }
   ],
   "source": [
    "%%javascript\n",
    "IPython.OutputArea.prototype._should_scroll = function(lines) {\n",
    "    return false;\n",
    "}"
   ]
  },
  {
   "cell_type": "code",
   "execution_count": 2,
   "metadata": {},
   "outputs": [],
   "source": [
    "import pandas as pd\n",
    "import numpy as np\n",
    "import matplotlib.pyplot as plt\n",
    "import seaborn as sns\n",
    "import os\n",
    "\n",
    "os.chdir(\"..\")\n",
    "\n",
    "from IPython.display import display\n",
    "\n",
    "import sklearn.model_selection\n",
    "import sklearn.metrics\n",
    "import sklearn.datasets\n",
    "from sklearn.ensemble import GradientBoostingClassifier\n",
    "\n",
    "from Final_Data_Prep import remove_final_dummy, get_train_test, downsample\n",
    "\n",
    "%matplotlib inline\n",
    "\n",
    "import sys\n",
    "sys.path.append(\"../\")"
   ]
  },
  {
   "cell_type": "code",
   "execution_count": 3,
   "metadata": {},
   "outputs": [],
   "source": [
    "import warnings\n",
    "warnings.filterwarnings('ignore')"
   ]
  },
  {
   "cell_type": "code",
   "execution_count": 4,
   "metadata": {},
   "outputs": [],
   "source": [
    "# read in fresh copy of df\n",
    "df = pd.read_pickle('total_df.pckl.gz', compression = 'gzip')"
   ]
  },
  {
   "cell_type": "code",
   "execution_count": 5,
   "metadata": {},
   "outputs": [],
   "source": [
    "'''\n",
    "Data Prep (consistent with ADS as seen in Final_Gradient_Boosting_Model.ipynb)\n",
    "\n",
    "Performing prep on total_df (here called df), not decoded_df as above in LIME\n",
    "'''\n",
    "\n",
    "#put earliest 85% of cases into training df, latest 15% of cases into test df\n",
    "training, test = get_train_test(df, train_size=0.85, test_size=0.15)\n",
    "\n",
    "# passing 50 to downsample function means training set will have 50% positive cases\n",
    "training = downsample(training, 50)\n",
    "\n",
    "X_train = training.drop('MHI', axis=1)\n",
    "y_train = training['MHI']\n",
    "\n",
    "X_test = test.drop('MHI', axis=1)\n",
    "y_test = test['MHI']"
   ]
  },
  {
   "cell_type": "code",
   "execution_count": 6,
   "metadata": {},
   "outputs": [
    {
     "data": {
      "text/plain": [
       "GradientBoostingClassifier(ccp_alpha=0.0, criterion='friedman_mse', init=None,\n",
       "                           learning_rate=0.01, loss='deviance', max_depth=3,\n",
       "                           max_features=None, max_leaf_nodes=None,\n",
       "                           min_impurity_decrease=0.0, min_impurity_split=None,\n",
       "                           min_samples_leaf=10, min_samples_split=2,\n",
       "                           min_weight_fraction_leaf=0.0, n_estimators=1000,\n",
       "                           n_iter_no_change=None, presort='deprecated',\n",
       "                           random_state=42, subsample=1.0, tol=0.0001,\n",
       "                           validation_fraction=0.1, verbose=0,\n",
       "                           warm_start=False)"
      ]
     },
     "execution_count": 6,
     "metadata": {},
     "output_type": "execute_result"
    }
   ],
   "source": [
    "clf_total = GradientBoostingClassifier(random_state=42, max_depth = 3, \n",
    "                                       min_samples_leaf = 10, learning_rate=.01, \n",
    "                                       n_estimators=1000)\n",
    "clf_total.fit(X_train, y_train)"
   ]
  },
  {
   "cell_type": "code",
   "execution_count": 165,
   "metadata": {},
   "outputs": [],
   "source": [
    "def di_actual_and_pred(X, y_true, y_pred, col, priv_class):\n",
    "    '''\n",
    "    Calculate disparate impact in actual data and in classifier predictions\n",
    "    DI = Pr(MHI==1|non-privileged class) / Pr(MHI==1| privileged class)\n",
    "\n",
    "    X: features\n",
    "    y_true: actual labels\n",
    "    y_pred: 2-d array of labels predicted by different classifiers\n",
    "    col: category (e.g. race, gender)\n",
    "    priv_class: privileged class (e.g. white, male)\n",
    "    '''\n",
    "    \n",
    "    # get number of classifiers\n",
    "    num_clf = y_pred.shape[0]\n",
    "\n",
    "    # set privileged column\n",
    "    priv_col = col+'_'+priv_class\n",
    "\n",
    "    # get number of privileged\n",
    "    priv = X[X[priv_col]==1]\n",
    "    num_priv = len(priv)\n",
    "\n",
    "    # get number of privileged with actual positive\n",
    "    ind_priv = priv.index\n",
    "    y_priv = y_true.loc[ind_priv]\n",
    "    true_num_pos_priv = y_priv.sum()\n",
    "\n",
    "    # get number of non-privileged\n",
    "    nonpriv = X[X[priv_col]==0]\n",
    "    num_nonpriv = len(nonpriv)\n",
    "\n",
    "    # get number of non-privileged with actual positive\n",
    "    ind_nonpriv = nonpriv.index\n",
    "    y_nonpriv = y_true.loc[ind_nonpriv]\n",
    "    true_num_pos_nonpriv = y_nonpriv.sum()\n",
    "    \n",
    "    # get ilocs for actual positives\n",
    "    priv_ilocs = y_true.index.get_indexer_for((ind_priv))\n",
    "    nonpriv_ilocs = y_true.index.get_indexer_for((ind_nonpriv))\n",
    "\n",
    "    # get DI in original data\n",
    "    DI_original = (true_num_pos_nonpriv / num_nonpriv) / (true_num_pos_priv / num_priv)\n",
    "    print('Disparate impact on {} in original data: {}'.format(col, round(DI_original, 4)))\n",
    "    \n",
    "    # initialize DI_pred to array of 1s\n",
    "    DI_pred = np.ones([num_clf])\n",
    "    \n",
    "    # calculate DI in predictions for each classifier\n",
    "    for i in range(num_clf):\n",
    "        \n",
    "        # get number of privileged with positive prediction\n",
    "        pred_num_pos_priv = y_pred[i][priv_ilocs].sum()\n",
    "\n",
    "        # get number of non-privileged with positive prediction\n",
    "        pred_num_pos_nonpriv = y_pred[i][nonpriv_ilocs].sum()\n",
    "\n",
    "        # get DI in predictions\n",
    "        DI_pred[i] = (pred_num_pos_nonpriv / num_nonpriv) / (pred_num_pos_priv / num_priv)\n",
    "        print('Disparate impact on {} in classifier {} predictions: {}'.format(col, i+1, round(DI_pred[i], 4)))\n",
    "    \n",
    "    return DI_original, DI_pred"
   ]
  },
  {
   "cell_type": "code",
   "execution_count": 157,
   "metadata": {},
   "outputs": [],
   "source": [
    "# set X and y for full dataset\n",
    "y_all = df['MHI'].copy()\n",
    "X_all = df.drop(columns=['received_date', 'MHI'], inplace=False)\n",
    "\n",
    "# set classifier list:\n",
    "list_clf = [clf_total]\n",
    "\n",
    "# get number of classifiers in list\n",
    "num_clf = len(list_clf)\n",
    "\n",
    "# initialize 2-d predictions arrays to 0\n",
    "preds_all = np.zeros([num_clf, len(y_all)])\n",
    "preds_test = np.zeros([num_clf, len(y_test)])\n",
    "\n",
    "# get predictions for each classifier\n",
    "for i, clf in enumerate(list_clf):\n",
    "\n",
    "    # get predictions on entire dataset\n",
    "    preds_all[i] = clf.predict(X_all)\n",
    "\n",
    "    # get predictions on test set\n",
    "    preds_test[i] = clf.predict(X_test)"
   ]
  },
  {
   "cell_type": "code",
   "execution_count": 166,
   "metadata": {},
   "outputs": [
    {
     "name": "stdout",
     "output_type": "stream",
     "text": [
      "Test Set\n",
      "Disparate impact on race in original data: 0.5719\n",
      "Disparate impact on race in predictions: 0.5192\n",
      "Disparate impact on gender in original data: 2.4247\n",
      "Disparate impact on gender in predictions: 3.2531\n",
      "\n",
      "Entire Dataset\n",
      "Disparate impact on race in original data: 0.4569\n",
      "Disparate impact on race in predictions: 0.5289\n",
      "Disparate impact on gender in original data: 3.5604\n",
      "Disparate impact on gender in predictions: 3.1462\n"
     ]
    }
   ],
   "source": [
    "# get DI measures\n",
    "\n",
    "print('Test Set')\n",
    "di_race_og_test, di_race_pred_test = di_actual_and_pred(X_test, y_test, preds_test, 'race', 'white')\n",
    "di_gender_og_test, di_gender_pred_test = di_actual_and_pred(X_test, y_test, preds_test, 'gender', 'male')\n",
    "\n",
    "print('\\nEntire Dataset')\n",
    "di_race_og_all, di_race_pred_all = di_actual_and_pred(X_all, y_all, preds_all, 'race', 'white')\n",
    "di_gender_og_all, di_gender_pred_all = di_actual_and_pred(X_all, y_all, preds_all, 'gender', 'male')"
   ]
  },
  {
   "cell_type": "code",
   "execution_count": 28,
   "metadata": {},
   "outputs": [],
   "source": [
    "# add dummy data to actual from above\n",
    "# actual data will come from proxy-sensitive classifiers\n",
    "\n",
    "di_race_og_test = 0.5719\n",
    "di_race_pred_test = np.array([0.5192, 0.53, 0.54])\n",
    "di_race_og_all = 0.4569\n",
    "di_race_pred_all = np.array([0.5289, 0.8, 0.85])\n",
    "\n",
    "di_gender_og_test = 2.4247\n",
    "di_gender_pred_test = np.array([3.2531, 3.1, 3.0])\n",
    "di_gender_og_all = 3.5604\n",
    "di_gender_pred_all = np.array([3.1462, 3.0, 2.8])"
   ]
  },
  {
   "cell_type": "code",
   "execution_count": 29,
   "metadata": {},
   "outputs": [
    {
     "data": {
      "text/html": [
       "<div>\n",
       "<style scoped>\n",
       "    .dataframe tbody tr th:only-of-type {\n",
       "        vertical-align: middle;\n",
       "    }\n",
       "\n",
       "    .dataframe tbody tr th {\n",
       "        vertical-align: top;\n",
       "    }\n",
       "\n",
       "    .dataframe thead th {\n",
       "        text-align: right;\n",
       "    }\n",
       "</style>\n",
       "<table border=\"1\" class=\"dataframe\">\n",
       "  <thead>\n",
       "    <tr style=\"text-align: right;\">\n",
       "      <th></th>\n",
       "      <th></th>\n",
       "      <th>Race</th>\n",
       "      <th>Gender</th>\n",
       "    </tr>\n",
       "  </thead>\n",
       "  <tbody>\n",
       "    <tr>\n",
       "      <th rowspan=\"4\" valign=\"top\">Test Set</th>\n",
       "      <th>Actual</th>\n",
       "      <td>0.5719</td>\n",
       "      <td>2.4247</td>\n",
       "    </tr>\n",
       "    <tr>\n",
       "      <th>Original Predictions</th>\n",
       "      <td>0.5192</td>\n",
       "      <td>3.2531</td>\n",
       "    </tr>\n",
       "    <tr>\n",
       "      <th>Predictions Without Sensitive Features</th>\n",
       "      <td>0.5300</td>\n",
       "      <td>3.1000</td>\n",
       "    </tr>\n",
       "    <tr>\n",
       "      <th>Predictions Without Proxy Features</th>\n",
       "      <td>0.5400</td>\n",
       "      <td>3.0000</td>\n",
       "    </tr>\n",
       "    <tr>\n",
       "      <th rowspan=\"4\" valign=\"top\">All Data</th>\n",
       "      <th>Actual</th>\n",
       "      <td>0.4569</td>\n",
       "      <td>3.5604</td>\n",
       "    </tr>\n",
       "    <tr>\n",
       "      <th>Original Predictions</th>\n",
       "      <td>0.5289</td>\n",
       "      <td>3.1462</td>\n",
       "    </tr>\n",
       "    <tr>\n",
       "      <th>Predictions Without Sensitive Features</th>\n",
       "      <td>0.8000</td>\n",
       "      <td>3.0000</td>\n",
       "    </tr>\n",
       "    <tr>\n",
       "      <th>Predictions Without Proxy Features</th>\n",
       "      <td>0.8500</td>\n",
       "      <td>2.8000</td>\n",
       "    </tr>\n",
       "  </tbody>\n",
       "</table>\n",
       "</div>"
      ],
      "text/plain": [
       "                                                   Race  Gender\n",
       "Test Set Actual                                  0.5719  2.4247\n",
       "         Original Predictions                    0.5192  3.2531\n",
       "         Predictions Without Sensitive Features  0.5300  3.1000\n",
       "         Predictions Without Proxy Features      0.5400  3.0000\n",
       "All Data Actual                                  0.4569  3.5604\n",
       "         Original Predictions                    0.5289  3.1462\n",
       "         Predictions Without Sensitive Features  0.8000  3.0000\n",
       "         Predictions Without Proxy Features      0.8500  2.8000"
      ]
     },
     "execution_count": 29,
     "metadata": {},
     "output_type": "execute_result"
    }
   ],
   "source": [
    "# put DI measures into dataframe\n",
    "\n",
    "\n",
    "multi_index = pd.MultiIndex.from_product([['Test Set', 'All Data'],\n",
    "                                          ['Actual',\n",
    "                                           'Original Predictions',\n",
    "                                           'Predictions Without Sensitive Features',\n",
    "                                           'Predictions Without Proxy Features']])\n",
    "\n",
    "race_list = [di_race_og_test, di_race_pred_test[0], di_race_pred_test[1], di_race_pred_test[2], \n",
    "             di_race_og_all, di_race_pred_all[0], di_race_pred_all[1], di_race_pred_all[2]]\n",
    "\n",
    "gender_list = [di_gender_og_test, di_gender_pred_test[0], di_gender_pred_test[1], di_gender_pred_test[2],\n",
    "               di_gender_og_all, di_gender_pred_all[0], di_gender_pred_all[1], di_gender_pred_all[2]]\n",
    "\n",
    "\n",
    "di_df = pd.DataFrame(data={'Race':[round(x, 4) for x in race_list], \n",
    "                           'Gender':[round(x, 4) for x in gender_list]}, \n",
    "                     index=multi_index)\n",
    "\n",
    "di_df"
   ]
  },
  {
   "cell_type": "code",
   "execution_count": 30,
   "metadata": {},
   "outputs": [],
   "source": [
    "di_melt = di_df.copy()\n",
    "di_melt['Dataset'] = di_melt.index.map(lambda x: str(x)[1:-1].replace(\"\\'\", \"\"))\n",
    "di_melt = di_melt.melt(id_vars=['Dataset'], \n",
    "                  value_vars=['Race', 'Gender'])"
   ]
  },
  {
   "cell_type": "code",
   "execution_count": 32,
   "metadata": {},
   "outputs": [
    {
     "data": {
      "image/png": "[encoded data removed]",
      "text/plain": [
       "<Figure size 1008x504 with 1 Axes>"
      ]
     },
     "metadata": {
      "needs_background": "light"
     },
     "output_type": "display_data"
    }
   ],
   "source": [
    "# plot DI\n",
    "\n",
    "# Create an array with the colors for plot\n",
    "colors = ['#142733', '#1d4159', '#23577a', '#4a7d9e', '#231c2e', '#3b2f52', '#594b73', '#85799c']\n",
    "\n",
    "di_plot = sns.catplot(data=di_melt, \n",
    "                          x='variable', y='value', hue='Dataset', palette=sns.color_palette(colors),\n",
    "                          kind='bar', aspect=2, height=7, legend_out=False)\n",
    "\n",
    "di_plot.axes[0][0].set_xlabel('')\n",
    "di_plot.axes[0][0].set_ylabel('Disparate Impact', fontsize=14)\n",
    "plt.axhline(1, color='black', linestyle='dotted', linewidth=2)\n",
    "plt.show()"
   ]
  },
  {
   "cell_type": "code",
   "execution_count": 174,
   "metadata": {},
   "outputs": [],
   "source": [
    "def get_stats(X_sub, col):\n",
    "    \n",
    "    # get target variable subset\n",
    "    ind = X_sub.index\n",
    "    y_sub = y_test[ind]\n",
    "    \n",
    "    # for subset, get predictions and probabilities for positive class \n",
    "    pred_sub = clf_total.predict(X_sub)\n",
    "    pred_proba_sub = clf_total.predict_proba(X_sub)\n",
    "    \n",
    "    # get FPR, TPR\n",
    "    fpr, tpr, thresholds = sklearn.metrics.roc_curve(y_sub, pred_proba_sub[:,1])\n",
    "    \n",
    "    # get confusion matrix\n",
    "    confmat_sub = sklearn.metrics.confusion_matrix(y_sub, pred_sub, labels=[1,0])\n",
    "    tp = confmat_sub[0,0] # number of true positives\n",
    "    fp = confmat_sub[1,0] # number of false positives\n",
    "    fn = confmat_sub[0,1] # number of false negatives\n",
    "    tn = confmat_sub[1,1] # number of true negatives\n",
    "    \n",
    "    # create dataframe with stats\n",
    "    stats = pd.DataFrame(data={col:[len(pred_sub), # group size\n",
    "                                    round(sum(pred_sub)/len(pred_sub), 4), #pred prev\n",
    "                                    round((tp+tn)/len(pred_sub), 4), # accuracy\n",
    "                                    round(fn/(fn+tp), 4), # fnr\n",
    "                                    round(fp/(fp+tn), 4), # fpr\n",
    "                                    round(tp/(tp+fn), 4), # recall\n",
    "                                    round(sklearn.metrics.auc(fpr, tpr), 4) # auc \n",
    "                                   ]}, \n",
    "                 index=['Test Set Group Size (N)', 'Predicted Prevalence', \n",
    "                        'Accuracy', 'FNR', 'FPR', 'Recall', 'AUC'])\n",
    "    # transpose df\n",
    "    stats = stats.T\n",
    "    stats['Test Set Group Size (N)'] = stats['Test Set Group Size (N)'].astype(int)\n",
    "    \n",
    "    # display dataframe with stats\n",
    "    display(stats)\n",
    "    \n",
    "    #plot confusion matrix\n",
    "    sklearn.metrics.plot_confusion_matrix(clf_total, X_sub, y_sub, labels=[1,0])\n",
    "    plt.show()\n",
    "    \n",
    "    print('\\n')\n",
    "    \n",
    "    # return dataframe with stats\n",
    "    return stats\n",
    "    \n",
    "    \n",
    "def subgroup_stats(category1, category2=None):\n",
    "    '''\n",
    "    Takes in 1 or 2 pre-OHE column names (e.g., 'race' and 'gender').\n",
    "    If 2 categories given, produces intersectional statistics.\n",
    "    \n",
    "    Note: Does not support intersectional analysis with age\n",
    "    '''\n",
    "    # get list of OHE columns for category 1\n",
    "    if category1 != 'age_at_incident':\n",
    "        cols_1 = [x for x in X_test.columns if x.startswith(category1+'_')]\n",
    "        \n",
    "    # get overall stats\n",
    "    total_stats = get_stats(X_test, 'Overall')\n",
    "    \n",
    "    # intersectional analysis\n",
    "    if category2 !=None:\n",
    "        assert category1!='age_at_incident' and category2!='age_at_incident', \\\n",
    "                                         'Intersectional analysis not supported for age'\n",
    "        \n",
    "        # get list of OHE columns for category 1\n",
    "        cols_2 = [x for x in X_test.columns if x.startswith(category2+'_')]\n",
    "        \n",
    "        for x in cols_1:\n",
    "            # for each value of category 1, create subset\n",
    "            X_sub = X_test[X_test[x]==1]\n",
    "            \n",
    "            # continue if subset is empty\n",
    "            if len(X_sub)==0:\n",
    "                print(x,'\\n\\t No members of this subgroup present in the test set. \\n')\n",
    "                continue\n",
    "                \n",
    "            # if category 1 subset not empty, create sub-subsets\n",
    "            else:\n",
    "            \n",
    "                for y in cols_2:\n",
    "                    # create sub-subset for each value of category 2\n",
    "                    X_sub = X_test[X_test[x]==1]\n",
    "                    X_sub = X_sub[X_sub[y]==1]\n",
    "                    if len(X_sub)==0:\n",
    "                        print(x+' and '+y,\n",
    "                              '\\n\\t No members of this subgroup present in the test set. \\n')\n",
    "                    else:\n",
    "                        # get stats if sub-subset not empty\n",
    "                        sub_stats = get_stats(X_sub, x+' and '+y)\n",
    "                        total_stats = pd.concat([total_stats, sub_stats])\n",
    "                        \n",
    "    # single trait only\n",
    "    else:\n",
    "        if category1 != 'age_at_incident':\n",
    "            for x in cols_1:\n",
    "                # for each value of category 1, create subset\n",
    "                X_sub = X_test[X_test[x]==1]\n",
    "                if len(X_sub)==0:\n",
    "                    print(x,'\\n\\t No members of this subgroup present in the test set. \\n')\n",
    "                else:\n",
    "                    # get stats if subset not empty\n",
    "                    sub_stats = get_stats(X_sub, x)\n",
    "                    total_stats = pd.concat([total_stats, sub_stats])\n",
    "            \n",
    "        # special method for age\n",
    "        else:\n",
    "            # cut age into bins\n",
    "            cut = pd.cut(X_test['age_at_incident'], \n",
    "                         bins=[X_test['age_at_incident'].min(), \n",
    "                               20, 23, 27, 30, 35, 40, 50, 60, 70, \n",
    "                               X_test['age_at_incident'].max()+1], \n",
    "                         labels=False, right=False, retbins=True)\n",
    "            \n",
    "            # save age_at_incident encoded by bin numbers\n",
    "            age_binned = cut[0]\n",
    "            \n",
    "            # save bins\n",
    "            bins = cut[1]\n",
    "            \n",
    "            for x in sorted(age_binned.unique()):\n",
    "                # create subset for each bin\n",
    "                this_bin = age_binned[age_binned==x].index\n",
    "                X_sub = X_test.loc[this_bin]\n",
    "                \n",
    "                # create bin labels\n",
    "                edges = '{}-{}'.format(int(bins[int(x)]), int(bins[int(x)+1]-1))\n",
    "                if bins[int(x)] == bins[int(x)+1]-1:\n",
    "                    # if bin contains only 1 age, change label to single number\n",
    "                    edges = str(int(bins[int(x)]))\n",
    "            \n",
    "                if len(X_sub)==0:\n",
    "                    if not np.isnan(x):\n",
    "                        print(x,\n",
    "                              '\\n\\t No members of this subgroup present in the test set. \\n')\n",
    "                else:\n",
    "                    # get stats if subset not empty\n",
    "                    sub_stats = get_stats(X_sub, edges)\n",
    "                    total_stats = pd.concat([total_stats, sub_stats])\n",
    "                    \n",
    "    display(total_stats)\n",
    "    print('\\n')\n",
    "    \n",
    "    return total_stats"
   ]
  },
  {
   "cell_type": "code",
   "execution_count": 326,
   "metadata": {},
   "outputs": [],
   "source": [
    "def plain_group(x):\n",
    "    \n",
    "    split = x.split('_', 1)\n",
    "    if len(split)==1:\n",
    "        return split[0].title()\n",
    "    if len(split)==2:\n",
    "        return split[1].title()\n",
    "    return\n",
    "\n",
    "def plot_stats(stat_df_full, age=False):\n",
    "    \n",
    "    stat_df = stat_df_full.iloc[1:]\n",
    "    \n",
    "    if not age:\n",
    "        # Set category (e.g. \"Gender\")\n",
    "        cat = stat_df.index[-1].split('_', 1)[0].title()\n",
    "\n",
    "        # Create column with category values and test set size\n",
    "        stat_df[cat] = stat_df.index.map(plain_group) + ', N=' + \\\n",
    "                            stat_df['Test Set Group Size (N)'].astype(str)\n",
    "\n",
    "        stat_df = stat_df.sort_values(by=['Predicted Prevalence'])\n",
    "        \n",
    "        # Set palette\n",
    "        palette='muted'\n",
    "    \n",
    "    if age:\n",
    "        # Set category to \"Age\"\n",
    "        cat = 'Age'\n",
    "        \n",
    "        # Create column with category values and test set size\n",
    "        stat_df[cat] = stat_df.index + ', N=' + \\\n",
    "                            stat_df['Test Set Group Size (N)'].astype(str)\n",
    "        \n",
    "        # Set sequential palette\n",
    "        palette = 'GnBu'\n",
    "\n",
    "    # melt df to prepare for sns.catplot\n",
    "    df_melt = stat_df.melt(id_vars=[cat], \n",
    "                  value_vars=['Predicted Prevalence', 'Accuracy', \n",
    "                              'FNR', 'FPR', 'Recall', 'AUC'])\n",
    "\n",
    "    # plot metrics\n",
    "    stat_plot = sns.catplot(data=df_melt, \n",
    "                              x='variable', y='value', hue=cat,\n",
    "                              kind='bar', palette=palette,\n",
    "                            aspect=2, height=6, legend_out=False)\n",
    "    \n",
    "    stat_plot.axes[0][0].set_xlabel('')\n",
    "    stat_plot.axes[0][0].set_ylabel('')\n",
    "    \n",
    "    return"
   ]
  },
  {
   "cell_type": "code",
   "execution_count": 330,
   "metadata": {},
   "outputs": [
    {
     "data": {
      "text/html": [
       "<div>\n",
       "<style scoped>\n",
       "    .dataframe tbody tr th:only-of-type {\n",
       "        vertical-align: middle;\n",
       "    }\n",
       "\n",
       "    .dataframe tbody tr th {\n",
       "        vertical-align: top;\n",
       "    }\n",
       "\n",
       "    .dataframe thead th {\n",
       "        text-align: right;\n",
       "    }\n",
       "</style>\n",
       "<table border=\"1\" class=\"dataframe\">\n",
       "  <thead>\n",
       "    <tr style=\"text-align: right;\">\n",
       "      <th></th>\n",
       "      <th>Test Set Group Size (N)</th>\n",
       "      <th>Predicted Prevalence</th>\n",
       "      <th>Accuracy</th>\n",
       "      <th>FNR</th>\n",
       "      <th>FPR</th>\n",
       "      <th>Recall</th>\n",
       "      <th>AUC</th>\n",
       "    </tr>\n",
       "  </thead>\n",
       "  <tbody>\n",
       "    <tr>\n",
       "      <th>Overall</th>\n",
       "      <td>43363</td>\n",
       "      <td>0.2384</td>\n",
       "      <td>0.7651</td>\n",
       "      <td>0.2077</td>\n",
       "      <td>0.235</td>\n",
       "      <td>0.7923</td>\n",
       "      <td>0.8411</td>\n",
       "    </tr>\n",
       "  </tbody>\n",
       "</table>\n",
       "</div>"
      ],
      "text/plain": [
       "         Test Set Group Size (N)  Predicted Prevalence  Accuracy     FNR  \\\n",
       "Overall                    43363                0.2384    0.7651  0.2077   \n",
       "\n",
       "           FPR  Recall     AUC  \n",
       "Overall  0.235  0.7923  0.8411  "
      ]
     },
     "metadata": {},
     "output_type": "display_data"
    },
    {
     "data": {
      "image/png": "[encoded data removed]",
      "text/plain": [
       "<Figure size 432x288 with 2 Axes>"
      ]
     },
     "metadata": {
      "needs_background": "light"
     },
     "output_type": "display_data"
    },
    {
     "name": "stdout",
     "output_type": "stream",
     "text": [
      "\n",
      "\n"
     ]
    },
    {
     "data": {
      "text/html": [
       "<div>\n",
       "<style scoped>\n",
       "    .dataframe tbody tr th:only-of-type {\n",
       "        vertical-align: middle;\n",
       "    }\n",
       "\n",
       "    .dataframe tbody tr th {\n",
       "        vertical-align: top;\n",
       "    }\n",
       "\n",
       "    .dataframe thead th {\n",
       "        text-align: right;\n",
       "    }\n",
       "</style>\n",
       "<table border=\"1\" class=\"dataframe\">\n",
       "  <thead>\n",
       "    <tr style=\"text-align: right;\">\n",
       "      <th></th>\n",
       "      <th>Test Set Group Size (N)</th>\n",
       "      <th>Predicted Prevalence</th>\n",
       "      <th>Accuracy</th>\n",
       "      <th>FNR</th>\n",
       "      <th>FPR</th>\n",
       "      <th>Recall</th>\n",
       "      <th>AUC</th>\n",
       "    </tr>\n",
       "  </thead>\n",
       "  <tbody>\n",
       "    <tr>\n",
       "      <th>17-19</th>\n",
       "      <td>2623</td>\n",
       "      <td>0.1956</td>\n",
       "      <td>0.8048</td>\n",
       "      <td>0.4</td>\n",
       "      <td>0.1948</td>\n",
       "      <td>0.6</td>\n",
       "      <td>0.8105</td>\n",
       "    </tr>\n",
       "  </tbody>\n",
       "</table>\n",
       "</div>"
      ],
      "text/plain": [
       "       Test Set Group Size (N)  Predicted Prevalence  Accuracy  FNR     FPR  \\\n",
       "17-19                     2623                0.1956    0.8048  0.4  0.1948   \n",
       "\n",
       "       Recall     AUC  \n",
       "17-19     0.6  0.8105  "
      ]
     },
     "metadata": {},
     "output_type": "display_data"
    },
    {
     "data": {
      "image/png": "[encoded data removed]",
      "text/plain": [
       "<Figure size 432x288 with 2 Axes>"
      ]
     },
     "metadata": {
      "needs_background": "light"
     },
     "output_type": "display_data"
    },
    {
     "name": "stdout",
     "output_type": "stream",
     "text": [
      "\n",
      "\n"
     ]
    },
    {
     "data": {
      "text/html": [
       "<div>\n",
       "<style scoped>\n",
       "    .dataframe tbody tr th:only-of-type {\n",
       "        vertical-align: middle;\n",
       "    }\n",
       "\n",
       "    .dataframe tbody tr th {\n",
       "        vertical-align: top;\n",
       "    }\n",
       "\n",
       "    .dataframe thead th {\n",
       "        text-align: right;\n",
       "    }\n",
       "</style>\n",
       "<table border=\"1\" class=\"dataframe\">\n",
       "  <thead>\n",
       "    <tr style=\"text-align: right;\">\n",
       "      <th></th>\n",
       "      <th>Test Set Group Size (N)</th>\n",
       "      <th>Predicted Prevalence</th>\n",
       "      <th>Accuracy</th>\n",
       "      <th>FNR</th>\n",
       "      <th>FPR</th>\n",
       "      <th>Recall</th>\n",
       "      <th>AUC</th>\n",
       "    </tr>\n",
       "  </thead>\n",
       "  <tbody>\n",
       "    <tr>\n",
       "      <th>20-22</th>\n",
       "      <td>5022</td>\n",
       "      <td>0.181</td>\n",
       "      <td>0.8216</td>\n",
       "      <td>0.3415</td>\n",
       "      <td>0.1771</td>\n",
       "      <td>0.6585</td>\n",
       "      <td>0.8178</td>\n",
       "    </tr>\n",
       "  </tbody>\n",
       "</table>\n",
       "</div>"
      ],
      "text/plain": [
       "       Test Set Group Size (N)  Predicted Prevalence  Accuracy     FNR  \\\n",
       "20-22                     5022                 0.181    0.8216  0.3415   \n",
       "\n",
       "          FPR  Recall     AUC  \n",
       "20-22  0.1771  0.6585  0.8178  "
      ]
     },
     "metadata": {},
     "output_type": "display_data"
    },
    {
     "data": {
      "image/png": "[encoded data removed]",
      "text/plain": [
       "<Figure size 432x288 with 2 Axes>"
      ]
     },
     "metadata": {
      "needs_background": "light"
     },
     "output_type": "display_data"
    },
    {
     "name": "stdout",
     "output_type": "stream",
     "text": [
      "\n",
      "\n"
     ]
    },
    {
     "data": {
      "text/html": [
       "<div>\n",
       "<style scoped>\n",
       "    .dataframe tbody tr th:only-of-type {\n",
       "        vertical-align: middle;\n",
       "    }\n",
       "\n",
       "    .dataframe tbody tr th {\n",
       "        vertical-align: top;\n",
       "    }\n",
       "\n",
       "    .dataframe thead th {\n",
       "        text-align: right;\n",
       "    }\n",
       "</style>\n",
       "<table border=\"1\" class=\"dataframe\">\n",
       "  <thead>\n",
       "    <tr style=\"text-align: right;\">\n",
       "      <th></th>\n",
       "      <th>Test Set Group Size (N)</th>\n",
       "      <th>Predicted Prevalence</th>\n",
       "      <th>Accuracy</th>\n",
       "      <th>FNR</th>\n",
       "      <th>FPR</th>\n",
       "      <th>Recall</th>\n",
       "      <th>AUC</th>\n",
       "    </tr>\n",
       "  </thead>\n",
       "  <tbody>\n",
       "    <tr>\n",
       "      <th>23-26</th>\n",
       "      <td>6977</td>\n",
       "      <td>0.1807</td>\n",
       "      <td>0.8217</td>\n",
       "      <td>0.2703</td>\n",
       "      <td>0.1778</td>\n",
       "      <td>0.7297</td>\n",
       "      <td>0.8136</td>\n",
       "    </tr>\n",
       "  </tbody>\n",
       "</table>\n",
       "</div>"
      ],
      "text/plain": [
       "       Test Set Group Size (N)  Predicted Prevalence  Accuracy     FNR  \\\n",
       "23-26                     6977                0.1807    0.8217  0.2703   \n",
       "\n",
       "          FPR  Recall     AUC  \n",
       "23-26  0.1778  0.7297  0.8136  "
      ]
     },
     "metadata": {},
     "output_type": "display_data"
    },
    {
     "data": {
      "image/png": "[encoded data removed]",
      "text/plain": [
       "<Figure size 432x288 with 2 Axes>"
      ]
     },
     "metadata": {
      "needs_background": "light"
     },
     "output_type": "display_data"
    },
    {
     "name": "stdout",
     "output_type": "stream",
     "text": [
      "\n",
      "\n"
     ]
    },
    {
     "data": {
      "text/html": [
       "<div>\n",
       "<style scoped>\n",
       "    .dataframe tbody tr th:only-of-type {\n",
       "        vertical-align: middle;\n",
       "    }\n",
       "\n",
       "    .dataframe tbody tr th {\n",
       "        vertical-align: top;\n",
       "    }\n",
       "\n",
       "    .dataframe thead th {\n",
       "        text-align: right;\n",
       "    }\n",
       "</style>\n",
       "<table border=\"1\" class=\"dataframe\">\n",
       "  <thead>\n",
       "    <tr style=\"text-align: right;\">\n",
       "      <th></th>\n",
       "      <th>Test Set Group Size (N)</th>\n",
       "      <th>Predicted Prevalence</th>\n",
       "      <th>Accuracy</th>\n",
       "      <th>FNR</th>\n",
       "      <th>FPR</th>\n",
       "      <th>Recall</th>\n",
       "      <th>AUC</th>\n",
       "    </tr>\n",
       "  </thead>\n",
       "  <tbody>\n",
       "    <tr>\n",
       "      <th>27-29</th>\n",
       "      <td>5111</td>\n",
       "      <td>0.2475</td>\n",
       "      <td>0.7554</td>\n",
       "      <td>0.2414</td>\n",
       "      <td>0.2446</td>\n",
       "      <td>0.7586</td>\n",
       "      <td>0.8355</td>\n",
       "    </tr>\n",
       "  </tbody>\n",
       "</table>\n",
       "</div>"
      ],
      "text/plain": [
       "       Test Set Group Size (N)  Predicted Prevalence  Accuracy     FNR  \\\n",
       "27-29                     5111                0.2475    0.7554  0.2414   \n",
       "\n",
       "          FPR  Recall     AUC  \n",
       "27-29  0.2446  0.7586  0.8355  "
      ]
     },
     "metadata": {},
     "output_type": "display_data"
    },
    {
     "data": {
      "image/png": "[encoded data removed]",
      "text/plain": [
       "<Figure size 432x288 with 2 Axes>"
      ]
     },
     "metadata": {
      "needs_background": "light"
     },
     "output_type": "display_data"
    },
    {
     "name": "stdout",
     "output_type": "stream",
     "text": [
      "\n",
      "\n"
     ]
    },
    {
     "data": {
      "text/html": [
       "<div>\n",
       "<style scoped>\n",
       "    .dataframe tbody tr th:only-of-type {\n",
       "        vertical-align: middle;\n",
       "    }\n",
       "\n",
       "    .dataframe tbody tr th {\n",
       "        vertical-align: top;\n",
       "    }\n",
       "\n",
       "    .dataframe thead th {\n",
       "        text-align: right;\n",
       "    }\n",
       "</style>\n",
       "<table border=\"1\" class=\"dataframe\">\n",
       "  <thead>\n",
       "    <tr style=\"text-align: right;\">\n",
       "      <th></th>\n",
       "      <th>Test Set Group Size (N)</th>\n",
       "      <th>Predicted Prevalence</th>\n",
       "      <th>Accuracy</th>\n",
       "      <th>FNR</th>\n",
       "      <th>FPR</th>\n",
       "      <th>Recall</th>\n",
       "      <th>AUC</th>\n",
       "    </tr>\n",
       "  </thead>\n",
       "  <tbody>\n",
       "    <tr>\n",
       "      <th>30-34</th>\n",
       "      <td>5800</td>\n",
       "      <td>0.24</td>\n",
       "      <td>0.7657</td>\n",
       "      <td>0.0976</td>\n",
       "      <td>0.2353</td>\n",
       "      <td>0.9024</td>\n",
       "      <td>0.8843</td>\n",
       "    </tr>\n",
       "  </tbody>\n",
       "</table>\n",
       "</div>"
      ],
      "text/plain": [
       "       Test Set Group Size (N)  Predicted Prevalence  Accuracy     FNR  \\\n",
       "30-34                     5800                  0.24    0.7657  0.0976   \n",
       "\n",
       "          FPR  Recall     AUC  \n",
       "30-34  0.2353  0.9024  0.8843  "
      ]
     },
     "metadata": {},
     "output_type": "display_data"
    },
    {
     "data": {
      "image/png": "[encoded data removed]",
      "text/plain": [
       "<Figure size 432x288 with 2 Axes>"
      ]
     },
     "metadata": {
      "needs_background": "light"
     },
     "output_type": "display_data"
    },
    {
     "name": "stdout",
     "output_type": "stream",
     "text": [
      "\n",
      "\n"
     ]
    },
    {
     "data": {
      "text/html": [
       "<div>\n",
       "<style scoped>\n",
       "    .dataframe tbody tr th:only-of-type {\n",
       "        vertical-align: middle;\n",
       "    }\n",
       "\n",
       "    .dataframe tbody tr th {\n",
       "        vertical-align: top;\n",
       "    }\n",
       "\n",
       "    .dataframe thead th {\n",
       "        text-align: right;\n",
       "    }\n",
       "</style>\n",
       "<table border=\"1\" class=\"dataframe\">\n",
       "  <thead>\n",
       "    <tr style=\"text-align: right;\">\n",
       "      <th></th>\n",
       "      <th>Test Set Group Size (N)</th>\n",
       "      <th>Predicted Prevalence</th>\n",
       "      <th>Accuracy</th>\n",
       "      <th>FNR</th>\n",
       "      <th>FPR</th>\n",
       "      <th>Recall</th>\n",
       "      <th>AUC</th>\n",
       "    </tr>\n",
       "  </thead>\n",
       "  <tbody>\n",
       "    <tr>\n",
       "      <th>35-39</th>\n",
       "      <td>4314</td>\n",
       "      <td>0.2508</td>\n",
       "      <td>0.752</td>\n",
       "      <td>0.2</td>\n",
       "      <td>0.2483</td>\n",
       "      <td>0.8</td>\n",
       "      <td>0.8239</td>\n",
       "    </tr>\n",
       "  </tbody>\n",
       "</table>\n",
       "</div>"
      ],
      "text/plain": [
       "       Test Set Group Size (N)  Predicted Prevalence  Accuracy  FNR     FPR  \\\n",
       "35-39                     4314                0.2508     0.752  0.2  0.2483   \n",
       "\n",
       "       Recall     AUC  \n",
       "35-39     0.8  0.8239  "
      ]
     },
     "metadata": {},
     "output_type": "display_data"
    },
    {
     "data": {
      "image/png": "[encoded data removed]",
      "text/plain": [
       "<Figure size 432x288 with 2 Axes>"
      ]
     },
     "metadata": {
      "needs_background": "light"
     },
     "output_type": "display_data"
    },
    {
     "name": "stdout",
     "output_type": "stream",
     "text": [
      "\n",
      "\n"
     ]
    },
    {
     "data": {
      "text/html": [
       "<div>\n",
       "<style scoped>\n",
       "    .dataframe tbody tr th:only-of-type {\n",
       "        vertical-align: middle;\n",
       "    }\n",
       "\n",
       "    .dataframe tbody tr th {\n",
       "        vertical-align: top;\n",
       "    }\n",
       "\n",
       "    .dataframe thead th {\n",
       "        text-align: right;\n",
       "    }\n",
       "</style>\n",
       "<table border=\"1\" class=\"dataframe\">\n",
       "  <thead>\n",
       "    <tr style=\"text-align: right;\">\n",
       "      <th></th>\n",
       "      <th>Test Set Group Size (N)</th>\n",
       "      <th>Predicted Prevalence</th>\n",
       "      <th>Accuracy</th>\n",
       "      <th>FNR</th>\n",
       "      <th>FPR</th>\n",
       "      <th>Recall</th>\n",
       "      <th>AUC</th>\n",
       "    </tr>\n",
       "  </thead>\n",
       "  <tbody>\n",
       "    <tr>\n",
       "      <th>40-49</th>\n",
       "      <td>6390</td>\n",
       "      <td>0.2962</td>\n",
       "      <td>0.7089</td>\n",
       "      <td>0.1333</td>\n",
       "      <td>0.2922</td>\n",
       "      <td>0.8667</td>\n",
       "      <td>0.8841</td>\n",
       "    </tr>\n",
       "  </tbody>\n",
       "</table>\n",
       "</div>"
      ],
      "text/plain": [
       "       Test Set Group Size (N)  Predicted Prevalence  Accuracy     FNR  \\\n",
       "40-49                     6390                0.2962    0.7089  0.1333   \n",
       "\n",
       "          FPR  Recall     AUC  \n",
       "40-49  0.2922  0.8667  0.8841  "
      ]
     },
     "metadata": {},
     "output_type": "display_data"
    },
    {
     "data": {
      "image/png": "[encoded data removed]",
      "text/plain": [
       "<Figure size 432x288 with 2 Axes>"
      ]
     },
     "metadata": {
      "needs_background": "light"
     },
     "output_type": "display_data"
    },
    {
     "name": "stdout",
     "output_type": "stream",
     "text": [
      "\n",
      "\n"
     ]
    },
    {
     "data": {
      "text/html": [
       "<div>\n",
       "<style scoped>\n",
       "    .dataframe tbody tr th:only-of-type {\n",
       "        vertical-align: middle;\n",
       "    }\n",
       "\n",
       "    .dataframe tbody tr th {\n",
       "        vertical-align: top;\n",
       "    }\n",
       "\n",
       "    .dataframe thead th {\n",
       "        text-align: right;\n",
       "    }\n",
       "</style>\n",
       "<table border=\"1\" class=\"dataframe\">\n",
       "  <thead>\n",
       "    <tr style=\"text-align: right;\">\n",
       "      <th></th>\n",
       "      <th>Test Set Group Size (N)</th>\n",
       "      <th>Predicted Prevalence</th>\n",
       "      <th>Accuracy</th>\n",
       "      <th>FNR</th>\n",
       "      <th>FPR</th>\n",
       "      <th>Recall</th>\n",
       "      <th>AUC</th>\n",
       "    </tr>\n",
       "  </thead>\n",
       "  <tbody>\n",
       "    <tr>\n",
       "      <th>50-59</th>\n",
       "      <td>5296</td>\n",
       "      <td>0.3014</td>\n",
       "      <td>0.703</td>\n",
       "      <td>0.1714</td>\n",
       "      <td>0.2979</td>\n",
       "      <td>0.8286</td>\n",
       "      <td>0.829</td>\n",
       "    </tr>\n",
       "  </tbody>\n",
       "</table>\n",
       "</div>"
      ],
      "text/plain": [
       "       Test Set Group Size (N)  Predicted Prevalence  Accuracy     FNR  \\\n",
       "50-59                     5296                0.3014     0.703  0.1714   \n",
       "\n",
       "          FPR  Recall    AUC  \n",
       "50-59  0.2979  0.8286  0.829  "
      ]
     },
     "metadata": {},
     "output_type": "display_data"
    },
    {
     "data": {
      "image/png": "[encoded data removed]",
      "text/plain": [
       "<Figure size 432x288 with 2 Axes>"
      ]
     },
     "metadata": {
      "needs_background": "light"
     },
     "output_type": "display_data"
    },
    {
     "name": "stdout",
     "output_type": "stream",
     "text": [
      "\n",
      "\n"
     ]
    },
    {
     "data": {
      "text/html": [
       "<div>\n",
       "<style scoped>\n",
       "    .dataframe tbody tr th:only-of-type {\n",
       "        vertical-align: middle;\n",
       "    }\n",
       "\n",
       "    .dataframe tbody tr th {\n",
       "        vertical-align: top;\n",
       "    }\n",
       "\n",
       "    .dataframe thead th {\n",
       "        text-align: right;\n",
       "    }\n",
       "</style>\n",
       "<table border=\"1\" class=\"dataframe\">\n",
       "  <thead>\n",
       "    <tr style=\"text-align: right;\">\n",
       "      <th></th>\n",
       "      <th>Test Set Group Size (N)</th>\n",
       "      <th>Predicted Prevalence</th>\n",
       "      <th>Accuracy</th>\n",
       "      <th>FNR</th>\n",
       "      <th>FPR</th>\n",
       "      <th>Recall</th>\n",
       "      <th>AUC</th>\n",
       "    </tr>\n",
       "  </thead>\n",
       "  <tbody>\n",
       "    <tr>\n",
       "      <th>60-69</th>\n",
       "      <td>1663</td>\n",
       "      <td>0.2249</td>\n",
       "      <td>0.7787</td>\n",
       "      <td>0.0</td>\n",
       "      <td>0.2221</td>\n",
       "      <td>1.0</td>\n",
       "      <td>0.9133</td>\n",
       "    </tr>\n",
       "  </tbody>\n",
       "</table>\n",
       "</div>"
      ],
      "text/plain": [
       "       Test Set Group Size (N)  Predicted Prevalence  Accuracy  FNR     FPR  \\\n",
       "60-69                     1663                0.2249    0.7787  0.0  0.2221   \n",
       "\n",
       "       Recall     AUC  \n",
       "60-69     1.0  0.9133  "
      ]
     },
     "metadata": {},
     "output_type": "display_data"
    },
    {
     "data": {
      "image/png": "[encoded data removed]",
      "text/plain": [
       "<Figure size 432x288 with 2 Axes>"
      ]
     },
     "metadata": {
      "needs_background": "light"
     },
     "output_type": "display_data"
    },
    {
     "name": "stdout",
     "output_type": "stream",
     "text": [
      "\n",
      "\n"
     ]
    },
    {
     "data": {
      "text/html": [
       "<div>\n",
       "<style scoped>\n",
       "    .dataframe tbody tr th:only-of-type {\n",
       "        vertical-align: middle;\n",
       "    }\n",
       "\n",
       "    .dataframe tbody tr th {\n",
       "        vertical-align: top;\n",
       "    }\n",
       "\n",
       "    .dataframe thead th {\n",
       "        text-align: right;\n",
       "    }\n",
       "</style>\n",
       "<table border=\"1\" class=\"dataframe\">\n",
       "  <thead>\n",
       "    <tr style=\"text-align: right;\">\n",
       "      <th></th>\n",
       "      <th>Test Set Group Size (N)</th>\n",
       "      <th>Predicted Prevalence</th>\n",
       "      <th>Accuracy</th>\n",
       "      <th>FNR</th>\n",
       "      <th>FPR</th>\n",
       "      <th>Recall</th>\n",
       "      <th>AUC</th>\n",
       "    </tr>\n",
       "  </thead>\n",
       "  <tbody>\n",
       "    <tr>\n",
       "      <th>70-82</th>\n",
       "      <td>167</td>\n",
       "      <td>0.3114</td>\n",
       "      <td>0.6826</td>\n",
       "      <td>1.0</td>\n",
       "      <td>0.3133</td>\n",
       "      <td>0.0</td>\n",
       "      <td>0.1867</td>\n",
       "    </tr>\n",
       "  </tbody>\n",
       "</table>\n",
       "</div>"
      ],
      "text/plain": [
       "       Test Set Group Size (N)  Predicted Prevalence  Accuracy  FNR     FPR  \\\n",
       "70-82                      167                0.3114    0.6826  1.0  0.3133   \n",
       "\n",
       "       Recall     AUC  \n",
       "70-82     0.0  0.1867  "
      ]
     },
     "metadata": {},
     "output_type": "display_data"
    },
    {
     "data": {
      "image/png": "[encoded data removed]",
      "text/plain": [
       "<Figure size 432x288 with 2 Axes>"
      ]
     },
     "metadata": {
      "needs_background": "light"
     },
     "output_type": "display_data"
    },
    {
     "name": "stdout",
     "output_type": "stream",
     "text": [
      "\n",
      "\n"
     ]
    },
    {
     "data": {
      "text/html": [
       "<div>\n",
       "<style scoped>\n",
       "    .dataframe tbody tr th:only-of-type {\n",
       "        vertical-align: middle;\n",
       "    }\n",
       "\n",
       "    .dataframe tbody tr th {\n",
       "        vertical-align: top;\n",
       "    }\n",
       "\n",
       "    .dataframe thead th {\n",
       "        text-align: right;\n",
       "    }\n",
       "</style>\n",
       "<table border=\"1\" class=\"dataframe\">\n",
       "  <thead>\n",
       "    <tr style=\"text-align: right;\">\n",
       "      <th></th>\n",
       "      <th>Test Set Group Size (N)</th>\n",
       "      <th>Predicted Prevalence</th>\n",
       "      <th>Accuracy</th>\n",
       "      <th>FNR</th>\n",
       "      <th>FPR</th>\n",
       "      <th>Recall</th>\n",
       "      <th>AUC</th>\n",
       "    </tr>\n",
       "  </thead>\n",
       "  <tbody>\n",
       "    <tr>\n",
       "      <th>Overall</th>\n",
       "      <td>43363</td>\n",
       "      <td>0.2384</td>\n",
       "      <td>0.7651</td>\n",
       "      <td>0.2077</td>\n",
       "      <td>0.2350</td>\n",
       "      <td>0.7923</td>\n",
       "      <td>0.8411</td>\n",
       "    </tr>\n",
       "    <tr>\n",
       "      <th>17-19</th>\n",
       "      <td>2623</td>\n",
       "      <td>0.1956</td>\n",
       "      <td>0.8048</td>\n",
       "      <td>0.4000</td>\n",
       "      <td>0.1948</td>\n",
       "      <td>0.6000</td>\n",
       "      <td>0.8105</td>\n",
       "    </tr>\n",
       "    <tr>\n",
       "      <th>20-22</th>\n",
       "      <td>5022</td>\n",
       "      <td>0.1810</td>\n",
       "      <td>0.8216</td>\n",
       "      <td>0.3415</td>\n",
       "      <td>0.1771</td>\n",
       "      <td>0.6585</td>\n",
       "      <td>0.8178</td>\n",
       "    </tr>\n",
       "    <tr>\n",
       "      <th>23-26</th>\n",
       "      <td>6977</td>\n",
       "      <td>0.1807</td>\n",
       "      <td>0.8217</td>\n",
       "      <td>0.2703</td>\n",
       "      <td>0.1778</td>\n",
       "      <td>0.7297</td>\n",
       "      <td>0.8136</td>\n",
       "    </tr>\n",
       "    <tr>\n",
       "      <th>27-29</th>\n",
       "      <td>5111</td>\n",
       "      <td>0.2475</td>\n",
       "      <td>0.7554</td>\n",
       "      <td>0.2414</td>\n",
       "      <td>0.2446</td>\n",
       "      <td>0.7586</td>\n",
       "      <td>0.8355</td>\n",
       "    </tr>\n",
       "    <tr>\n",
       "      <th>30-34</th>\n",
       "      <td>5800</td>\n",
       "      <td>0.2400</td>\n",
       "      <td>0.7657</td>\n",
       "      <td>0.0976</td>\n",
       "      <td>0.2353</td>\n",
       "      <td>0.9024</td>\n",
       "      <td>0.8843</td>\n",
       "    </tr>\n",
       "    <tr>\n",
       "      <th>35-39</th>\n",
       "      <td>4314</td>\n",
       "      <td>0.2508</td>\n",
       "      <td>0.7520</td>\n",
       "      <td>0.2000</td>\n",
       "      <td>0.2483</td>\n",
       "      <td>0.8000</td>\n",
       "      <td>0.8239</td>\n",
       "    </tr>\n",
       "    <tr>\n",
       "      <th>40-49</th>\n",
       "      <td>6390</td>\n",
       "      <td>0.2962</td>\n",
       "      <td>0.7089</td>\n",
       "      <td>0.1333</td>\n",
       "      <td>0.2922</td>\n",
       "      <td>0.8667</td>\n",
       "      <td>0.8841</td>\n",
       "    </tr>\n",
       "    <tr>\n",
       "      <th>50-59</th>\n",
       "      <td>5296</td>\n",
       "      <td>0.3014</td>\n",
       "      <td>0.7030</td>\n",
       "      <td>0.1714</td>\n",
       "      <td>0.2979</td>\n",
       "      <td>0.8286</td>\n",
       "      <td>0.8290</td>\n",
       "    </tr>\n",
       "    <tr>\n",
       "      <th>60-69</th>\n",
       "      <td>1663</td>\n",
       "      <td>0.2249</td>\n",
       "      <td>0.7787</td>\n",
       "      <td>0.0000</td>\n",
       "      <td>0.2221</td>\n",
       "      <td>1.0000</td>\n",
       "      <td>0.9133</td>\n",
       "    </tr>\n",
       "    <tr>\n",
       "      <th>70-82</th>\n",
       "      <td>167</td>\n",
       "      <td>0.3114</td>\n",
       "      <td>0.6826</td>\n",
       "      <td>1.0000</td>\n",
       "      <td>0.3133</td>\n",
       "      <td>0.0000</td>\n",
       "      <td>0.1867</td>\n",
       "    </tr>\n",
       "  </tbody>\n",
       "</table>\n",
       "</div>"
      ],
      "text/plain": [
       "         Test Set Group Size (N)  Predicted Prevalence  Accuracy     FNR  \\\n",
       "Overall                    43363                0.2384    0.7651  0.2077   \n",
       "17-19                       2623                0.1956    0.8048  0.4000   \n",
       "20-22                       5022                0.1810    0.8216  0.3415   \n",
       "23-26                       6977                0.1807    0.8217  0.2703   \n",
       "27-29                       5111                0.2475    0.7554  0.2414   \n",
       "30-34                       5800                0.2400    0.7657  0.0976   \n",
       "35-39                       4314                0.2508    0.7520  0.2000   \n",
       "40-49                       6390                0.2962    0.7089  0.1333   \n",
       "50-59                       5296                0.3014    0.7030  0.1714   \n",
       "60-69                       1663                0.2249    0.7787  0.0000   \n",
       "70-82                        167                0.3114    0.6826  1.0000   \n",
       "\n",
       "            FPR  Recall     AUC  \n",
       "Overall  0.2350  0.7923  0.8411  \n",
       "17-19    0.1948  0.6000  0.8105  \n",
       "20-22    0.1771  0.6585  0.8178  \n",
       "23-26    0.1778  0.7297  0.8136  \n",
       "27-29    0.2446  0.7586  0.8355  \n",
       "30-34    0.2353  0.9024  0.8843  \n",
       "35-39    0.2483  0.8000  0.8239  \n",
       "40-49    0.2922  0.8667  0.8841  \n",
       "50-59    0.2979  0.8286  0.8290  \n",
       "60-69    0.2221  1.0000  0.9133  \n",
       "70-82    0.3133  0.0000  0.1867  "
      ]
     },
     "metadata": {},
     "output_type": "display_data"
    },
    {
     "name": "stdout",
     "output_type": "stream",
     "text": [
      "\n",
      "\n"
     ]
    },
    {
     "data": {
      "image/png": "[encoded data removed]",
      "text/plain": [
       "<Figure size 864x432 with 1 Axes>"
      ]
     },
     "metadata": {
      "needs_background": "light"
     },
     "output_type": "display_data"
    }
   ],
   "source": [
    "age_stats = subgroup_stats('age_at_incident')\n",
    "plot_stats(age_stats, age=True)"
   ]
  },
  {
   "cell_type": "code",
   "execution_count": 331,
   "metadata": {},
   "outputs": [
    {
     "data": {
      "text/html": [
       "<div>\n",
       "<style scoped>\n",
       "    .dataframe tbody tr th:only-of-type {\n",
       "        vertical-align: middle;\n",
       "    }\n",
       "\n",
       "    .dataframe tbody tr th {\n",
       "        vertical-align: top;\n",
       "    }\n",
       "\n",
       "    .dataframe thead th {\n",
       "        text-align: right;\n",
       "    }\n",
       "</style>\n",
       "<table border=\"1\" class=\"dataframe\">\n",
       "  <thead>\n",
       "    <tr style=\"text-align: right;\">\n",
       "      <th></th>\n",
       "      <th>Test Set Group Size (N)</th>\n",
       "      <th>Predicted Prevalence</th>\n",
       "      <th>Accuracy</th>\n",
       "      <th>FNR</th>\n",
       "      <th>FPR</th>\n",
       "      <th>Recall</th>\n",
       "      <th>AUC</th>\n",
       "    </tr>\n",
       "  </thead>\n",
       "  <tbody>\n",
       "    <tr>\n",
       "      <th>Overall</th>\n",
       "      <td>43363</td>\n",
       "      <td>0.2384</td>\n",
       "      <td>0.7651</td>\n",
       "      <td>0.2077</td>\n",
       "      <td>0.235</td>\n",
       "      <td>0.7923</td>\n",
       "      <td>0.8411</td>\n",
       "    </tr>\n",
       "  </tbody>\n",
       "</table>\n",
       "</div>"
      ],
      "text/plain": [
       "         Test Set Group Size (N)  Predicted Prevalence  Accuracy     FNR  \\\n",
       "Overall                    43363                0.2384    0.7651  0.2077   \n",
       "\n",
       "           FPR  Recall     AUC  \n",
       "Overall  0.235  0.7923  0.8411  "
      ]
     },
     "metadata": {},
     "output_type": "display_data"
    },
    {
     "data": {
      "image/png": "[encoded data removed]",
      "text/plain": [
       "<Figure size 432x288 with 2 Axes>"
      ]
     },
     "metadata": {
      "needs_background": "light"
     },
     "output_type": "display_data"
    },
    {
     "name": "stdout",
     "output_type": "stream",
     "text": [
      "\n",
      "\n"
     ]
    },
    {
     "data": {
      "text/html": [
       "<div>\n",
       "<style scoped>\n",
       "    .dataframe tbody tr th:only-of-type {\n",
       "        vertical-align: middle;\n",
       "    }\n",
       "\n",
       "    .dataframe tbody tr th {\n",
       "        vertical-align: top;\n",
       "    }\n",
       "\n",
       "    .dataframe thead th {\n",
       "        text-align: right;\n",
       "    }\n",
       "</style>\n",
       "<table border=\"1\" class=\"dataframe\">\n",
       "  <thead>\n",
       "    <tr style=\"text-align: right;\">\n",
       "      <th></th>\n",
       "      <th>Test Set Group Size (N)</th>\n",
       "      <th>Predicted Prevalence</th>\n",
       "      <th>Accuracy</th>\n",
       "      <th>FNR</th>\n",
       "      <th>FPR</th>\n",
       "      <th>Recall</th>\n",
       "      <th>AUC</th>\n",
       "    </tr>\n",
       "  </thead>\n",
       "  <tbody>\n",
       "    <tr>\n",
       "      <th>gender_female</th>\n",
       "      <td>5582</td>\n",
       "      <td>0.6141</td>\n",
       "      <td>0.3968</td>\n",
       "      <td>0.0704</td>\n",
       "      <td>0.6101</td>\n",
       "      <td>0.9296</td>\n",
       "      <td>0.8228</td>\n",
       "    </tr>\n",
       "  </tbody>\n",
       "</table>\n",
       "</div>"
      ],
      "text/plain": [
       "               Test Set Group Size (N)  Predicted Prevalence  Accuracy  \\\n",
       "gender_female                     5582                0.6141    0.3968   \n",
       "\n",
       "                  FNR     FPR  Recall     AUC  \n",
       "gender_female  0.0704  0.6101  0.9296  0.8228  "
      ]
     },
     "metadata": {},
     "output_type": "display_data"
    },
    {
     "data": {
      "image/png": "[encoded data removed]",
      "text/plain": [
       "<Figure size 432x288 with 2 Axes>"
      ]
     },
     "metadata": {
      "needs_background": "light"
     },
     "output_type": "display_data"
    },
    {
     "name": "stdout",
     "output_type": "stream",
     "text": [
      "\n",
      "\n"
     ]
    },
    {
     "data": {
      "text/html": [
       "<div>\n",
       "<style scoped>\n",
       "    .dataframe tbody tr th:only-of-type {\n",
       "        vertical-align: middle;\n",
       "    }\n",
       "\n",
       "    .dataframe tbody tr th {\n",
       "        vertical-align: top;\n",
       "    }\n",
       "\n",
       "    .dataframe thead th {\n",
       "        text-align: right;\n",
       "    }\n",
       "</style>\n",
       "<table border=\"1\" class=\"dataframe\">\n",
       "  <thead>\n",
       "    <tr style=\"text-align: right;\">\n",
       "      <th></th>\n",
       "      <th>Test Set Group Size (N)</th>\n",
       "      <th>Predicted Prevalence</th>\n",
       "      <th>Accuracy</th>\n",
       "      <th>FNR</th>\n",
       "      <th>FPR</th>\n",
       "      <th>Recall</th>\n",
       "      <th>AUC</th>\n",
       "    </tr>\n",
       "  </thead>\n",
       "  <tbody>\n",
       "    <tr>\n",
       "      <th>gender_male</th>\n",
       "      <td>37546</td>\n",
       "      <td>0.1831</td>\n",
       "      <td>0.8194</td>\n",
       "      <td>0.2593</td>\n",
       "      <td>0.1802</td>\n",
       "      <td>0.7407</td>\n",
       "      <td>0.8395</td>\n",
       "    </tr>\n",
       "  </tbody>\n",
       "</table>\n",
       "</div>"
      ],
      "text/plain": [
       "             Test Set Group Size (N)  Predicted Prevalence  Accuracy     FNR  \\\n",
       "gender_male                    37546                0.1831    0.8194  0.2593   \n",
       "\n",
       "                FPR  Recall     AUC  \n",
       "gender_male  0.1802  0.7407  0.8395  "
      ]
     },
     "metadata": {},
     "output_type": "display_data"
    },
    {
     "data": {
      "image/png": "[encoded data removed]",
      "text/plain": [
       "<Figure size 432x288 with 2 Axes>"
      ]
     },
     "metadata": {
      "needs_background": "light"
     },
     "output_type": "display_data"
    },
    {
     "name": "stdout",
     "output_type": "stream",
     "text": [
      "\n",
      "\n"
     ]
    },
    {
     "data": {
      "text/html": [
       "<div>\n",
       "<style scoped>\n",
       "    .dataframe tbody tr th:only-of-type {\n",
       "        vertical-align: middle;\n",
       "    }\n",
       "\n",
       "    .dataframe tbody tr th {\n",
       "        vertical-align: top;\n",
       "    }\n",
       "\n",
       "    .dataframe thead th {\n",
       "        text-align: right;\n",
       "    }\n",
       "</style>\n",
       "<table border=\"1\" class=\"dataframe\">\n",
       "  <thead>\n",
       "    <tr style=\"text-align: right;\">\n",
       "      <th></th>\n",
       "      <th>Test Set Group Size (N)</th>\n",
       "      <th>Predicted Prevalence</th>\n",
       "      <th>Accuracy</th>\n",
       "      <th>FNR</th>\n",
       "      <th>FPR</th>\n",
       "      <th>Recall</th>\n",
       "      <th>AUC</th>\n",
       "    </tr>\n",
       "  </thead>\n",
       "  <tbody>\n",
       "    <tr>\n",
       "      <th>gender_unknown</th>\n",
       "      <td>235</td>\n",
       "      <td>0.1532</td>\n",
       "      <td>0.8468</td>\n",
       "      <td>NaN</td>\n",
       "      <td>0.1532</td>\n",
       "      <td>NaN</td>\n",
       "      <td>NaN</td>\n",
       "    </tr>\n",
       "  </tbody>\n",
       "</table>\n",
       "</div>"
      ],
      "text/plain": [
       "                Test Set Group Size (N)  Predicted Prevalence  Accuracy  FNR  \\\n",
       "gender_unknown                      235                0.1532    0.8468  NaN   \n",
       "\n",
       "                   FPR  Recall  AUC  \n",
       "gender_unknown  0.1532     NaN  NaN  "
      ]
     },
     "metadata": {},
     "output_type": "display_data"
    },
    {
     "data": {
      "image/png": "[encoded data removed]",
      "text/plain": [
       "<Figure size 432x288 with 2 Axes>"
      ]
     },
     "metadata": {
      "needs_background": "light"
     },
     "output_type": "display_data"
    },
    {
     "name": "stdout",
     "output_type": "stream",
     "text": [
      "\n",
      "\n"
     ]
    },
    {
     "data": {
      "text/html": [
       "<div>\n",
       "<style scoped>\n",
       "    .dataframe tbody tr th:only-of-type {\n",
       "        vertical-align: middle;\n",
       "    }\n",
       "\n",
       "    .dataframe tbody tr th {\n",
       "        vertical-align: top;\n",
       "    }\n",
       "\n",
       "    .dataframe thead th {\n",
       "        text-align: right;\n",
       "    }\n",
       "</style>\n",
       "<table border=\"1\" class=\"dataframe\">\n",
       "  <thead>\n",
       "    <tr style=\"text-align: right;\">\n",
       "      <th></th>\n",
       "      <th>Test Set Group Size (N)</th>\n",
       "      <th>Predicted Prevalence</th>\n",
       "      <th>Accuracy</th>\n",
       "      <th>FNR</th>\n",
       "      <th>FPR</th>\n",
       "      <th>Recall</th>\n",
       "      <th>AUC</th>\n",
       "    </tr>\n",
       "  </thead>\n",
       "  <tbody>\n",
       "    <tr>\n",
       "      <th>Overall</th>\n",
       "      <td>43363</td>\n",
       "      <td>0.2384</td>\n",
       "      <td>0.7651</td>\n",
       "      <td>0.2077</td>\n",
       "      <td>0.2350</td>\n",
       "      <td>0.7923</td>\n",
       "      <td>0.8411</td>\n",
       "    </tr>\n",
       "    <tr>\n",
       "      <th>gender_female</th>\n",
       "      <td>5582</td>\n",
       "      <td>0.6141</td>\n",
       "      <td>0.3968</td>\n",
       "      <td>0.0704</td>\n",
       "      <td>0.6101</td>\n",
       "      <td>0.9296</td>\n",
       "      <td>0.8228</td>\n",
       "    </tr>\n",
       "    <tr>\n",
       "      <th>gender_male</th>\n",
       "      <td>37546</td>\n",
       "      <td>0.1831</td>\n",
       "      <td>0.8194</td>\n",
       "      <td>0.2593</td>\n",
       "      <td>0.1802</td>\n",
       "      <td>0.7407</td>\n",
       "      <td>0.8395</td>\n",
       "    </tr>\n",
       "    <tr>\n",
       "      <th>gender_unknown</th>\n",
       "      <td>235</td>\n",
       "      <td>0.1532</td>\n",
       "      <td>0.8468</td>\n",
       "      <td>NaN</td>\n",
       "      <td>0.1532</td>\n",
       "      <td>NaN</td>\n",
       "      <td>NaN</td>\n",
       "    </tr>\n",
       "  </tbody>\n",
       "</table>\n",
       "</div>"
      ],
      "text/plain": [
       "                Test Set Group Size (N)  Predicted Prevalence  Accuracy  \\\n",
       "Overall                           43363                0.2384    0.7651   \n",
       "gender_female                      5582                0.6141    0.3968   \n",
       "gender_male                       37546                0.1831    0.8194   \n",
       "gender_unknown                      235                0.1532    0.8468   \n",
       "\n",
       "                   FNR     FPR  Recall     AUC  \n",
       "Overall         0.2077  0.2350  0.7923  0.8411  \n",
       "gender_female   0.0704  0.6101  0.9296  0.8228  \n",
       "gender_male     0.2593  0.1802  0.7407  0.8395  \n",
       "gender_unknown     NaN  0.1532     NaN     NaN  "
      ]
     },
     "metadata": {},
     "output_type": "display_data"
    },
    {
     "name": "stdout",
     "output_type": "stream",
     "text": [
      "\n",
      "\n"
     ]
    },
    {
     "data": {
      "image/png": "[encoded data removed]",
      "text/plain": [
       "<Figure size 864x432 with 1 Axes>"
      ]
     },
     "metadata": {
      "needs_background": "light"
     },
     "output_type": "display_data"
    }
   ],
   "source": [
    "gender_stats = subgroup_stats('gender')\n",
    "plot_stats(gender_stats)"
   ]
  },
  {
   "cell_type": "code",
   "execution_count": 332,
   "metadata": {},
   "outputs": [
    {
     "data": {
      "text/html": [
       "<div>\n",
       "<style scoped>\n",
       "    .dataframe tbody tr th:only-of-type {\n",
       "        vertical-align: middle;\n",
       "    }\n",
       "\n",
       "    .dataframe tbody tr th {\n",
       "        vertical-align: top;\n",
       "    }\n",
       "\n",
       "    .dataframe thead th {\n",
       "        text-align: right;\n",
       "    }\n",
       "</style>\n",
       "<table border=\"1\" class=\"dataframe\">\n",
       "  <thead>\n",
       "    <tr style=\"text-align: right;\">\n",
       "      <th></th>\n",
       "      <th>Test Set Group Size (N)</th>\n",
       "      <th>Predicted Prevalence</th>\n",
       "      <th>Accuracy</th>\n",
       "      <th>FNR</th>\n",
       "      <th>FPR</th>\n",
       "      <th>Recall</th>\n",
       "      <th>AUC</th>\n",
       "    </tr>\n",
       "  </thead>\n",
       "  <tbody>\n",
       "    <tr>\n",
       "      <th>Overall</th>\n",
       "      <td>43363</td>\n",
       "      <td>0.2384</td>\n",
       "      <td>0.7651</td>\n",
       "      <td>0.2077</td>\n",
       "      <td>0.235</td>\n",
       "      <td>0.7923</td>\n",
       "      <td>0.8411</td>\n",
       "    </tr>\n",
       "  </tbody>\n",
       "</table>\n",
       "</div>"
      ],
      "text/plain": [
       "         Test Set Group Size (N)  Predicted Prevalence  Accuracy     FNR  \\\n",
       "Overall                    43363                0.2384    0.7651  0.2077   \n",
       "\n",
       "           FPR  Recall     AUC  \n",
       "Overall  0.235  0.7923  0.8411  "
      ]
     },
     "metadata": {},
     "output_type": "display_data"
    },
    {
     "data": {
      "image/png": "[encoded data removed]",
      "text/plain": [
       "<Figure size 432x288 with 2 Axes>"
      ]
     },
     "metadata": {
      "needs_background": "light"
     },
     "output_type": "display_data"
    },
    {
     "name": "stdout",
     "output_type": "stream",
     "text": [
      "\n",
      "\n",
      "race_albino \n",
      "\t No members of this subgroup present in the test set. \n",
      "\n"
     ]
    },
    {
     "data": {
      "text/html": [
       "<div>\n",
       "<style scoped>\n",
       "    .dataframe tbody tr th:only-of-type {\n",
       "        vertical-align: middle;\n",
       "    }\n",
       "\n",
       "    .dataframe tbody tr th {\n",
       "        vertical-align: top;\n",
       "    }\n",
       "\n",
       "    .dataframe thead th {\n",
       "        text-align: right;\n",
       "    }\n",
       "</style>\n",
       "<table border=\"1\" class=\"dataframe\">\n",
       "  <thead>\n",
       "    <tr style=\"text-align: right;\">\n",
       "      <th></th>\n",
       "      <th>Test Set Group Size (N)</th>\n",
       "      <th>Predicted Prevalence</th>\n",
       "      <th>Accuracy</th>\n",
       "      <th>FNR</th>\n",
       "      <th>FPR</th>\n",
       "      <th>Recall</th>\n",
       "      <th>AUC</th>\n",
       "    </tr>\n",
       "  </thead>\n",
       "  <tbody>\n",
       "    <tr>\n",
       "      <th>race_american indian</th>\n",
       "      <td>7</td>\n",
       "      <td>0.7143</td>\n",
       "      <td>0.2857</td>\n",
       "      <td>NaN</td>\n",
       "      <td>0.7143</td>\n",
       "      <td>NaN</td>\n",
       "      <td>NaN</td>\n",
       "    </tr>\n",
       "  </tbody>\n",
       "</table>\n",
       "</div>"
      ],
      "text/plain": [
       "                      Test Set Group Size (N)  Predicted Prevalence  Accuracy  \\\n",
       "race_american indian                        7                0.7143    0.2857   \n",
       "\n",
       "                      FNR     FPR  Recall  AUC  \n",
       "race_american indian  NaN  0.7143     NaN  NaN  "
      ]
     },
     "metadata": {},
     "output_type": "display_data"
    },
    {
     "data": {
      "image/png": "[encoded data removed]",
      "text/plain": [
       "<Figure size 432x288 with 2 Axes>"
      ]
     },
     "metadata": {
      "needs_background": "light"
     },
     "output_type": "display_data"
    },
    {
     "name": "stdout",
     "output_type": "stream",
     "text": [
      "\n",
      "\n"
     ]
    },
    {
     "data": {
      "text/html": [
       "<div>\n",
       "<style scoped>\n",
       "    .dataframe tbody tr th:only-of-type {\n",
       "        vertical-align: middle;\n",
       "    }\n",
       "\n",
       "    .dataframe tbody tr th {\n",
       "        vertical-align: top;\n",
       "    }\n",
       "\n",
       "    .dataframe thead th {\n",
       "        text-align: right;\n",
       "    }\n",
       "</style>\n",
       "<table border=\"1\" class=\"dataframe\">\n",
       "  <thead>\n",
       "    <tr style=\"text-align: right;\">\n",
       "      <th></th>\n",
       "      <th>Test Set Group Size (N)</th>\n",
       "      <th>Predicted Prevalence</th>\n",
       "      <th>Accuracy</th>\n",
       "      <th>FNR</th>\n",
       "      <th>FPR</th>\n",
       "      <th>Recall</th>\n",
       "      <th>AUC</th>\n",
       "    </tr>\n",
       "  </thead>\n",
       "  <tbody>\n",
       "    <tr>\n",
       "      <th>race_asian</th>\n",
       "      <td>224</td>\n",
       "      <td>0.3214</td>\n",
       "      <td>0.692</td>\n",
       "      <td>0.0</td>\n",
       "      <td>0.3122</td>\n",
       "      <td>1.0</td>\n",
       "      <td>0.8612</td>\n",
       "    </tr>\n",
       "  </tbody>\n",
       "</table>\n",
       "</div>"
      ],
      "text/plain": [
       "            Test Set Group Size (N)  Predicted Prevalence  Accuracy  FNR  \\\n",
       "race_asian                      224                0.3214     0.692  0.0   \n",
       "\n",
       "               FPR  Recall     AUC  \n",
       "race_asian  0.3122     1.0  0.8612  "
      ]
     },
     "metadata": {},
     "output_type": "display_data"
    },
    {
     "data": {
      "image/png": "[encoded data removed]",
      "text/plain": [
       "<Figure size 432x288 with 2 Axes>"
      ]
     },
     "metadata": {
      "needs_background": "light"
     },
     "output_type": "display_data"
    },
    {
     "name": "stdout",
     "output_type": "stream",
     "text": [
      "\n",
      "\n"
     ]
    },
    {
     "data": {
      "text/html": [
       "<div>\n",
       "<style scoped>\n",
       "    .dataframe tbody tr th:only-of-type {\n",
       "        vertical-align: middle;\n",
       "    }\n",
       "\n",
       "    .dataframe tbody tr th {\n",
       "        vertical-align: top;\n",
       "    }\n",
       "\n",
       "    .dataframe thead th {\n",
       "        text-align: right;\n",
       "    }\n",
       "</style>\n",
       "<table border=\"1\" class=\"dataframe\">\n",
       "  <thead>\n",
       "    <tr style=\"text-align: right;\">\n",
       "      <th></th>\n",
       "      <th>Test Set Group Size (N)</th>\n",
       "      <th>Predicted Prevalence</th>\n",
       "      <th>Accuracy</th>\n",
       "      <th>FNR</th>\n",
       "      <th>FPR</th>\n",
       "      <th>Recall</th>\n",
       "      <th>AUC</th>\n",
       "    </tr>\n",
       "  </thead>\n",
       "  <tbody>\n",
       "    <tr>\n",
       "      <th>race_biracial</th>\n",
       "      <td>5</td>\n",
       "      <td>0.2</td>\n",
       "      <td>0.8</td>\n",
       "      <td>NaN</td>\n",
       "      <td>0.2</td>\n",
       "      <td>NaN</td>\n",
       "      <td>NaN</td>\n",
       "    </tr>\n",
       "  </tbody>\n",
       "</table>\n",
       "</div>"
      ],
      "text/plain": [
       "               Test Set Group Size (N)  Predicted Prevalence  Accuracy  FNR  \\\n",
       "race_biracial                        5                   0.2       0.8  NaN   \n",
       "\n",
       "               FPR  Recall  AUC  \n",
       "race_biracial  0.2     NaN  NaN  "
      ]
     },
     "metadata": {},
     "output_type": "display_data"
    },
    {
     "data": {
      "image/png": "[encoded data removed]",
      "text/plain": [
       "<Figure size 432x288 with 2 Axes>"
      ]
     },
     "metadata": {
      "needs_background": "light"
     },
     "output_type": "display_data"
    },
    {
     "name": "stdout",
     "output_type": "stream",
     "text": [
      "\n",
      "\n"
     ]
    },
    {
     "data": {
      "text/html": [
       "<div>\n",
       "<style scoped>\n",
       "    .dataframe tbody tr th:only-of-type {\n",
       "        vertical-align: middle;\n",
       "    }\n",
       "\n",
       "    .dataframe tbody tr th {\n",
       "        vertical-align: top;\n",
       "    }\n",
       "\n",
       "    .dataframe thead th {\n",
       "        text-align: right;\n",
       "    }\n",
       "</style>\n",
       "<table border=\"1\" class=\"dataframe\">\n",
       "  <thead>\n",
       "    <tr style=\"text-align: right;\">\n",
       "      <th></th>\n",
       "      <th>Test Set Group Size (N)</th>\n",
       "      <th>Predicted Prevalence</th>\n",
       "      <th>Accuracy</th>\n",
       "      <th>FNR</th>\n",
       "      <th>FPR</th>\n",
       "      <th>Recall</th>\n",
       "      <th>AUC</th>\n",
       "    </tr>\n",
       "  </thead>\n",
       "  <tbody>\n",
       "    <tr>\n",
       "      <th>race_black</th>\n",
       "      <td>29269</td>\n",
       "      <td>0.2143</td>\n",
       "      <td>0.7889</td>\n",
       "      <td>0.2262</td>\n",
       "      <td>0.2111</td>\n",
       "      <td>0.7738</td>\n",
       "      <td>0.8407</td>\n",
       "    </tr>\n",
       "  </tbody>\n",
       "</table>\n",
       "</div>"
      ],
      "text/plain": [
       "            Test Set Group Size (N)  Predicted Prevalence  Accuracy     FNR  \\\n",
       "race_black                    29269                0.2143    0.7889  0.2262   \n",
       "\n",
       "               FPR  Recall     AUC  \n",
       "race_black  0.2111  0.7738  0.8407  "
      ]
     },
     "metadata": {},
     "output_type": "display_data"
    },
    {
     "data": {
      "image/png": "[encoded data removed]",
      "text/plain": [
       "<Figure size 432x288 with 2 Axes>"
      ]
     },
     "metadata": {
      "needs_background": "light"
     },
     "output_type": "display_data"
    },
    {
     "name": "stdout",
     "output_type": "stream",
     "text": [
      "\n",
      "\n"
     ]
    },
    {
     "data": {
      "text/html": [
       "<div>\n",
       "<style scoped>\n",
       "    .dataframe tbody tr th:only-of-type {\n",
       "        vertical-align: middle;\n",
       "    }\n",
       "\n",
       "    .dataframe tbody tr th {\n",
       "        vertical-align: top;\n",
       "    }\n",
       "\n",
       "    .dataframe thead th {\n",
       "        text-align: right;\n",
       "    }\n",
       "</style>\n",
       "<table border=\"1\" class=\"dataframe\">\n",
       "  <thead>\n",
       "    <tr style=\"text-align: right;\">\n",
       "      <th></th>\n",
       "      <th>Test Set Group Size (N)</th>\n",
       "      <th>Predicted Prevalence</th>\n",
       "      <th>Accuracy</th>\n",
       "      <th>FNR</th>\n",
       "      <th>FPR</th>\n",
       "      <th>Recall</th>\n",
       "      <th>AUC</th>\n",
       "    </tr>\n",
       "  </thead>\n",
       "  <tbody>\n",
       "    <tr>\n",
       "      <th>race_hispanic</th>\n",
       "      <td>446</td>\n",
       "      <td>0.1076</td>\n",
       "      <td>0.8946</td>\n",
       "      <td>0.0</td>\n",
       "      <td>0.1056</td>\n",
       "      <td>1.0</td>\n",
       "      <td>0.9933</td>\n",
       "    </tr>\n",
       "  </tbody>\n",
       "</table>\n",
       "</div>"
      ],
      "text/plain": [
       "               Test Set Group Size (N)  Predicted Prevalence  Accuracy  FNR  \\\n",
       "race_hispanic                      446                0.1076    0.8946  0.0   \n",
       "\n",
       "                  FPR  Recall     AUC  \n",
       "race_hispanic  0.1056     1.0  0.9933  "
      ]
     },
     "metadata": {},
     "output_type": "display_data"
    },
    {
     "data": {
      "image/png": "[encoded data removed]",
      "text/plain": [
       "<Figure size 432x288 with 2 Axes>"
      ]
     },
     "metadata": {
      "needs_background": "light"
     },
     "output_type": "display_data"
    },
    {
     "name": "stdout",
     "output_type": "stream",
     "text": [
      "\n",
      "\n"
     ]
    },
    {
     "data": {
      "text/html": [
       "<div>\n",
       "<style scoped>\n",
       "    .dataframe tbody tr th:only-of-type {\n",
       "        vertical-align: middle;\n",
       "    }\n",
       "\n",
       "    .dataframe tbody tr th {\n",
       "        vertical-align: top;\n",
       "    }\n",
       "\n",
       "    .dataframe thead th {\n",
       "        text-align: right;\n",
       "    }\n",
       "</style>\n",
       "<table border=\"1\" class=\"dataframe\">\n",
       "  <thead>\n",
       "    <tr style=\"text-align: right;\">\n",
       "      <th></th>\n",
       "      <th>Test Set Group Size (N)</th>\n",
       "      <th>Predicted Prevalence</th>\n",
       "      <th>Accuracy</th>\n",
       "      <th>FNR</th>\n",
       "      <th>FPR</th>\n",
       "      <th>Recall</th>\n",
       "      <th>AUC</th>\n",
       "    </tr>\n",
       "  </thead>\n",
       "  <tbody>\n",
       "    <tr>\n",
       "      <th>race_unknown</th>\n",
       "      <td>420</td>\n",
       "      <td>0.181</td>\n",
       "      <td>0.819</td>\n",
       "      <td>NaN</td>\n",
       "      <td>0.181</td>\n",
       "      <td>NaN</td>\n",
       "      <td>NaN</td>\n",
       "    </tr>\n",
       "  </tbody>\n",
       "</table>\n",
       "</div>"
      ],
      "text/plain": [
       "              Test Set Group Size (N)  Predicted Prevalence  Accuracy  FNR  \\\n",
       "race_unknown                      420                 0.181     0.819  NaN   \n",
       "\n",
       "                FPR  Recall  AUC  \n",
       "race_unknown  0.181     NaN  NaN  "
      ]
     },
     "metadata": {},
     "output_type": "display_data"
    },
    {
     "data": {
      "image/png": "[encoded data removed]",
      "text/plain": [
       "<Figure size 432x288 with 2 Axes>"
      ]
     },
     "metadata": {
      "needs_background": "light"
     },
     "output_type": "display_data"
    },
    {
     "name": "stdout",
     "output_type": "stream",
     "text": [
      "\n",
      "\n"
     ]
    },
    {
     "data": {
      "text/html": [
       "<div>\n",
       "<style scoped>\n",
       "    .dataframe tbody tr th:only-of-type {\n",
       "        vertical-align: middle;\n",
       "    }\n",
       "\n",
       "    .dataframe tbody tr th {\n",
       "        vertical-align: top;\n",
       "    }\n",
       "\n",
       "    .dataframe thead th {\n",
       "        text-align: right;\n",
       "    }\n",
       "</style>\n",
       "<table border=\"1\" class=\"dataframe\">\n",
       "  <thead>\n",
       "    <tr style=\"text-align: right;\">\n",
       "      <th></th>\n",
       "      <th>Test Set Group Size (N)</th>\n",
       "      <th>Predicted Prevalence</th>\n",
       "      <th>Accuracy</th>\n",
       "      <th>FNR</th>\n",
       "      <th>FPR</th>\n",
       "      <th>Recall</th>\n",
       "      <th>AUC</th>\n",
       "    </tr>\n",
       "  </thead>\n",
       "  <tbody>\n",
       "    <tr>\n",
       "      <th>race_white</th>\n",
       "      <td>6000</td>\n",
       "      <td>0.407</td>\n",
       "      <td>0.6005</td>\n",
       "      <td>0.1053</td>\n",
       "      <td>0.4023</td>\n",
       "      <td>0.8947</td>\n",
       "      <td>0.8423</td>\n",
       "    </tr>\n",
       "  </tbody>\n",
       "</table>\n",
       "</div>"
      ],
      "text/plain": [
       "            Test Set Group Size (N)  Predicted Prevalence  Accuracy     FNR  \\\n",
       "race_white                     6000                 0.407    0.6005  0.1053   \n",
       "\n",
       "               FPR  Recall     AUC  \n",
       "race_white  0.4023  0.8947  0.8423  "
      ]
     },
     "metadata": {},
     "output_type": "display_data"
    },
    {
     "data": {
      "image/png": "[encoded data removed]",
      "text/plain": [
       "<Figure size 432x288 with 2 Axes>"
      ]
     },
     "metadata": {
      "needs_background": "light"
     },
     "output_type": "display_data"
    },
    {
     "name": "stdout",
     "output_type": "stream",
     "text": [
      "\n",
      "\n"
     ]
    },
    {
     "data": {
      "text/html": [
       "<div>\n",
       "<style scoped>\n",
       "    .dataframe tbody tr th:only-of-type {\n",
       "        vertical-align: middle;\n",
       "    }\n",
       "\n",
       "    .dataframe tbody tr th {\n",
       "        vertical-align: top;\n",
       "    }\n",
       "\n",
       "    .dataframe thead th {\n",
       "        text-align: right;\n",
       "    }\n",
       "</style>\n",
       "<table border=\"1\" class=\"dataframe\">\n",
       "  <thead>\n",
       "    <tr style=\"text-align: right;\">\n",
       "      <th></th>\n",
       "      <th>Test Set Group Size (N)</th>\n",
       "      <th>Predicted Prevalence</th>\n",
       "      <th>Accuracy</th>\n",
       "      <th>FNR</th>\n",
       "      <th>FPR</th>\n",
       "      <th>Recall</th>\n",
       "      <th>AUC</th>\n",
       "    </tr>\n",
       "  </thead>\n",
       "  <tbody>\n",
       "    <tr>\n",
       "      <th>race_white [hispanic or latino]</th>\n",
       "      <td>6751</td>\n",
       "      <td>0.2023</td>\n",
       "      <td>0.799</td>\n",
       "      <td>0.3448</td>\n",
       "      <td>0.2004</td>\n",
       "      <td>0.6552</td>\n",
       "      <td>0.7919</td>\n",
       "    </tr>\n",
       "  </tbody>\n",
       "</table>\n",
       "</div>"
      ],
      "text/plain": [
       "                                 Test Set Group Size (N)  \\\n",
       "race_white [hispanic or latino]                     6751   \n",
       "\n",
       "                                 Predicted Prevalence  Accuracy     FNR  \\\n",
       "race_white [hispanic or latino]                0.2023     0.799  0.3448   \n",
       "\n",
       "                                    FPR  Recall     AUC  \n",
       "race_white [hispanic or latino]  0.2004  0.6552  0.7919  "
      ]
     },
     "metadata": {},
     "output_type": "display_data"
    },
    {
     "data": {
      "image/png": "[encoded data removed]",
      "text/plain": [
       "<Figure size 432x288 with 2 Axes>"
      ]
     },
     "metadata": {
      "needs_background": "light"
     },
     "output_type": "display_data"
    },
    {
     "name": "stdout",
     "output_type": "stream",
     "text": [
      "\n",
      "\n"
     ]
    },
    {
     "data": {
      "text/html": [
       "<div>\n",
       "<style scoped>\n",
       "    .dataframe tbody tr th:only-of-type {\n",
       "        vertical-align: middle;\n",
       "    }\n",
       "\n",
       "    .dataframe tbody tr th {\n",
       "        vertical-align: top;\n",
       "    }\n",
       "\n",
       "    .dataframe thead th {\n",
       "        text-align: right;\n",
       "    }\n",
       "</style>\n",
       "<table border=\"1\" class=\"dataframe\">\n",
       "  <thead>\n",
       "    <tr style=\"text-align: right;\">\n",
       "      <th></th>\n",
       "      <th>Test Set Group Size (N)</th>\n",
       "      <th>Predicted Prevalence</th>\n",
       "      <th>Accuracy</th>\n",
       "      <th>FNR</th>\n",
       "      <th>FPR</th>\n",
       "      <th>Recall</th>\n",
       "      <th>AUC</th>\n",
       "    </tr>\n",
       "  </thead>\n",
       "  <tbody>\n",
       "    <tr>\n",
       "      <th>race_white/black [hispanic or latino]</th>\n",
       "      <td>241</td>\n",
       "      <td>0.2282</td>\n",
       "      <td>0.7801</td>\n",
       "      <td>0.0</td>\n",
       "      <td>0.2218</td>\n",
       "      <td>1.0</td>\n",
       "      <td>1.0</td>\n",
       "    </tr>\n",
       "  </tbody>\n",
       "</table>\n",
       "</div>"
      ],
      "text/plain": [
       "                                       Test Set Group Size (N)  \\\n",
       "race_white/black [hispanic or latino]                      241   \n",
       "\n",
       "                                       Predicted Prevalence  Accuracy  FNR  \\\n",
       "race_white/black [hispanic or latino]                0.2282    0.7801  0.0   \n",
       "\n",
       "                                          FPR  Recall  AUC  \n",
       "race_white/black [hispanic or latino]  0.2218     1.0  1.0  "
      ]
     },
     "metadata": {},
     "output_type": "display_data"
    },
    {
     "data": {
      "image/png": "[encoded data removed]",
      "text/plain": [
       "<Figure size 432x288 with 2 Axes>"
      ]
     },
     "metadata": {
      "needs_background": "light"
     },
     "output_type": "display_data"
    },
    {
     "name": "stdout",
     "output_type": "stream",
     "text": [
      "\n",
      "\n"
     ]
    },
    {
     "data": {
      "text/html": [
       "<div>\n",
       "<style scoped>\n",
       "    .dataframe tbody tr th:only-of-type {\n",
       "        vertical-align: middle;\n",
       "    }\n",
       "\n",
       "    .dataframe tbody tr th {\n",
       "        vertical-align: top;\n",
       "    }\n",
       "\n",
       "    .dataframe thead th {\n",
       "        text-align: right;\n",
       "    }\n",
       "</style>\n",
       "<table border=\"1\" class=\"dataframe\">\n",
       "  <thead>\n",
       "    <tr style=\"text-align: right;\">\n",
       "      <th></th>\n",
       "      <th>Test Set Group Size (N)</th>\n",
       "      <th>Predicted Prevalence</th>\n",
       "      <th>Accuracy</th>\n",
       "      <th>FNR</th>\n",
       "      <th>FPR</th>\n",
       "      <th>Recall</th>\n",
       "      <th>AUC</th>\n",
       "    </tr>\n",
       "  </thead>\n",
       "  <tbody>\n",
       "    <tr>\n",
       "      <th>Overall</th>\n",
       "      <td>43363</td>\n",
       "      <td>0.2384</td>\n",
       "      <td>0.7651</td>\n",
       "      <td>0.2077</td>\n",
       "      <td>0.2350</td>\n",
       "      <td>0.7923</td>\n",
       "      <td>0.8411</td>\n",
       "    </tr>\n",
       "    <tr>\n",
       "      <th>race_american indian</th>\n",
       "      <td>7</td>\n",
       "      <td>0.7143</td>\n",
       "      <td>0.2857</td>\n",
       "      <td>NaN</td>\n",
       "      <td>0.7143</td>\n",
       "      <td>NaN</td>\n",
       "      <td>NaN</td>\n",
       "    </tr>\n",
       "    <tr>\n",
       "      <th>race_asian</th>\n",
       "      <td>224</td>\n",
       "      <td>0.3214</td>\n",
       "      <td>0.6920</td>\n",
       "      <td>0.0000</td>\n",
       "      <td>0.3122</td>\n",
       "      <td>1.0000</td>\n",
       "      <td>0.8612</td>\n",
       "    </tr>\n",
       "    <tr>\n",
       "      <th>race_biracial</th>\n",
       "      <td>5</td>\n",
       "      <td>0.2000</td>\n",
       "      <td>0.8000</td>\n",
       "      <td>NaN</td>\n",
       "      <td>0.2000</td>\n",
       "      <td>NaN</td>\n",
       "      <td>NaN</td>\n",
       "    </tr>\n",
       "    <tr>\n",
       "      <th>race_black</th>\n",
       "      <td>29269</td>\n",
       "      <td>0.2143</td>\n",
       "      <td>0.7889</td>\n",
       "      <td>0.2262</td>\n",
       "      <td>0.2111</td>\n",
       "      <td>0.7738</td>\n",
       "      <td>0.8407</td>\n",
       "    </tr>\n",
       "    <tr>\n",
       "      <th>race_hispanic</th>\n",
       "      <td>446</td>\n",
       "      <td>0.1076</td>\n",
       "      <td>0.8946</td>\n",
       "      <td>0.0000</td>\n",
       "      <td>0.1056</td>\n",
       "      <td>1.0000</td>\n",
       "      <td>0.9933</td>\n",
       "    </tr>\n",
       "    <tr>\n",
       "      <th>race_unknown</th>\n",
       "      <td>420</td>\n",
       "      <td>0.1810</td>\n",
       "      <td>0.8190</td>\n",
       "      <td>NaN</td>\n",
       "      <td>0.1810</td>\n",
       "      <td>NaN</td>\n",
       "      <td>NaN</td>\n",
       "    </tr>\n",
       "    <tr>\n",
       "      <th>race_white</th>\n",
       "      <td>6000</td>\n",
       "      <td>0.4070</td>\n",
       "      <td>0.6005</td>\n",
       "      <td>0.1053</td>\n",
       "      <td>0.4023</td>\n",
       "      <td>0.8947</td>\n",
       "      <td>0.8423</td>\n",
       "    </tr>\n",
       "    <tr>\n",
       "      <th>race_white [hispanic or latino]</th>\n",
       "      <td>6751</td>\n",
       "      <td>0.2023</td>\n",
       "      <td>0.7990</td>\n",
       "      <td>0.3448</td>\n",
       "      <td>0.2004</td>\n",
       "      <td>0.6552</td>\n",
       "      <td>0.7919</td>\n",
       "    </tr>\n",
       "    <tr>\n",
       "      <th>race_white/black [hispanic or latino]</th>\n",
       "      <td>241</td>\n",
       "      <td>0.2282</td>\n",
       "      <td>0.7801</td>\n",
       "      <td>0.0000</td>\n",
       "      <td>0.2218</td>\n",
       "      <td>1.0000</td>\n",
       "      <td>1.0000</td>\n",
       "    </tr>\n",
       "  </tbody>\n",
       "</table>\n",
       "</div>"
      ],
      "text/plain": [
       "                                       Test Set Group Size (N)  \\\n",
       "Overall                                                  43363   \n",
       "race_american indian                                         7   \n",
       "race_asian                                                 224   \n",
       "race_biracial                                                5   \n",
       "race_black                                               29269   \n",
       "race_hispanic                                              446   \n",
       "race_unknown                                               420   \n",
       "race_white                                                6000   \n",
       "race_white [hispanic or latino]                           6751   \n",
       "race_white/black [hispanic or latino]                      241   \n",
       "\n",
       "                                       Predicted Prevalence  Accuracy     FNR  \\\n",
       "Overall                                              0.2384    0.7651  0.2077   \n",
       "race_american indian                                 0.7143    0.2857     NaN   \n",
       "race_asian                                           0.3214    0.6920  0.0000   \n",
       "race_biracial                                        0.2000    0.8000     NaN   \n",
       "race_black                                           0.2143    0.7889  0.2262   \n",
       "race_hispanic                                        0.1076    0.8946  0.0000   \n",
       "race_unknown                                         0.1810    0.8190     NaN   \n",
       "race_white                                           0.4070    0.6005  0.1053   \n",
       "race_white [hispanic or latino]                      0.2023    0.7990  0.3448   \n",
       "race_white/black [hispanic or latino]                0.2282    0.7801  0.0000   \n",
       "\n",
       "                                          FPR  Recall     AUC  \n",
       "Overall                                0.2350  0.7923  0.8411  \n",
       "race_american indian                   0.7143     NaN     NaN  \n",
       "race_asian                             0.3122  1.0000  0.8612  \n",
       "race_biracial                          0.2000     NaN     NaN  \n",
       "race_black                             0.2111  0.7738  0.8407  \n",
       "race_hispanic                          0.1056  1.0000  0.9933  \n",
       "race_unknown                           0.1810     NaN     NaN  \n",
       "race_white                             0.4023  0.8947  0.8423  \n",
       "race_white [hispanic or latino]        0.2004  0.6552  0.7919  \n",
       "race_white/black [hispanic or latino]  0.2218  1.0000  1.0000  "
      ]
     },
     "metadata": {},
     "output_type": "display_data"
    },
    {
     "name": "stdout",
     "output_type": "stream",
     "text": [
      "\n",
      "\n"
     ]
    },
    {
     "data": {
      "image/png": "[encoded data removed]",
      "text/plain": [
       "<Figure size 864x432 with 1 Axes>"
      ]
     },
     "metadata": {
      "needs_background": "light"
     },
     "output_type": "display_data"
    }
   ],
   "source": [
    "race_stats = subgroup_stats('race')\n",
    "plot_stats(race_stats)"
   ]
  },
  {
   "cell_type": "code",
   "execution_count": 8,
   "metadata": {},
   "outputs": [
    {
     "data": {
      "text/html": [
       "<div>\n",
       "<style scoped>\n",
       "    .dataframe tbody tr th:only-of-type {\n",
       "        vertical-align: middle;\n",
       "    }\n",
       "\n",
       "    .dataframe tbody tr th {\n",
       "        vertical-align: top;\n",
       "    }\n",
       "\n",
       "    .dataframe thead th {\n",
       "        text-align: right;\n",
       "    }\n",
       "</style>\n",
       "<table border=\"1\" class=\"dataframe\">\n",
       "  <thead>\n",
       "    <tr style=\"text-align: right;\">\n",
       "      <th></th>\n",
       "      <th>Test Set Group Size (N)</th>\n",
       "      <th>Predicted Prevalence</th>\n",
       "      <th>Accuracy</th>\n",
       "      <th>FNR</th>\n",
       "      <th>FPR</th>\n",
       "      <th>Recall</th>\n",
       "      <th>AUC</th>\n",
       "    </tr>\n",
       "  </thead>\n",
       "  <tbody>\n",
       "    <tr>\n",
       "      <th>Overall</th>\n",
       "      <td>43363</td>\n",
       "      <td>0.2384</td>\n",
       "      <td>0.7651</td>\n",
       "      <td>0.2077</td>\n",
       "      <td>0.235</td>\n",
       "      <td>0.7923</td>\n",
       "      <td>0.8411</td>\n",
       "    </tr>\n",
       "  </tbody>\n",
       "</table>\n",
       "</div>"
      ],
      "text/plain": [
       "         Test Set Group Size (N)  Predicted Prevalence  Accuracy     FNR  \\\n",
       "Overall                    43363                0.2384    0.7651  0.2077   \n",
       "\n",
       "           FPR  Recall     AUC  \n",
       "Overall  0.235  0.7923  0.8411  "
      ]
     },
     "metadata": {},
     "output_type": "display_data"
    },
    {
     "data": {
      "image/png": "[encoded data removed]",
      "text/plain": [
       "<Figure size 432x288 with 2 Axes>"
      ]
     },
     "metadata": {
      "needs_background": "light"
     },
     "output_type": "display_data"
    },
    {
     "name": "stdout",
     "output_type": "stream",
     "text": [
      "\n",
      "\n",
      "race_albino \n",
      "\t No members of this subgroup present in the test set. \n",
      "\n"
     ]
    },
    {
     "data": {
      "text/html": [
       "<div>\n",
       "<style scoped>\n",
       "    .dataframe tbody tr th:only-of-type {\n",
       "        vertical-align: middle;\n",
       "    }\n",
       "\n",
       "    .dataframe tbody tr th {\n",
       "        vertical-align: top;\n",
       "    }\n",
       "\n",
       "    .dataframe thead th {\n",
       "        text-align: right;\n",
       "    }\n",
       "</style>\n",
       "<table border=\"1\" class=\"dataframe\">\n",
       "  <thead>\n",
       "    <tr style=\"text-align: right;\">\n",
       "      <th></th>\n",
       "      <th>Test Set Group Size (N)</th>\n",
       "      <th>Predicted Prevalence</th>\n",
       "      <th>Accuracy</th>\n",
       "      <th>FNR</th>\n",
       "      <th>FPR</th>\n",
       "      <th>Recall</th>\n",
       "      <th>AUC</th>\n",
       "    </tr>\n",
       "  </thead>\n",
       "  <tbody>\n",
       "    <tr>\n",
       "      <th>race_american indian and gender_female</th>\n",
       "      <td>3</td>\n",
       "      <td>1.0</td>\n",
       "      <td>0.0</td>\n",
       "      <td>NaN</td>\n",
       "      <td>1.0</td>\n",
       "      <td>NaN</td>\n",
       "      <td>NaN</td>\n",
       "    </tr>\n",
       "  </tbody>\n",
       "</table>\n",
       "</div>"
      ],
      "text/plain": [
       "                                        Test Set Group Size (N)  \\\n",
       "race_american indian and gender_female                        3   \n",
       "\n",
       "                                        Predicted Prevalence  Accuracy  FNR  \\\n",
       "race_american indian and gender_female                   1.0       0.0  NaN   \n",
       "\n",
       "                                        FPR  Recall  AUC  \n",
       "race_american indian and gender_female  1.0     NaN  NaN  "
      ]
     },
     "metadata": {},
     "output_type": "display_data"
    },
    {
     "data": {
      "image/png": "[encoded data removed]",
      "text/plain": [
       "<Figure size 432x288 with 2 Axes>"
      ]
     },
     "metadata": {
      "needs_background": "light"
     },
     "output_type": "display_data"
    },
    {
     "name": "stdout",
     "output_type": "stream",
     "text": [
      "\n",
      "\n"
     ]
    },
    {
     "data": {
      "text/html": [
       "<div>\n",
       "<style scoped>\n",
       "    .dataframe tbody tr th:only-of-type {\n",
       "        vertical-align: middle;\n",
       "    }\n",
       "\n",
       "    .dataframe tbody tr th {\n",
       "        vertical-align: top;\n",
       "    }\n",
       "\n",
       "    .dataframe thead th {\n",
       "        text-align: right;\n",
       "    }\n",
       "</style>\n",
       "<table border=\"1\" class=\"dataframe\">\n",
       "  <thead>\n",
       "    <tr style=\"text-align: right;\">\n",
       "      <th></th>\n",
       "      <th>Test Set Group Size (N)</th>\n",
       "      <th>Predicted Prevalence</th>\n",
       "      <th>Accuracy</th>\n",
       "      <th>FNR</th>\n",
       "      <th>FPR</th>\n",
       "      <th>Recall</th>\n",
       "      <th>AUC</th>\n",
       "    </tr>\n",
       "  </thead>\n",
       "  <tbody>\n",
       "    <tr>\n",
       "      <th>race_american indian and gender_male</th>\n",
       "      <td>4</td>\n",
       "      <td>0.5</td>\n",
       "      <td>0.5</td>\n",
       "      <td>NaN</td>\n",
       "      <td>0.5</td>\n",
       "      <td>NaN</td>\n",
       "      <td>NaN</td>\n",
       "    </tr>\n",
       "  </tbody>\n",
       "</table>\n",
       "</div>"
      ],
      "text/plain": [
       "                                      Test Set Group Size (N)  \\\n",
       "race_american indian and gender_male                        4   \n",
       "\n",
       "                                      Predicted Prevalence  Accuracy  FNR  \\\n",
       "race_american indian and gender_male                   0.5       0.5  NaN   \n",
       "\n",
       "                                      FPR  Recall  AUC  \n",
       "race_american indian and gender_male  0.5     NaN  NaN  "
      ]
     },
     "metadata": {},
     "output_type": "display_data"
    },
    {
     "data": {
      "image/png": "[encoded data removed]",
      "text/plain": [
       "<Figure size 432x288 with 2 Axes>"
      ]
     },
     "metadata": {
      "needs_background": "light"
     },
     "output_type": "display_data"
    },
    {
     "name": "stdout",
     "output_type": "stream",
     "text": [
      "\n",
      "\n",
      "race_american indian and gender_unknown \n",
      "\t No members of this subgroup present in the test set. \n",
      "\n"
     ]
    },
    {
     "data": {
      "text/html": [
       "<div>\n",
       "<style scoped>\n",
       "    .dataframe tbody tr th:only-of-type {\n",
       "        vertical-align: middle;\n",
       "    }\n",
       "\n",
       "    .dataframe tbody tr th {\n",
       "        vertical-align: top;\n",
       "    }\n",
       "\n",
       "    .dataframe thead th {\n",
       "        text-align: right;\n",
       "    }\n",
       "</style>\n",
       "<table border=\"1\" class=\"dataframe\">\n",
       "  <thead>\n",
       "    <tr style=\"text-align: right;\">\n",
       "      <th></th>\n",
       "      <th>Test Set Group Size (N)</th>\n",
       "      <th>Predicted Prevalence</th>\n",
       "      <th>Accuracy</th>\n",
       "      <th>FNR</th>\n",
       "      <th>FPR</th>\n",
       "      <th>Recall</th>\n",
       "      <th>AUC</th>\n",
       "    </tr>\n",
       "  </thead>\n",
       "  <tbody>\n",
       "    <tr>\n",
       "      <th>race_asian and gender_female</th>\n",
       "      <td>39</td>\n",
       "      <td>0.6923</td>\n",
       "      <td>0.3333</td>\n",
       "      <td>0.0</td>\n",
       "      <td>0.6842</td>\n",
       "      <td>1.0</td>\n",
       "      <td>0.9474</td>\n",
       "    </tr>\n",
       "  </tbody>\n",
       "</table>\n",
       "</div>"
      ],
      "text/plain": [
       "                              Test Set Group Size (N)  Predicted Prevalence  \\\n",
       "race_asian and gender_female                       39                0.6923   \n",
       "\n",
       "                              Accuracy  FNR     FPR  Recall     AUC  \n",
       "race_asian and gender_female    0.3333  0.0  0.6842     1.0  0.9474  "
      ]
     },
     "metadata": {},
     "output_type": "display_data"
    },
    {
     "data": {
      "image/png": "[encoded data removed]",
      "text/plain": [
       "<Figure size 432x288 with 2 Axes>"
      ]
     },
     "metadata": {
      "needs_background": "light"
     },
     "output_type": "display_data"
    },
    {
     "name": "stdout",
     "output_type": "stream",
     "text": [
      "\n",
      "\n"
     ]
    },
    {
     "data": {
      "text/html": [
       "<div>\n",
       "<style scoped>\n",
       "    .dataframe tbody tr th:only-of-type {\n",
       "        vertical-align: middle;\n",
       "    }\n",
       "\n",
       "    .dataframe tbody tr th {\n",
       "        vertical-align: top;\n",
       "    }\n",
       "\n",
       "    .dataframe thead th {\n",
       "        text-align: right;\n",
       "    }\n",
       "</style>\n",
       "<table border=\"1\" class=\"dataframe\">\n",
       "  <thead>\n",
       "    <tr style=\"text-align: right;\">\n",
       "      <th></th>\n",
       "      <th>Test Set Group Size (N)</th>\n",
       "      <th>Predicted Prevalence</th>\n",
       "      <th>Accuracy</th>\n",
       "      <th>FNR</th>\n",
       "      <th>FPR</th>\n",
       "      <th>Recall</th>\n",
       "      <th>AUC</th>\n",
       "    </tr>\n",
       "  </thead>\n",
       "  <tbody>\n",
       "    <tr>\n",
       "      <th>race_asian and gender_male</th>\n",
       "      <td>185</td>\n",
       "      <td>0.2432</td>\n",
       "      <td>0.7676</td>\n",
       "      <td>0.0</td>\n",
       "      <td>0.235</td>\n",
       "      <td>1.0</td>\n",
       "      <td>0.8634</td>\n",
       "    </tr>\n",
       "  </tbody>\n",
       "</table>\n",
       "</div>"
      ],
      "text/plain": [
       "                            Test Set Group Size (N)  Predicted Prevalence  \\\n",
       "race_asian and gender_male                      185                0.2432   \n",
       "\n",
       "                            Accuracy  FNR    FPR  Recall     AUC  \n",
       "race_asian and gender_male    0.7676  0.0  0.235     1.0  0.8634  "
      ]
     },
     "metadata": {},
     "output_type": "display_data"
    },
    {
     "data": {
      "image/png": "[encoded data removed]",
      "text/plain": [
       "<Figure size 432x288 with 2 Axes>"
      ]
     },
     "metadata": {
      "needs_background": "light"
     },
     "output_type": "display_data"
    },
    {
     "name": "stdout",
     "output_type": "stream",
     "text": [
      "\n",
      "\n",
      "race_asian and gender_unknown \n",
      "\t No members of this subgroup present in the test set. \n",
      "\n",
      "race_biracial and gender_female \n",
      "\t No members of this subgroup present in the test set. \n",
      "\n"
     ]
    },
    {
     "data": {
      "text/html": [
       "<div>\n",
       "<style scoped>\n",
       "    .dataframe tbody tr th:only-of-type {\n",
       "        vertical-align: middle;\n",
       "    }\n",
       "\n",
       "    .dataframe tbody tr th {\n",
       "        vertical-align: top;\n",
       "    }\n",
       "\n",
       "    .dataframe thead th {\n",
       "        text-align: right;\n",
       "    }\n",
       "</style>\n",
       "<table border=\"1\" class=\"dataframe\">\n",
       "  <thead>\n",
       "    <tr style=\"text-align: right;\">\n",
       "      <th></th>\n",
       "      <th>Test Set Group Size (N)</th>\n",
       "      <th>Predicted Prevalence</th>\n",
       "      <th>Accuracy</th>\n",
       "      <th>FNR</th>\n",
       "      <th>FPR</th>\n",
       "      <th>Recall</th>\n",
       "      <th>AUC</th>\n",
       "    </tr>\n",
       "  </thead>\n",
       "  <tbody>\n",
       "    <tr>\n",
       "      <th>race_biracial and gender_male</th>\n",
       "      <td>5</td>\n",
       "      <td>0.2</td>\n",
       "      <td>0.8</td>\n",
       "      <td>NaN</td>\n",
       "      <td>0.2</td>\n",
       "      <td>NaN</td>\n",
       "      <td>NaN</td>\n",
       "    </tr>\n",
       "  </tbody>\n",
       "</table>\n",
       "</div>"
      ],
      "text/plain": [
       "                               Test Set Group Size (N)  Predicted Prevalence  \\\n",
       "race_biracial and gender_male                        5                   0.2   \n",
       "\n",
       "                               Accuracy  FNR  FPR  Recall  AUC  \n",
       "race_biracial and gender_male       0.8  NaN  0.2     NaN  NaN  "
      ]
     },
     "metadata": {},
     "output_type": "display_data"
    },
    {
     "data": {
      "image/png": "[encoded data removed]",
      "text/plain": [
       "<Figure size 432x288 with 2 Axes>"
      ]
     },
     "metadata": {
      "needs_background": "light"
     },
     "output_type": "display_data"
    },
    {
     "name": "stdout",
     "output_type": "stream",
     "text": [
      "\n",
      "\n",
      "race_biracial and gender_unknown \n",
      "\t No members of this subgroup present in the test set. \n",
      "\n"
     ]
    },
    {
     "data": {
      "text/html": [
       "<div>\n",
       "<style scoped>\n",
       "    .dataframe tbody tr th:only-of-type {\n",
       "        vertical-align: middle;\n",
       "    }\n",
       "\n",
       "    .dataframe tbody tr th {\n",
       "        vertical-align: top;\n",
       "    }\n",
       "\n",
       "    .dataframe thead th {\n",
       "        text-align: right;\n",
       "    }\n",
       "</style>\n",
       "<table border=\"1\" class=\"dataframe\">\n",
       "  <thead>\n",
       "    <tr style=\"text-align: right;\">\n",
       "      <th></th>\n",
       "      <th>Test Set Group Size (N)</th>\n",
       "      <th>Predicted Prevalence</th>\n",
       "      <th>Accuracy</th>\n",
       "      <th>FNR</th>\n",
       "      <th>FPR</th>\n",
       "      <th>Recall</th>\n",
       "      <th>AUC</th>\n",
       "    </tr>\n",
       "  </thead>\n",
       "  <tbody>\n",
       "    <tr>\n",
       "      <th>race_black and gender_female</th>\n",
       "      <td>3424</td>\n",
       "      <td>0.6133</td>\n",
       "      <td>0.3992</td>\n",
       "      <td>0.0426</td>\n",
       "      <td>0.6085</td>\n",
       "      <td>0.9574</td>\n",
       "      <td>0.8187</td>\n",
       "    </tr>\n",
       "  </tbody>\n",
       "</table>\n",
       "</div>"
      ],
      "text/plain": [
       "                              Test Set Group Size (N)  Predicted Prevalence  \\\n",
       "race_black and gender_female                     3424                0.6133   \n",
       "\n",
       "                              Accuracy     FNR     FPR  Recall     AUC  \n",
       "race_black and gender_female    0.3992  0.0426  0.6085  0.9574  0.8187  "
      ]
     },
     "metadata": {},
     "output_type": "display_data"
    },
    {
     "data": {
      "image/png": "[encoded data removed]",
      "text/plain": [
       "<Figure size 432x288 with 2 Axes>"
      ]
     },
     "metadata": {
      "needs_background": "light"
     },
     "output_type": "display_data"
    },
    {
     "name": "stdout",
     "output_type": "stream",
     "text": [
      "\n",
      "\n"
     ]
    },
    {
     "data": {
      "text/html": [
       "<div>\n",
       "<style scoped>\n",
       "    .dataframe tbody tr th:only-of-type {\n",
       "        vertical-align: middle;\n",
       "    }\n",
       "\n",
       "    .dataframe tbody tr th {\n",
       "        vertical-align: top;\n",
       "    }\n",
       "\n",
       "    .dataframe thead th {\n",
       "        text-align: right;\n",
       "    }\n",
       "</style>\n",
       "<table border=\"1\" class=\"dataframe\">\n",
       "  <thead>\n",
       "    <tr style=\"text-align: right;\">\n",
       "      <th></th>\n",
       "      <th>Test Set Group Size (N)</th>\n",
       "      <th>Predicted Prevalence</th>\n",
       "      <th>Accuracy</th>\n",
       "      <th>FNR</th>\n",
       "      <th>FPR</th>\n",
       "      <th>Recall</th>\n",
       "      <th>AUC</th>\n",
       "    </tr>\n",
       "  </thead>\n",
       "  <tbody>\n",
       "    <tr>\n",
       "      <th>race_black and gender_male</th>\n",
       "      <td>25824</td>\n",
       "      <td>0.1616</td>\n",
       "      <td>0.8403</td>\n",
       "      <td>0.2975</td>\n",
       "      <td>0.159</td>\n",
       "      <td>0.7025</td>\n",
       "      <td>0.8359</td>\n",
       "    </tr>\n",
       "  </tbody>\n",
       "</table>\n",
       "</div>"
      ],
      "text/plain": [
       "                            Test Set Group Size (N)  Predicted Prevalence  \\\n",
       "race_black and gender_male                    25824                0.1616   \n",
       "\n",
       "                            Accuracy     FNR    FPR  Recall     AUC  \n",
       "race_black and gender_male    0.8403  0.2975  0.159  0.7025  0.8359  "
      ]
     },
     "metadata": {},
     "output_type": "display_data"
    },
    {
     "data": {
      "image/png": "[encoded data removed]",
      "text/plain": [
       "<Figure size 432x288 with 2 Axes>"
      ]
     },
     "metadata": {
      "needs_background": "light"
     },
     "output_type": "display_data"
    },
    {
     "name": "stdout",
     "output_type": "stream",
     "text": [
      "\n",
      "\n"
     ]
    },
    {
     "data": {
      "text/html": [
       "<div>\n",
       "<style scoped>\n",
       "    .dataframe tbody tr th:only-of-type {\n",
       "        vertical-align: middle;\n",
       "    }\n",
       "\n",
       "    .dataframe tbody tr th {\n",
       "        vertical-align: top;\n",
       "    }\n",
       "\n",
       "    .dataframe thead th {\n",
       "        text-align: right;\n",
       "    }\n",
       "</style>\n",
       "<table border=\"1\" class=\"dataframe\">\n",
       "  <thead>\n",
       "    <tr style=\"text-align: right;\">\n",
       "      <th></th>\n",
       "      <th>Test Set Group Size (N)</th>\n",
       "      <th>Predicted Prevalence</th>\n",
       "      <th>Accuracy</th>\n",
       "      <th>FNR</th>\n",
       "      <th>FPR</th>\n",
       "      <th>Recall</th>\n",
       "      <th>AUC</th>\n",
       "    </tr>\n",
       "  </thead>\n",
       "  <tbody>\n",
       "    <tr>\n",
       "      <th>race_black and gender_unknown</th>\n",
       "      <td>21</td>\n",
       "      <td>0.0</td>\n",
       "      <td>1.0</td>\n",
       "      <td>NaN</td>\n",
       "      <td>0.0</td>\n",
       "      <td>NaN</td>\n",
       "      <td>NaN</td>\n",
       "    </tr>\n",
       "  </tbody>\n",
       "</table>\n",
       "</div>"
      ],
      "text/plain": [
       "                               Test Set Group Size (N)  Predicted Prevalence  \\\n",
       "race_black and gender_unknown                       21                   0.0   \n",
       "\n",
       "                               Accuracy  FNR  FPR  Recall  AUC  \n",
       "race_black and gender_unknown       1.0  NaN  0.0     NaN  NaN  "
      ]
     },
     "metadata": {},
     "output_type": "display_data"
    },
    {
     "data": {
      "image/png": "[encoded data removed]",
      "text/plain": [
       "<Figure size 432x288 with 2 Axes>"
      ]
     },
     "metadata": {
      "needs_background": "light"
     },
     "output_type": "display_data"
    },
    {
     "name": "stdout",
     "output_type": "stream",
     "text": [
      "\n",
      "\n"
     ]
    },
    {
     "data": {
      "text/html": [
       "<div>\n",
       "<style scoped>\n",
       "    .dataframe tbody tr th:only-of-type {\n",
       "        vertical-align: middle;\n",
       "    }\n",
       "\n",
       "    .dataframe tbody tr th {\n",
       "        vertical-align: top;\n",
       "    }\n",
       "\n",
       "    .dataframe thead th {\n",
       "        text-align: right;\n",
       "    }\n",
       "</style>\n",
       "<table border=\"1\" class=\"dataframe\">\n",
       "  <thead>\n",
       "    <tr style=\"text-align: right;\">\n",
       "      <th></th>\n",
       "      <th>Test Set Group Size (N)</th>\n",
       "      <th>Predicted Prevalence</th>\n",
       "      <th>Accuracy</th>\n",
       "      <th>FNR</th>\n",
       "      <th>FPR</th>\n",
       "      <th>Recall</th>\n",
       "      <th>AUC</th>\n",
       "    </tr>\n",
       "  </thead>\n",
       "  <tbody>\n",
       "    <tr>\n",
       "      <th>race_hispanic and gender_female</th>\n",
       "      <td>45</td>\n",
       "      <td>0.4889</td>\n",
       "      <td>0.5333</td>\n",
       "      <td>0.0</td>\n",
       "      <td>0.4773</td>\n",
       "      <td>1.0</td>\n",
       "      <td>0.9318</td>\n",
       "    </tr>\n",
       "  </tbody>\n",
       "</table>\n",
       "</div>"
      ],
      "text/plain": [
       "                                 Test Set Group Size (N)  \\\n",
       "race_hispanic and gender_female                       45   \n",
       "\n",
       "                                 Predicted Prevalence  Accuracy  FNR     FPR  \\\n",
       "race_hispanic and gender_female                0.4889    0.5333  0.0  0.4773   \n",
       "\n",
       "                                 Recall     AUC  \n",
       "race_hispanic and gender_female     1.0  0.9318  "
      ]
     },
     "metadata": {},
     "output_type": "display_data"
    },
    {
     "data": {
      "image/png": "[encoded data removed]",
      "text/plain": [
       "<Figure size 432x288 with 2 Axes>"
      ]
     },
     "metadata": {
      "needs_background": "light"
     },
     "output_type": "display_data"
    },
    {
     "name": "stdout",
     "output_type": "stream",
     "text": [
      "\n",
      "\n"
     ]
    },
    {
     "data": {
      "text/html": [
       "<div>\n",
       "<style scoped>\n",
       "    .dataframe tbody tr th:only-of-type {\n",
       "        vertical-align: middle;\n",
       "    }\n",
       "\n",
       "    .dataframe tbody tr th {\n",
       "        vertical-align: top;\n",
       "    }\n",
       "\n",
       "    .dataframe thead th {\n",
       "        text-align: right;\n",
       "    }\n",
       "</style>\n",
       "<table border=\"1\" class=\"dataframe\">\n",
       "  <thead>\n",
       "    <tr style=\"text-align: right;\">\n",
       "      <th></th>\n",
       "      <th>Test Set Group Size (N)</th>\n",
       "      <th>Predicted Prevalence</th>\n",
       "      <th>Accuracy</th>\n",
       "      <th>FNR</th>\n",
       "      <th>FPR</th>\n",
       "      <th>Recall</th>\n",
       "      <th>AUC</th>\n",
       "    </tr>\n",
       "  </thead>\n",
       "  <tbody>\n",
       "    <tr>\n",
       "      <th>race_hispanic and gender_male</th>\n",
       "      <td>401</td>\n",
       "      <td>0.0648</td>\n",
       "      <td>0.9352</td>\n",
       "      <td>NaN</td>\n",
       "      <td>0.0648</td>\n",
       "      <td>NaN</td>\n",
       "      <td>NaN</td>\n",
       "    </tr>\n",
       "  </tbody>\n",
       "</table>\n",
       "</div>"
      ],
      "text/plain": [
       "                               Test Set Group Size (N)  Predicted Prevalence  \\\n",
       "race_hispanic and gender_male                      401                0.0648   \n",
       "\n",
       "                               Accuracy  FNR     FPR  Recall  AUC  \n",
       "race_hispanic and gender_male    0.9352  NaN  0.0648     NaN  NaN  "
      ]
     },
     "metadata": {},
     "output_type": "display_data"
    },
    {
     "data": {
      "image/png": "[encoded data removed]",
      "text/plain": [
       "<Figure size 432x288 with 2 Axes>"
      ]
     },
     "metadata": {
      "needs_background": "light"
     },
     "output_type": "display_data"
    },
    {
     "name": "stdout",
     "output_type": "stream",
     "text": [
      "\n",
      "\n",
      "race_hispanic and gender_unknown \n",
      "\t No members of this subgroup present in the test set. \n",
      "\n"
     ]
    },
    {
     "data": {
      "text/html": [
       "<div>\n",
       "<style scoped>\n",
       "    .dataframe tbody tr th:only-of-type {\n",
       "        vertical-align: middle;\n",
       "    }\n",
       "\n",
       "    .dataframe tbody tr th {\n",
       "        vertical-align: top;\n",
       "    }\n",
       "\n",
       "    .dataframe thead th {\n",
       "        text-align: right;\n",
       "    }\n",
       "</style>\n",
       "<table border=\"1\" class=\"dataframe\">\n",
       "  <thead>\n",
       "    <tr style=\"text-align: right;\">\n",
       "      <th></th>\n",
       "      <th>Test Set Group Size (N)</th>\n",
       "      <th>Predicted Prevalence</th>\n",
       "      <th>Accuracy</th>\n",
       "      <th>FNR</th>\n",
       "      <th>FPR</th>\n",
       "      <th>Recall</th>\n",
       "      <th>AUC</th>\n",
       "    </tr>\n",
       "  </thead>\n",
       "  <tbody>\n",
       "    <tr>\n",
       "      <th>race_unknown and gender_female</th>\n",
       "      <td>34</td>\n",
       "      <td>0.5294</td>\n",
       "      <td>0.4706</td>\n",
       "      <td>NaN</td>\n",
       "      <td>0.5294</td>\n",
       "      <td>NaN</td>\n",
       "      <td>NaN</td>\n",
       "    </tr>\n",
       "  </tbody>\n",
       "</table>\n",
       "</div>"
      ],
      "text/plain": [
       "                                Test Set Group Size (N)  Predicted Prevalence  \\\n",
       "race_unknown and gender_female                       34                0.5294   \n",
       "\n",
       "                                Accuracy  FNR     FPR  Recall  AUC  \n",
       "race_unknown and gender_female    0.4706  NaN  0.5294     NaN  NaN  "
      ]
     },
     "metadata": {},
     "output_type": "display_data"
    },
    {
     "data": {
      "image/png": "[encoded data removed]",
      "text/plain": [
       "<Figure size 432x288 with 2 Axes>"
      ]
     },
     "metadata": {
      "needs_background": "light"
     },
     "output_type": "display_data"
    },
    {
     "name": "stdout",
     "output_type": "stream",
     "text": [
      "\n",
      "\n"
     ]
    },
    {
     "data": {
      "text/html": [
       "<div>\n",
       "<style scoped>\n",
       "    .dataframe tbody tr th:only-of-type {\n",
       "        vertical-align: middle;\n",
       "    }\n",
       "\n",
       "    .dataframe tbody tr th {\n",
       "        vertical-align: top;\n",
       "    }\n",
       "\n",
       "    .dataframe thead th {\n",
       "        text-align: right;\n",
       "    }\n",
       "</style>\n",
       "<table border=\"1\" class=\"dataframe\">\n",
       "  <thead>\n",
       "    <tr style=\"text-align: right;\">\n",
       "      <th></th>\n",
       "      <th>Test Set Group Size (N)</th>\n",
       "      <th>Predicted Prevalence</th>\n",
       "      <th>Accuracy</th>\n",
       "      <th>FNR</th>\n",
       "      <th>FPR</th>\n",
       "      <th>Recall</th>\n",
       "      <th>AUC</th>\n",
       "    </tr>\n",
       "  </thead>\n",
       "  <tbody>\n",
       "    <tr>\n",
       "      <th>race_unknown and gender_male</th>\n",
       "      <td>178</td>\n",
       "      <td>0.1236</td>\n",
       "      <td>0.8764</td>\n",
       "      <td>NaN</td>\n",
       "      <td>0.1236</td>\n",
       "      <td>NaN</td>\n",
       "      <td>NaN</td>\n",
       "    </tr>\n",
       "  </tbody>\n",
       "</table>\n",
       "</div>"
      ],
      "text/plain": [
       "                              Test Set Group Size (N)  Predicted Prevalence  \\\n",
       "race_unknown and gender_male                      178                0.1236   \n",
       "\n",
       "                              Accuracy  FNR     FPR  Recall  AUC  \n",
       "race_unknown and gender_male    0.8764  NaN  0.1236     NaN  NaN  "
      ]
     },
     "metadata": {},
     "output_type": "display_data"
    },
    {
     "data": {
      "image/png": "[encoded data removed]",
      "text/plain": [
       "<Figure size 432x288 with 2 Axes>"
      ]
     },
     "metadata": {
      "needs_background": "light"
     },
     "output_type": "display_data"
    },
    {
     "name": "stdout",
     "output_type": "stream",
     "text": [
      "\n",
      "\n"
     ]
    },
    {
     "data": {
      "text/html": [
       "<div>\n",
       "<style scoped>\n",
       "    .dataframe tbody tr th:only-of-type {\n",
       "        vertical-align: middle;\n",
       "    }\n",
       "\n",
       "    .dataframe tbody tr th {\n",
       "        vertical-align: top;\n",
       "    }\n",
       "\n",
       "    .dataframe thead th {\n",
       "        text-align: right;\n",
       "    }\n",
       "</style>\n",
       "<table border=\"1\" class=\"dataframe\">\n",
       "  <thead>\n",
       "    <tr style=\"text-align: right;\">\n",
       "      <th></th>\n",
       "      <th>Test Set Group Size (N)</th>\n",
       "      <th>Predicted Prevalence</th>\n",
       "      <th>Accuracy</th>\n",
       "      <th>FNR</th>\n",
       "      <th>FPR</th>\n",
       "      <th>Recall</th>\n",
       "      <th>AUC</th>\n",
       "    </tr>\n",
       "  </thead>\n",
       "  <tbody>\n",
       "    <tr>\n",
       "      <th>race_unknown and gender_unknown</th>\n",
       "      <td>208</td>\n",
       "      <td>0.1731</td>\n",
       "      <td>0.8269</td>\n",
       "      <td>NaN</td>\n",
       "      <td>0.1731</td>\n",
       "      <td>NaN</td>\n",
       "      <td>NaN</td>\n",
       "    </tr>\n",
       "  </tbody>\n",
       "</table>\n",
       "</div>"
      ],
      "text/plain": [
       "                                 Test Set Group Size (N)  \\\n",
       "race_unknown and gender_unknown                      208   \n",
       "\n",
       "                                 Predicted Prevalence  Accuracy  FNR     FPR  \\\n",
       "race_unknown and gender_unknown                0.1731    0.8269  NaN  0.1731   \n",
       "\n",
       "                                 Recall  AUC  \n",
       "race_unknown and gender_unknown     NaN  NaN  "
      ]
     },
     "metadata": {},
     "output_type": "display_data"
    },
    {
     "data": {
      "image/png": "[encoded data removed]",
      "text/plain": [
       "<Figure size 432x288 with 2 Axes>"
      ]
     },
     "metadata": {
      "needs_background": "light"
     },
     "output_type": "display_data"
    },
    {
     "name": "stdout",
     "output_type": "stream",
     "text": [
      "\n",
      "\n"
     ]
    },
    {
     "data": {
      "text/html": [
       "<div>\n",
       "<style scoped>\n",
       "    .dataframe tbody tr th:only-of-type {\n",
       "        vertical-align: middle;\n",
       "    }\n",
       "\n",
       "    .dataframe tbody tr th {\n",
       "        vertical-align: top;\n",
       "    }\n",
       "\n",
       "    .dataframe thead th {\n",
       "        text-align: right;\n",
       "    }\n",
       "</style>\n",
       "<table border=\"1\" class=\"dataframe\">\n",
       "  <thead>\n",
       "    <tr style=\"text-align: right;\">\n",
       "      <th></th>\n",
       "      <th>Test Set Group Size (N)</th>\n",
       "      <th>Predicted Prevalence</th>\n",
       "      <th>Accuracy</th>\n",
       "      <th>FNR</th>\n",
       "      <th>FPR</th>\n",
       "      <th>Recall</th>\n",
       "      <th>AUC</th>\n",
       "    </tr>\n",
       "  </thead>\n",
       "  <tbody>\n",
       "    <tr>\n",
       "      <th>race_white and gender_female</th>\n",
       "      <td>1345</td>\n",
       "      <td>0.6431</td>\n",
       "      <td>0.3651</td>\n",
       "      <td>0.0769</td>\n",
       "      <td>0.6404</td>\n",
       "      <td>0.9231</td>\n",
       "      <td>0.8544</td>\n",
       "    </tr>\n",
       "  </tbody>\n",
       "</table>\n",
       "</div>"
      ],
      "text/plain": [
       "                              Test Set Group Size (N)  Predicted Prevalence  \\\n",
       "race_white and gender_female                     1345                0.6431   \n",
       "\n",
       "                              Accuracy     FNR     FPR  Recall     AUC  \n",
       "race_white and gender_female    0.3651  0.0769  0.6404  0.9231  0.8544  "
      ]
     },
     "metadata": {},
     "output_type": "display_data"
    },
    {
     "data": {
      "image/png": "[encoded data removed]",
      "text/plain": [
       "<Figure size 432x288 with 2 Axes>"
      ]
     },
     "metadata": {
      "needs_background": "light"
     },
     "output_type": "display_data"
    },
    {
     "name": "stdout",
     "output_type": "stream",
     "text": [
      "\n",
      "\n"
     ]
    },
    {
     "data": {
      "text/html": [
       "<div>\n",
       "<style scoped>\n",
       "    .dataframe tbody tr th:only-of-type {\n",
       "        vertical-align: middle;\n",
       "    }\n",
       "\n",
       "    .dataframe tbody tr th {\n",
       "        vertical-align: top;\n",
       "    }\n",
       "\n",
       "    .dataframe thead th {\n",
       "        text-align: right;\n",
       "    }\n",
       "</style>\n",
       "<table border=\"1\" class=\"dataframe\">\n",
       "  <thead>\n",
       "    <tr style=\"text-align: right;\">\n",
       "      <th></th>\n",
       "      <th>Test Set Group Size (N)</th>\n",
       "      <th>Predicted Prevalence</th>\n",
       "      <th>Accuracy</th>\n",
       "      <th>FNR</th>\n",
       "      <th>FPR</th>\n",
       "      <th>Recall</th>\n",
       "      <th>AUC</th>\n",
       "    </tr>\n",
       "  </thead>\n",
       "  <tbody>\n",
       "    <tr>\n",
       "      <th>race_white and gender_male</th>\n",
       "      <td>4653</td>\n",
       "      <td>0.3389</td>\n",
       "      <td>0.6684</td>\n",
       "      <td>0.1136</td>\n",
       "      <td>0.3337</td>\n",
       "      <td>0.8864</td>\n",
       "      <td>0.855</td>\n",
       "    </tr>\n",
       "  </tbody>\n",
       "</table>\n",
       "</div>"
      ],
      "text/plain": [
       "                            Test Set Group Size (N)  Predicted Prevalence  \\\n",
       "race_white and gender_male                     4653                0.3389   \n",
       "\n",
       "                            Accuracy     FNR     FPR  Recall    AUC  \n",
       "race_white and gender_male    0.6684  0.1136  0.3337  0.8864  0.855  "
      ]
     },
     "metadata": {},
     "output_type": "display_data"
    },
    {
     "data": {
      "image/png": "[encoded data removed]",
      "text/plain": [
       "<Figure size 432x288 with 2 Axes>"
      ]
     },
     "metadata": {
      "needs_background": "light"
     },
     "output_type": "display_data"
    },
    {
     "name": "stdout",
     "output_type": "stream",
     "text": [
      "\n",
      "\n"
     ]
    },
    {
     "data": {
      "text/html": [
       "<div>\n",
       "<style scoped>\n",
       "    .dataframe tbody tr th:only-of-type {\n",
       "        vertical-align: middle;\n",
       "    }\n",
       "\n",
       "    .dataframe tbody tr th {\n",
       "        vertical-align: top;\n",
       "    }\n",
       "\n",
       "    .dataframe thead th {\n",
       "        text-align: right;\n",
       "    }\n",
       "</style>\n",
       "<table border=\"1\" class=\"dataframe\">\n",
       "  <thead>\n",
       "    <tr style=\"text-align: right;\">\n",
       "      <th></th>\n",
       "      <th>Test Set Group Size (N)</th>\n",
       "      <th>Predicted Prevalence</th>\n",
       "      <th>Accuracy</th>\n",
       "      <th>FNR</th>\n",
       "      <th>FPR</th>\n",
       "      <th>Recall</th>\n",
       "      <th>AUC</th>\n",
       "    </tr>\n",
       "  </thead>\n",
       "  <tbody>\n",
       "    <tr>\n",
       "      <th>race_white and gender_unknown</th>\n",
       "      <td>2</td>\n",
       "      <td>0.0</td>\n",
       "      <td>1.0</td>\n",
       "      <td>NaN</td>\n",
       "      <td>0.0</td>\n",
       "      <td>NaN</td>\n",
       "      <td>NaN</td>\n",
       "    </tr>\n",
       "  </tbody>\n",
       "</table>\n",
       "</div>"
      ],
      "text/plain": [
       "                               Test Set Group Size (N)  Predicted Prevalence  \\\n",
       "race_white and gender_unknown                        2                   0.0   \n",
       "\n",
       "                               Accuracy  FNR  FPR  Recall  AUC  \n",
       "race_white and gender_unknown       1.0  NaN  0.0     NaN  NaN  "
      ]
     },
     "metadata": {},
     "output_type": "display_data"
    },
    {
     "data": {
      "image/png": "[encoded data removed]",
      "text/plain": [
       "<Figure size 432x288 with 2 Axes>"
      ]
     },
     "metadata": {
      "needs_background": "light"
     },
     "output_type": "display_data"
    },
    {
     "name": "stdout",
     "output_type": "stream",
     "text": [
      "\n",
      "\n"
     ]
    },
    {
     "data": {
      "text/html": [
       "<div>\n",
       "<style scoped>\n",
       "    .dataframe tbody tr th:only-of-type {\n",
       "        vertical-align: middle;\n",
       "    }\n",
       "\n",
       "    .dataframe tbody tr th {\n",
       "        vertical-align: top;\n",
       "    }\n",
       "\n",
       "    .dataframe thead th {\n",
       "        text-align: right;\n",
       "    }\n",
       "</style>\n",
       "<table border=\"1\" class=\"dataframe\">\n",
       "  <thead>\n",
       "    <tr style=\"text-align: right;\">\n",
       "      <th></th>\n",
       "      <th>Test Set Group Size (N)</th>\n",
       "      <th>Predicted Prevalence</th>\n",
       "      <th>Accuracy</th>\n",
       "      <th>FNR</th>\n",
       "      <th>FPR</th>\n",
       "      <th>Recall</th>\n",
       "      <th>AUC</th>\n",
       "    </tr>\n",
       "  </thead>\n",
       "  <tbody>\n",
       "    <tr>\n",
       "      <th>race_white [hispanic or latino] and gender_female</th>\n",
       "      <td>664</td>\n",
       "      <td>0.5633</td>\n",
       "      <td>0.4413</td>\n",
       "      <td>0.2857</td>\n",
       "      <td>0.5616</td>\n",
       "      <td>0.7143</td>\n",
       "      <td>0.7364</td>\n",
       "    </tr>\n",
       "  </tbody>\n",
       "</table>\n",
       "</div>"
      ],
      "text/plain": [
       "                                                   Test Set Group Size (N)  \\\n",
       "race_white [hispanic or latino] and gender_female                      664   \n",
       "\n",
       "                                                   Predicted Prevalence  \\\n",
       "race_white [hispanic or latino] and gender_female                0.5633   \n",
       "\n",
       "                                                   Accuracy     FNR     FPR  \\\n",
       "race_white [hispanic or latino] and gender_female    0.4413  0.2857  0.5616   \n",
       "\n",
       "                                                   Recall     AUC  \n",
       "race_white [hispanic or latino] and gender_female  0.7143  0.7364  "
      ]
     },
     "metadata": {},
     "output_type": "display_data"
    },
    {
     "data": {
      "image/png": "[encoded data removed]",
      "text/plain": [
       "<Figure size 432x288 with 2 Axes>"
      ]
     },
     "metadata": {
      "needs_background": "light"
     },
     "output_type": "display_data"
    },
    {
     "name": "stdout",
     "output_type": "stream",
     "text": [
      "\n",
      "\n"
     ]
    },
    {
     "data": {
      "text/html": [
       "<div>\n",
       "<style scoped>\n",
       "    .dataframe tbody tr th:only-of-type {\n",
       "        vertical-align: middle;\n",
       "    }\n",
       "\n",
       "    .dataframe tbody tr th {\n",
       "        vertical-align: top;\n",
       "    }\n",
       "\n",
       "    .dataframe thead th {\n",
       "        text-align: right;\n",
       "    }\n",
       "</style>\n",
       "<table border=\"1\" class=\"dataframe\">\n",
       "  <thead>\n",
       "    <tr style=\"text-align: right;\">\n",
       "      <th></th>\n",
       "      <th>Test Set Group Size (N)</th>\n",
       "      <th>Predicted Prevalence</th>\n",
       "      <th>Accuracy</th>\n",
       "      <th>FNR</th>\n",
       "      <th>FPR</th>\n",
       "      <th>Recall</th>\n",
       "      <th>AUC</th>\n",
       "    </tr>\n",
       "  </thead>\n",
       "  <tbody>\n",
       "    <tr>\n",
       "      <th>race_white [hispanic or latino] and gender_male</th>\n",
       "      <td>6083</td>\n",
       "      <td>0.1631</td>\n",
       "      <td>0.8379</td>\n",
       "      <td>0.3636</td>\n",
       "      <td>0.1614</td>\n",
       "      <td>0.6364</td>\n",
       "      <td>0.7814</td>\n",
       "    </tr>\n",
       "  </tbody>\n",
       "</table>\n",
       "</div>"
      ],
      "text/plain": [
       "                                                 Test Set Group Size (N)  \\\n",
       "race_white [hispanic or latino] and gender_male                     6083   \n",
       "\n",
       "                                                 Predicted Prevalence  \\\n",
       "race_white [hispanic or latino] and gender_male                0.1631   \n",
       "\n",
       "                                                 Accuracy     FNR     FPR  \\\n",
       "race_white [hispanic or latino] and gender_male    0.8379  0.3636  0.1614   \n",
       "\n",
       "                                                 Recall     AUC  \n",
       "race_white [hispanic or latino] and gender_male  0.6364  0.7814  "
      ]
     },
     "metadata": {},
     "output_type": "display_data"
    },
    {
     "data": {
      "image/png": "[encoded data removed]",
      "text/plain": [
       "<Figure size 432x288 with 2 Axes>"
      ]
     },
     "metadata": {
      "needs_background": "light"
     },
     "output_type": "display_data"
    },
    {
     "name": "stdout",
     "output_type": "stream",
     "text": [
      "\n",
      "\n"
     ]
    },
    {
     "data": {
      "text/html": [
       "<div>\n",
       "<style scoped>\n",
       "    .dataframe tbody tr th:only-of-type {\n",
       "        vertical-align: middle;\n",
       "    }\n",
       "\n",
       "    .dataframe tbody tr th {\n",
       "        vertical-align: top;\n",
       "    }\n",
       "\n",
       "    .dataframe thead th {\n",
       "        text-align: right;\n",
       "    }\n",
       "</style>\n",
       "<table border=\"1\" class=\"dataframe\">\n",
       "  <thead>\n",
       "    <tr style=\"text-align: right;\">\n",
       "      <th></th>\n",
       "      <th>Test Set Group Size (N)</th>\n",
       "      <th>Predicted Prevalence</th>\n",
       "      <th>Accuracy</th>\n",
       "      <th>FNR</th>\n",
       "      <th>FPR</th>\n",
       "      <th>Recall</th>\n",
       "      <th>AUC</th>\n",
       "    </tr>\n",
       "  </thead>\n",
       "  <tbody>\n",
       "    <tr>\n",
       "      <th>race_white [hispanic or latino] and gender_unknown</th>\n",
       "      <td>4</td>\n",
       "      <td>0.0</td>\n",
       "      <td>1.0</td>\n",
       "      <td>NaN</td>\n",
       "      <td>0.0</td>\n",
       "      <td>NaN</td>\n",
       "      <td>NaN</td>\n",
       "    </tr>\n",
       "  </tbody>\n",
       "</table>\n",
       "</div>"
      ],
      "text/plain": [
       "                                                    Test Set Group Size (N)  \\\n",
       "race_white [hispanic or latino] and gender_unknown                        4   \n",
       "\n",
       "                                                    Predicted Prevalence  \\\n",
       "race_white [hispanic or latino] and gender_unknown                   0.0   \n",
       "\n",
       "                                                    Accuracy  FNR  FPR  \\\n",
       "race_white [hispanic or latino] and gender_unknown       1.0  NaN  0.0   \n",
       "\n",
       "                                                    Recall  AUC  \n",
       "race_white [hispanic or latino] and gender_unknown     NaN  NaN  "
      ]
     },
     "metadata": {},
     "output_type": "display_data"
    },
    {
     "data": {
      "image/png": "[encoded data removed]",
      "text/plain": [
       "<Figure size 432x288 with 2 Axes>"
      ]
     },
     "metadata": {
      "needs_background": "light"
     },
     "output_type": "display_data"
    },
    {
     "name": "stdout",
     "output_type": "stream",
     "text": [
      "\n",
      "\n"
     ]
    },
    {
     "data": {
      "text/html": [
       "<div>\n",
       "<style scoped>\n",
       "    .dataframe tbody tr th:only-of-type {\n",
       "        vertical-align: middle;\n",
       "    }\n",
       "\n",
       "    .dataframe tbody tr th {\n",
       "        vertical-align: top;\n",
       "    }\n",
       "\n",
       "    .dataframe thead th {\n",
       "        text-align: right;\n",
       "    }\n",
       "</style>\n",
       "<table border=\"1\" class=\"dataframe\">\n",
       "  <thead>\n",
       "    <tr style=\"text-align: right;\">\n",
       "      <th></th>\n",
       "      <th>Test Set Group Size (N)</th>\n",
       "      <th>Predicted Prevalence</th>\n",
       "      <th>Accuracy</th>\n",
       "      <th>FNR</th>\n",
       "      <th>FPR</th>\n",
       "      <th>Recall</th>\n",
       "      <th>AUC</th>\n",
       "    </tr>\n",
       "  </thead>\n",
       "  <tbody>\n",
       "    <tr>\n",
       "      <th>race_white/black [hispanic or latino] and gender_female</th>\n",
       "      <td>28</td>\n",
       "      <td>0.6786</td>\n",
       "      <td>0.3929</td>\n",
       "      <td>0.0</td>\n",
       "      <td>0.6538</td>\n",
       "      <td>1.0</td>\n",
       "      <td>1.0</td>\n",
       "    </tr>\n",
       "  </tbody>\n",
       "</table>\n",
       "</div>"
      ],
      "text/plain": [
       "                                                    Test Set Group Size (N)  \\\n",
       "race_white/black [hispanic or latino] and gende...                       28   \n",
       "\n",
       "                                                    Predicted Prevalence  \\\n",
       "race_white/black [hispanic or latino] and gende...                0.6786   \n",
       "\n",
       "                                                    Accuracy  FNR     FPR  \\\n",
       "race_white/black [hispanic or latino] and gende...    0.3929  0.0  0.6538   \n",
       "\n",
       "                                                    Recall  AUC  \n",
       "race_white/black [hispanic or latino] and gende...     1.0  1.0  "
      ]
     },
     "metadata": {},
     "output_type": "display_data"
    },
    {
     "data": {
      "image/png": "[encoded data removed]",
      "text/plain": [
       "<Figure size 432x288 with 2 Axes>"
      ]
     },
     "metadata": {
      "needs_background": "light"
     },
     "output_type": "display_data"
    },
    {
     "name": "stdout",
     "output_type": "stream",
     "text": [
      "\n",
      "\n"
     ]
    },
    {
     "data": {
      "text/html": [
       "<div>\n",
       "<style scoped>\n",
       "    .dataframe tbody tr th:only-of-type {\n",
       "        vertical-align: middle;\n",
       "    }\n",
       "\n",
       "    .dataframe tbody tr th {\n",
       "        vertical-align: top;\n",
       "    }\n",
       "\n",
       "    .dataframe thead th {\n",
       "        text-align: right;\n",
       "    }\n",
       "</style>\n",
       "<table border=\"1\" class=\"dataframe\">\n",
       "  <thead>\n",
       "    <tr style=\"text-align: right;\">\n",
       "      <th></th>\n",
       "      <th>Test Set Group Size (N)</th>\n",
       "      <th>Predicted Prevalence</th>\n",
       "      <th>Accuracy</th>\n",
       "      <th>FNR</th>\n",
       "      <th>FPR</th>\n",
       "      <th>Recall</th>\n",
       "      <th>AUC</th>\n",
       "    </tr>\n",
       "  </thead>\n",
       "  <tbody>\n",
       "    <tr>\n",
       "      <th>race_white/black [hispanic or latino] and gender_male</th>\n",
       "      <td>213</td>\n",
       "      <td>0.169</td>\n",
       "      <td>0.831</td>\n",
       "      <td>NaN</td>\n",
       "      <td>0.169</td>\n",
       "      <td>NaN</td>\n",
       "      <td>NaN</td>\n",
       "    </tr>\n",
       "  </tbody>\n",
       "</table>\n",
       "</div>"
      ],
      "text/plain": [
       "                                                    Test Set Group Size (N)  \\\n",
       "race_white/black [hispanic or latino] and gende...                      213   \n",
       "\n",
       "                                                    Predicted Prevalence  \\\n",
       "race_white/black [hispanic or latino] and gende...                 0.169   \n",
       "\n",
       "                                                    Accuracy  FNR    FPR  \\\n",
       "race_white/black [hispanic or latino] and gende...     0.831  NaN  0.169   \n",
       "\n",
       "                                                    Recall  AUC  \n",
       "race_white/black [hispanic or latino] and gende...     NaN  NaN  "
      ]
     },
     "metadata": {},
     "output_type": "display_data"
    },
    {
     "data": {
      "image/png": "[encoded data removed]",
      "text/plain": [
       "<Figure size 432x288 with 2 Axes>"
      ]
     },
     "metadata": {
      "needs_background": "light"
     },
     "output_type": "display_data"
    },
    {
     "name": "stdout",
     "output_type": "stream",
     "text": [
      "\n",
      "\n",
      "race_white/black [hispanic or latino] and gender_unknown \n",
      "\t No members of this subgroup present in the test set. \n",
      "\n"
     ]
    },
    {
     "data": {
      "text/html": [
       "<div>\n",
       "<style scoped>\n",
       "    .dataframe tbody tr th:only-of-type {\n",
       "        vertical-align: middle;\n",
       "    }\n",
       "\n",
       "    .dataframe tbody tr th {\n",
       "        vertical-align: top;\n",
       "    }\n",
       "\n",
       "    .dataframe thead th {\n",
       "        text-align: right;\n",
       "    }\n",
       "</style>\n",
       "<table border=\"1\" class=\"dataframe\">\n",
       "  <thead>\n",
       "    <tr style=\"text-align: right;\">\n",
       "      <th></th>\n",
       "      <th>Test Set Group Size (N)</th>\n",
       "      <th>Predicted Prevalence</th>\n",
       "      <th>Accuracy</th>\n",
       "      <th>FNR</th>\n",
       "      <th>FPR</th>\n",
       "      <th>Recall</th>\n",
       "      <th>AUC</th>\n",
       "    </tr>\n",
       "  </thead>\n",
       "  <tbody>\n",
       "    <tr>\n",
       "      <th>Overall</th>\n",
       "      <td>43363</td>\n",
       "      <td>0.2384</td>\n",
       "      <td>0.7651</td>\n",
       "      <td>0.2077</td>\n",
       "      <td>0.2350</td>\n",
       "      <td>0.7923</td>\n",
       "      <td>0.8411</td>\n",
       "    </tr>\n",
       "    <tr>\n",
       "      <th>race_american indian and gender_female</th>\n",
       "      <td>3</td>\n",
       "      <td>1.0000</td>\n",
       "      <td>0.0000</td>\n",
       "      <td>NaN</td>\n",
       "      <td>1.0000</td>\n",
       "      <td>NaN</td>\n",
       "      <td>NaN</td>\n",
       "    </tr>\n",
       "    <tr>\n",
       "      <th>race_american indian and gender_male</th>\n",
       "      <td>4</td>\n",
       "      <td>0.5000</td>\n",
       "      <td>0.5000</td>\n",
       "      <td>NaN</td>\n",
       "      <td>0.5000</td>\n",
       "      <td>NaN</td>\n",
       "      <td>NaN</td>\n",
       "    </tr>\n",
       "    <tr>\n",
       "      <th>race_asian and gender_female</th>\n",
       "      <td>39</td>\n",
       "      <td>0.6923</td>\n",
       "      <td>0.3333</td>\n",
       "      <td>0.0000</td>\n",
       "      <td>0.6842</td>\n",
       "      <td>1.0000</td>\n",
       "      <td>0.9474</td>\n",
       "    </tr>\n",
       "    <tr>\n",
       "      <th>race_asian and gender_male</th>\n",
       "      <td>185</td>\n",
       "      <td>0.2432</td>\n",
       "      <td>0.7676</td>\n",
       "      <td>0.0000</td>\n",
       "      <td>0.2350</td>\n",
       "      <td>1.0000</td>\n",
       "      <td>0.8634</td>\n",
       "    </tr>\n",
       "    <tr>\n",
       "      <th>race_biracial and gender_male</th>\n",
       "      <td>5</td>\n",
       "      <td>0.2000</td>\n",
       "      <td>0.8000</td>\n",
       "      <td>NaN</td>\n",
       "      <td>0.2000</td>\n",
       "      <td>NaN</td>\n",
       "      <td>NaN</td>\n",
       "    </tr>\n",
       "    <tr>\n",
       "      <th>race_black and gender_female</th>\n",
       "      <td>3424</td>\n",
       "      <td>0.6133</td>\n",
       "      <td>0.3992</td>\n",
       "      <td>0.0426</td>\n",
       "      <td>0.6085</td>\n",
       "      <td>0.9574</td>\n",
       "      <td>0.8187</td>\n",
       "    </tr>\n",
       "    <tr>\n",
       "      <th>race_black and gender_male</th>\n",
       "      <td>25824</td>\n",
       "      <td>0.1616</td>\n",
       "      <td>0.8403</td>\n",
       "      <td>0.2975</td>\n",
       "      <td>0.1590</td>\n",
       "      <td>0.7025</td>\n",
       "      <td>0.8359</td>\n",
       "    </tr>\n",
       "    <tr>\n",
       "      <th>race_black and gender_unknown</th>\n",
       "      <td>21</td>\n",
       "      <td>0.0000</td>\n",
       "      <td>1.0000</td>\n",
       "      <td>NaN</td>\n",
       "      <td>0.0000</td>\n",
       "      <td>NaN</td>\n",
       "      <td>NaN</td>\n",
       "    </tr>\n",
       "    <tr>\n",
       "      <th>race_hispanic and gender_female</th>\n",
       "      <td>45</td>\n",
       "      <td>0.4889</td>\n",
       "      <td>0.5333</td>\n",
       "      <td>0.0000</td>\n",
       "      <td>0.4773</td>\n",
       "      <td>1.0000</td>\n",
       "      <td>0.9318</td>\n",
       "    </tr>\n",
       "    <tr>\n",
       "      <th>race_hispanic and gender_male</th>\n",
       "      <td>401</td>\n",
       "      <td>0.0648</td>\n",
       "      <td>0.9352</td>\n",
       "      <td>NaN</td>\n",
       "      <td>0.0648</td>\n",
       "      <td>NaN</td>\n",
       "      <td>NaN</td>\n",
       "    </tr>\n",
       "    <tr>\n",
       "      <th>race_unknown and gender_female</th>\n",
       "      <td>34</td>\n",
       "      <td>0.5294</td>\n",
       "      <td>0.4706</td>\n",
       "      <td>NaN</td>\n",
       "      <td>0.5294</td>\n",
       "      <td>NaN</td>\n",
       "      <td>NaN</td>\n",
       "    </tr>\n",
       "    <tr>\n",
       "      <th>race_unknown and gender_male</th>\n",
       "      <td>178</td>\n",
       "      <td>0.1236</td>\n",
       "      <td>0.8764</td>\n",
       "      <td>NaN</td>\n",
       "      <td>0.1236</td>\n",
       "      <td>NaN</td>\n",
       "      <td>NaN</td>\n",
       "    </tr>\n",
       "    <tr>\n",
       "      <th>race_unknown and gender_unknown</th>\n",
       "      <td>208</td>\n",
       "      <td>0.1731</td>\n",
       "      <td>0.8269</td>\n",
       "      <td>NaN</td>\n",
       "      <td>0.1731</td>\n",
       "      <td>NaN</td>\n",
       "      <td>NaN</td>\n",
       "    </tr>\n",
       "    <tr>\n",
       "      <th>race_white and gender_female</th>\n",
       "      <td>1345</td>\n",
       "      <td>0.6431</td>\n",
       "      <td>0.3651</td>\n",
       "      <td>0.0769</td>\n",
       "      <td>0.6404</td>\n",
       "      <td>0.9231</td>\n",
       "      <td>0.8544</td>\n",
       "    </tr>\n",
       "    <tr>\n",
       "      <th>race_white and gender_male</th>\n",
       "      <td>4653</td>\n",
       "      <td>0.3389</td>\n",
       "      <td>0.6684</td>\n",
       "      <td>0.1136</td>\n",
       "      <td>0.3337</td>\n",
       "      <td>0.8864</td>\n",
       "      <td>0.8550</td>\n",
       "    </tr>\n",
       "    <tr>\n",
       "      <th>race_white and gender_unknown</th>\n",
       "      <td>2</td>\n",
       "      <td>0.0000</td>\n",
       "      <td>1.0000</td>\n",
       "      <td>NaN</td>\n",
       "      <td>0.0000</td>\n",
       "      <td>NaN</td>\n",
       "      <td>NaN</td>\n",
       "    </tr>\n",
       "    <tr>\n",
       "      <th>race_white [hispanic or latino] and gender_female</th>\n",
       "      <td>664</td>\n",
       "      <td>0.5633</td>\n",
       "      <td>0.4413</td>\n",
       "      <td>0.2857</td>\n",
       "      <td>0.5616</td>\n",
       "      <td>0.7143</td>\n",
       "      <td>0.7364</td>\n",
       "    </tr>\n",
       "    <tr>\n",
       "      <th>race_white [hispanic or latino] and gender_male</th>\n",
       "      <td>6083</td>\n",
       "      <td>0.1631</td>\n",
       "      <td>0.8379</td>\n",
       "      <td>0.3636</td>\n",
       "      <td>0.1614</td>\n",
       "      <td>0.6364</td>\n",
       "      <td>0.7814</td>\n",
       "    </tr>\n",
       "    <tr>\n",
       "      <th>race_white [hispanic or latino] and gender_unknown</th>\n",
       "      <td>4</td>\n",
       "      <td>0.0000</td>\n",
       "      <td>1.0000</td>\n",
       "      <td>NaN</td>\n",
       "      <td>0.0000</td>\n",
       "      <td>NaN</td>\n",
       "      <td>NaN</td>\n",
       "    </tr>\n",
       "    <tr>\n",
       "      <th>race_white/black [hispanic or latino] and gender_female</th>\n",
       "      <td>28</td>\n",
       "      <td>0.6786</td>\n",
       "      <td>0.3929</td>\n",
       "      <td>0.0000</td>\n",
       "      <td>0.6538</td>\n",
       "      <td>1.0000</td>\n",
       "      <td>1.0000</td>\n",
       "    </tr>\n",
       "    <tr>\n",
       "      <th>race_white/black [hispanic or latino] and gender_male</th>\n",
       "      <td>213</td>\n",
       "      <td>0.1690</td>\n",
       "      <td>0.8310</td>\n",
       "      <td>NaN</td>\n",
       "      <td>0.1690</td>\n",
       "      <td>NaN</td>\n",
       "      <td>NaN</td>\n",
       "    </tr>\n",
       "  </tbody>\n",
       "</table>\n",
       "</div>"
      ],
      "text/plain": [
       "                                                    Test Set Group Size (N)  \\\n",
       "Overall                                                               43363   \n",
       "race_american indian and gender_female                                    3   \n",
       "race_american indian and gender_male                                      4   \n",
       "race_asian and gender_female                                             39   \n",
       "race_asian and gender_male                                              185   \n",
       "race_biracial and gender_male                                             5   \n",
       "race_black and gender_female                                           3424   \n",
       "race_black and gender_male                                            25824   \n",
       "race_black and gender_unknown                                            21   \n",
       "race_hispanic and gender_female                                          45   \n",
       "race_hispanic and gender_male                                           401   \n",
       "race_unknown and gender_female                                           34   \n",
       "race_unknown and gender_male                                            178   \n",
       "race_unknown and gender_unknown                                         208   \n",
       "race_white and gender_female                                           1345   \n",
       "race_white and gender_male                                             4653   \n",
       "race_white and gender_unknown                                             2   \n",
       "race_white [hispanic or latino] and gender_female                       664   \n",
       "race_white [hispanic or latino] and gender_male                        6083   \n",
       "race_white [hispanic or latino] and gender_unknown                        4   \n",
       "race_white/black [hispanic or latino] and gende...                       28   \n",
       "race_white/black [hispanic or latino] and gende...                      213   \n",
       "\n",
       "                                                    Predicted Prevalence  \\\n",
       "Overall                                                           0.2384   \n",
       "race_american indian and gender_female                            1.0000   \n",
       "race_american indian and gender_male                              0.5000   \n",
       "race_asian and gender_female                                      0.6923   \n",
       "race_asian and gender_male                                        0.2432   \n",
       "race_biracial and gender_male                                     0.2000   \n",
       "race_black and gender_female                                      0.6133   \n",
       "race_black and gender_male                                        0.1616   \n",
       "race_black and gender_unknown                                     0.0000   \n",
       "race_hispanic and gender_female                                   0.4889   \n",
       "race_hispanic and gender_male                                     0.0648   \n",
       "race_unknown and gender_female                                    0.5294   \n",
       "race_unknown and gender_male                                      0.1236   \n",
       "race_unknown and gender_unknown                                   0.1731   \n",
       "race_white and gender_female                                      0.6431   \n",
       "race_white and gender_male                                        0.3389   \n",
       "race_white and gender_unknown                                     0.0000   \n",
       "race_white [hispanic or latino] and gender_female                 0.5633   \n",
       "race_white [hispanic or latino] and gender_male                   0.1631   \n",
       "race_white [hispanic or latino] and gender_unknown                0.0000   \n",
       "race_white/black [hispanic or latino] and gende...                0.6786   \n",
       "race_white/black [hispanic or latino] and gende...                0.1690   \n",
       "\n",
       "                                                    Accuracy     FNR     FPR  \\\n",
       "Overall                                               0.7651  0.2077  0.2350   \n",
       "race_american indian and gender_female                0.0000     NaN  1.0000   \n",
       "race_american indian and gender_male                  0.5000     NaN  0.5000   \n",
       "race_asian and gender_female                          0.3333  0.0000  0.6842   \n",
       "race_asian and gender_male                            0.7676  0.0000  0.2350   \n",
       "race_biracial and gender_male                         0.8000     NaN  0.2000   \n",
       "race_black and gender_female                          0.3992  0.0426  0.6085   \n",
       "race_black and gender_male                            0.8403  0.2975  0.1590   \n",
       "race_black and gender_unknown                         1.0000     NaN  0.0000   \n",
       "race_hispanic and gender_female                       0.5333  0.0000  0.4773   \n",
       "race_hispanic and gender_male                         0.9352     NaN  0.0648   \n",
       "race_unknown and gender_female                        0.4706     NaN  0.5294   \n",
       "race_unknown and gender_male                          0.8764     NaN  0.1236   \n",
       "race_unknown and gender_unknown                       0.8269     NaN  0.1731   \n",
       "race_white and gender_female                          0.3651  0.0769  0.6404   \n",
       "race_white and gender_male                            0.6684  0.1136  0.3337   \n",
       "race_white and gender_unknown                         1.0000     NaN  0.0000   \n",
       "race_white [hispanic or latino] and gender_female     0.4413  0.2857  0.5616   \n",
       "race_white [hispanic or latino] and gender_male       0.8379  0.3636  0.1614   \n",
       "race_white [hispanic or latino] and gender_unknown    1.0000     NaN  0.0000   \n",
       "race_white/black [hispanic or latino] and gende...    0.3929  0.0000  0.6538   \n",
       "race_white/black [hispanic or latino] and gende...    0.8310     NaN  0.1690   \n",
       "\n",
       "                                                    Recall     AUC  \n",
       "Overall                                             0.7923  0.8411  \n",
       "race_american indian and gender_female                 NaN     NaN  \n",
       "race_american indian and gender_male                   NaN     NaN  \n",
       "race_asian and gender_female                        1.0000  0.9474  \n",
       "race_asian and gender_male                          1.0000  0.8634  \n",
       "race_biracial and gender_male                          NaN     NaN  \n",
       "race_black and gender_female                        0.9574  0.8187  \n",
       "race_black and gender_male                          0.7025  0.8359  \n",
       "race_black and gender_unknown                          NaN     NaN  \n",
       "race_hispanic and gender_female                     1.0000  0.9318  \n",
       "race_hispanic and gender_male                          NaN     NaN  \n",
       "race_unknown and gender_female                         NaN     NaN  \n",
       "race_unknown and gender_male                           NaN     NaN  \n",
       "race_unknown and gender_unknown                        NaN     NaN  \n",
       "race_white and gender_female                        0.9231  0.8544  \n",
       "race_white and gender_male                          0.8864  0.8550  \n",
       "race_white and gender_unknown                          NaN     NaN  \n",
       "race_white [hispanic or latino] and gender_female   0.7143  0.7364  \n",
       "race_white [hispanic or latino] and gender_male     0.6364  0.7814  \n",
       "race_white [hispanic or latino] and gender_unknown     NaN     NaN  \n",
       "race_white/black [hispanic or latino] and gende...  1.0000  1.0000  \n",
       "race_white/black [hispanic or latino] and gende...     NaN     NaN  "
      ]
     },
     "metadata": {},
     "output_type": "display_data"
    },
    {
     "name": "stdout",
     "output_type": "stream",
     "text": [
      "\n",
      "\n"
     ]
    }
   ],
   "source": [
    "race_and_gender_stats = subgroup_stats('race', 'gender')"
   ]
  },
  {
   "cell_type": "code",
   "execution_count": null,
   "metadata": {},
   "outputs": [],
   "source": []
  }
 ],
 "metadata": {
  "kernelspec": {
   "display_name": "Python 3",
   "language": "python",
   "name": "python3"
  },
  "language_info": {
   "codemirror_mode": {
    "name": "ipython",
    "version": 3
   },
   "file_extension": ".py",
   "mimetype": "text/x-python",
   "name": "python",
   "nbconvert_exporter": "python",
   "pygments_lexer": "ipython3",
   "version": "3.7.4"
  }
 },
 "nbformat": 4,
 "nbformat_minor": 4
}
